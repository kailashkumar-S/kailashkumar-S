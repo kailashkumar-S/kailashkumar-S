{
  "metadata": {
    "kernelspec": {
      "language": "python",
      "display_name": "Python 3",
      "name": "python3"
    },
    "language_info": {
      "pygments_lexer": "ipython3",
      "nbconvert_exporter": "python",
      "version": "3.6.4",
      "file_extension": ".py",
      "codemirror_mode": {
        "name": "ipython",
        "version": 3
      },
      "name": "python",
      "mimetype": "text/x-python"
    },
    "colab": {
      "provenance": [],
      "include_colab_link": true
    }
  },
  "nbformat_minor": 0,
  "nbformat": 4,
  "cells": [
    {
      "cell_type": "markdown",
      "metadata": {
        "id": "view-in-github",
        "colab_type": "text"
      },
      "source": [
        "<a href=\"https://colab.research.google.com/github/kailashkumar-S/kailashkumar-S/blob/main/Historical_VaR_analysis.ipynb\" target=\"_parent\"><img src=\"https://colab.research.google.com/assets/colab-badge.svg\" alt=\"Open In Colab\"/></a>"
      ]
    },
    {
      "cell_type": "markdown",
      "source": [
        "#### Historical Var Analysis\n",
        "\n",
        "##### What is VaR?\n",
        "Value at risk (VaR) is a measure of the risk of loss of investment/Capital. It estimates how much a set of investments might lose (with a given probability), given normal market conditions, in a set time period such as a day. VaR is typically used by firms and regulators in the financial industry to gauge the amount of assets needed to cover possible losses.\n",
        "\n",
        "VaR has four main uses in finance:\n",
        "- risk management\n",
        "- financial control\n",
        "- financial reporting\n",
        "- computing regulatory capital.\n",
        "\n",
        "A typical VaR curve:\n",
        "\n",
        "![VaR curve](https://www.investopedia.com/thmb/-eYsp4xWm_s3y65C0T8cqvCeEsQ=/750x0/filters:no_upscale():max_bytes(150000):strip_icc()/Variance-CovarianceMethod5-5bde86ce7819405ca63f26aa275a4bd2.png)"
      ],
      "metadata": {
        "id": "EbSQPw_hSpT5"
      }
    },
    {
      "cell_type": "code",
      "source": [
        "\n",
        "!pip install yfinance"
      ],
      "metadata": {
        "execution": {
          "iopub.status.busy": "2023-10-22T14:05:24.580186Z",
          "iopub.execute_input": "2023-10-22T14:05:24.580678Z",
          "iopub.status.idle": "2023-10-22T14:06:05.426437Z",
          "shell.execute_reply.started": "2023-10-22T14:05:24.580643Z",
          "shell.execute_reply": "2023-10-22T14:06:05.425212Z"
        },
        "trusted": true,
        "id": "4nFMxfyBSpUD",
        "outputId": "97a66a66-eb59-4341-92a9-1d5ed3f5262f",
        "colab": {
          "base_uri": "https://localhost:8080/"
        }
      },
      "execution_count": 1,
      "outputs": [
        {
          "output_type": "stream",
          "name": "stdout",
          "text": [
            "Requirement already satisfied: yfinance in /usr/local/lib/python3.10/dist-packages (0.2.40)\n",
            "Requirement already satisfied: pandas>=1.3.0 in /usr/local/lib/python3.10/dist-packages (from yfinance) (2.0.3)\n",
            "Requirement already satisfied: numpy>=1.16.5 in /usr/local/lib/python3.10/dist-packages (from yfinance) (1.25.2)\n",
            "Requirement already satisfied: requests>=2.31 in /usr/local/lib/python3.10/dist-packages (from yfinance) (2.31.0)\n",
            "Requirement already satisfied: multitasking>=0.0.7 in /usr/local/lib/python3.10/dist-packages (from yfinance) (0.0.11)\n",
            "Requirement already satisfied: lxml>=4.9.1 in /usr/local/lib/python3.10/dist-packages (from yfinance) (4.9.4)\n",
            "Requirement already satisfied: platformdirs>=2.0.0 in /usr/local/lib/python3.10/dist-packages (from yfinance) (4.2.2)\n",
            "Requirement already satisfied: pytz>=2022.5 in /usr/local/lib/python3.10/dist-packages (from yfinance) (2023.4)\n",
            "Requirement already satisfied: frozendict>=2.3.4 in /usr/local/lib/python3.10/dist-packages (from yfinance) (2.4.4)\n",
            "Requirement already satisfied: peewee>=3.16.2 in /usr/local/lib/python3.10/dist-packages (from yfinance) (3.17.5)\n",
            "Requirement already satisfied: beautifulsoup4>=4.11.1 in /usr/local/lib/python3.10/dist-packages (from yfinance) (4.12.3)\n",
            "Requirement already satisfied: html5lib>=1.1 in /usr/local/lib/python3.10/dist-packages (from yfinance) (1.1)\n",
            "Requirement already satisfied: soupsieve>1.2 in /usr/local/lib/python3.10/dist-packages (from beautifulsoup4>=4.11.1->yfinance) (2.5)\n",
            "Requirement already satisfied: six>=1.9 in /usr/local/lib/python3.10/dist-packages (from html5lib>=1.1->yfinance) (1.16.0)\n",
            "Requirement already satisfied: webencodings in /usr/local/lib/python3.10/dist-packages (from html5lib>=1.1->yfinance) (0.5.1)\n",
            "Requirement already satisfied: python-dateutil>=2.8.2 in /usr/local/lib/python3.10/dist-packages (from pandas>=1.3.0->yfinance) (2.8.2)\n",
            "Requirement already satisfied: tzdata>=2022.1 in /usr/local/lib/python3.10/dist-packages (from pandas>=1.3.0->yfinance) (2024.1)\n",
            "Requirement already satisfied: charset-normalizer<4,>=2 in /usr/local/lib/python3.10/dist-packages (from requests>=2.31->yfinance) (3.3.2)\n",
            "Requirement already satisfied: idna<4,>=2.5 in /usr/local/lib/python3.10/dist-packages (from requests>=2.31->yfinance) (3.7)\n",
            "Requirement already satisfied: urllib3<3,>=1.21.1 in /usr/local/lib/python3.10/dist-packages (from requests>=2.31->yfinance) (2.0.7)\n",
            "Requirement already satisfied: certifi>=2017.4.17 in /usr/local/lib/python3.10/dist-packages (from requests>=2.31->yfinance) (2024.6.2)\n"
          ]
        }
      ]
    },
    {
      "cell_type": "code",
      "source": [
        "\n",
        "import datetime as dt\n",
        "import pandas as pd\n",
        "import numpy as np\n",
        "\n",
        "from pandas_datareader import data as pdr\n",
        "import yfinance as yf\n",
        "import plotly.offline as offline\n",
        "import plotly.graph_objects as go\n",
        "from plotly.subplots import make_subplots\n",
        "\n",
        "offline.init_notebook_mode(connected=True)\n",
        "pd.options.plotting.backend = 'plotly'\n"
      ],
      "metadata": {
        "execution": {
          "iopub.status.busy": "2023-10-22T14:06:05.429776Z",
          "iopub.execute_input": "2023-10-22T14:06:05.430169Z",
          "iopub.status.idle": "2023-10-22T14:06:06.586199Z",
          "shell.execute_reply.started": "2023-10-22T14:06:05.430132Z",
          "shell.execute_reply": "2023-10-22T14:06:06.584993Z"
        },
        "trusted": true,
        "id": "4dSpmNriSpUI",
        "colab": {
          "base_uri": "https://localhost:8080/",
          "height": 17
        },
        "outputId": "bed21029-b305-487e-be0e-c58564dd0f28"
      },
      "execution_count": 2,
      "outputs": [
        {
          "output_type": "display_data",
          "data": {
            "text/html": [
              "        <script type=\"text/javascript\">\n",
              "        window.PlotlyConfig = {MathJaxConfig: 'local'};\n",
              "        if (window.MathJax && window.MathJax.Hub && window.MathJax.Hub.Config) {window.MathJax.Hub.Config({SVG: {font: \"STIX-Web\"}});}\n",
              "        if (typeof require !== 'undefined') {\n",
              "        require.undef(\"plotly\");\n",
              "        requirejs.config({\n",
              "            paths: {\n",
              "                'plotly': ['https://cdn.plot.ly/plotly-2.24.1.min']\n",
              "            }\n",
              "        });\n",
              "        require(['plotly'], function(Plotly) {\n",
              "            window._Plotly = Plotly;\n",
              "        });\n",
              "        }\n",
              "        </script>\n",
              "        "
            ]
          },
          "metadata": {}
        }
      ]
    },
    {
      "cell_type": "code",
      "source": [
        "end = dt.datetime.now()\n",
        "start = dt.datetime(2023,1,1)\n",
        "\n",
        "df = yf.download('SPY', start, end) # Getting the data of S&P 500 Index\n",
        "df.head()"
      ],
      "metadata": {
        "execution": {
          "iopub.status.busy": "2023-10-22T14:06:06.587596Z",
          "iopub.execute_input": "2023-10-22T14:06:06.588149Z",
          "iopub.status.idle": "2023-10-22T14:06:07.017984Z",
          "shell.execute_reply.started": "2023-10-22T14:06:06.588115Z",
          "shell.execute_reply": "2023-10-22T14:06:07.016716Z"
        },
        "trusted": true,
        "id": "7AksDAI6SpUQ",
        "colab": {
          "base_uri": "https://localhost:8080/",
          "height": 255
        },
        "outputId": "06e9bf68-5f11-49d9-977b-b58f17ac6d23"
      },
      "execution_count": 3,
      "outputs": [
        {
          "output_type": "stream",
          "name": "stderr",
          "text": [
            "\r[*********************100%%**********************]  1 of 1 completed\n"
          ]
        },
        {
          "output_type": "execute_result",
          "data": {
            "text/plain": [
              "                  Open        High         Low       Close   Adj Close  \\\n",
              "Date                                                                     \n",
              "2023-01-03  384.369995  386.429993  377.829987  380.820007  373.956818   \n",
              "2023-01-04  383.179993  385.880005  380.000000  383.760010  376.843842   \n",
              "2023-01-05  381.720001  381.839996  378.760010  379.380005  372.542755   \n",
              "2023-01-06  382.609985  389.250000  379.410004  388.079987  381.085938   \n",
              "2023-01-09  390.369995  393.700012  387.670013  387.859985  380.869934   \n",
              "\n",
              "               Volume  \n",
              "Date                   \n",
              "2023-01-03   74850700  \n",
              "2023-01-04   85934100  \n",
              "2023-01-05   76970500  \n",
              "2023-01-06  104189600  \n",
              "2023-01-09   73978100  "
            ],
            "text/html": [
              "\n",
              "  <div id=\"df-c8dbf1e2-1bea-46e4-892f-978f9b5e0c8e\" class=\"colab-df-container\">\n",
              "    <div>\n",
              "<style scoped>\n",
              "    .dataframe tbody tr th:only-of-type {\n",
              "        vertical-align: middle;\n",
              "    }\n",
              "\n",
              "    .dataframe tbody tr th {\n",
              "        vertical-align: top;\n",
              "    }\n",
              "\n",
              "    .dataframe thead th {\n",
              "        text-align: right;\n",
              "    }\n",
              "</style>\n",
              "<table border=\"1\" class=\"dataframe\">\n",
              "  <thead>\n",
              "    <tr style=\"text-align: right;\">\n",
              "      <th></th>\n",
              "      <th>Open</th>\n",
              "      <th>High</th>\n",
              "      <th>Low</th>\n",
              "      <th>Close</th>\n",
              "      <th>Adj Close</th>\n",
              "      <th>Volume</th>\n",
              "    </tr>\n",
              "    <tr>\n",
              "      <th>Date</th>\n",
              "      <th></th>\n",
              "      <th></th>\n",
              "      <th></th>\n",
              "      <th></th>\n",
              "      <th></th>\n",
              "      <th></th>\n",
              "    </tr>\n",
              "  </thead>\n",
              "  <tbody>\n",
              "    <tr>\n",
              "      <th>2023-01-03</th>\n",
              "      <td>384.369995</td>\n",
              "      <td>386.429993</td>\n",
              "      <td>377.829987</td>\n",
              "      <td>380.820007</td>\n",
              "      <td>373.956818</td>\n",
              "      <td>74850700</td>\n",
              "    </tr>\n",
              "    <tr>\n",
              "      <th>2023-01-04</th>\n",
              "      <td>383.179993</td>\n",
              "      <td>385.880005</td>\n",
              "      <td>380.000000</td>\n",
              "      <td>383.760010</td>\n",
              "      <td>376.843842</td>\n",
              "      <td>85934100</td>\n",
              "    </tr>\n",
              "    <tr>\n",
              "      <th>2023-01-05</th>\n",
              "      <td>381.720001</td>\n",
              "      <td>381.839996</td>\n",
              "      <td>378.760010</td>\n",
              "      <td>379.380005</td>\n",
              "      <td>372.542755</td>\n",
              "      <td>76970500</td>\n",
              "    </tr>\n",
              "    <tr>\n",
              "      <th>2023-01-06</th>\n",
              "      <td>382.609985</td>\n",
              "      <td>389.250000</td>\n",
              "      <td>379.410004</td>\n",
              "      <td>388.079987</td>\n",
              "      <td>381.085938</td>\n",
              "      <td>104189600</td>\n",
              "    </tr>\n",
              "    <tr>\n",
              "      <th>2023-01-09</th>\n",
              "      <td>390.369995</td>\n",
              "      <td>393.700012</td>\n",
              "      <td>387.670013</td>\n",
              "      <td>387.859985</td>\n",
              "      <td>380.869934</td>\n",
              "      <td>73978100</td>\n",
              "    </tr>\n",
              "  </tbody>\n",
              "</table>\n",
              "</div>\n",
              "    <div class=\"colab-df-buttons\">\n",
              "\n",
              "  <div class=\"colab-df-container\">\n",
              "    <button class=\"colab-df-convert\" onclick=\"convertToInteractive('df-c8dbf1e2-1bea-46e4-892f-978f9b5e0c8e')\"\n",
              "            title=\"Convert this dataframe to an interactive table.\"\n",
              "            style=\"display:none;\">\n",
              "\n",
              "  <svg xmlns=\"http://www.w3.org/2000/svg\" height=\"24px\" viewBox=\"0 -960 960 960\">\n",
              "    <path d=\"M120-120v-720h720v720H120Zm60-500h600v-160H180v160Zm220 220h160v-160H400v160Zm0 220h160v-160H400v160ZM180-400h160v-160H180v160Zm440 0h160v-160H620v160ZM180-180h160v-160H180v160Zm440 0h160v-160H620v160Z\"/>\n",
              "  </svg>\n",
              "    </button>\n",
              "\n",
              "  <style>\n",
              "    .colab-df-container {\n",
              "      display:flex;\n",
              "      gap: 12px;\n",
              "    }\n",
              "\n",
              "    .colab-df-convert {\n",
              "      background-color: #E8F0FE;\n",
              "      border: none;\n",
              "      border-radius: 50%;\n",
              "      cursor: pointer;\n",
              "      display: none;\n",
              "      fill: #1967D2;\n",
              "      height: 32px;\n",
              "      padding: 0 0 0 0;\n",
              "      width: 32px;\n",
              "    }\n",
              "\n",
              "    .colab-df-convert:hover {\n",
              "      background-color: #E2EBFA;\n",
              "      box-shadow: 0px 1px 2px rgba(60, 64, 67, 0.3), 0px 1px 3px 1px rgba(60, 64, 67, 0.15);\n",
              "      fill: #174EA6;\n",
              "    }\n",
              "\n",
              "    .colab-df-buttons div {\n",
              "      margin-bottom: 4px;\n",
              "    }\n",
              "\n",
              "    [theme=dark] .colab-df-convert {\n",
              "      background-color: #3B4455;\n",
              "      fill: #D2E3FC;\n",
              "    }\n",
              "\n",
              "    [theme=dark] .colab-df-convert:hover {\n",
              "      background-color: #434B5C;\n",
              "      box-shadow: 0px 1px 3px 1px rgba(0, 0, 0, 0.15);\n",
              "      filter: drop-shadow(0px 1px 2px rgba(0, 0, 0, 0.3));\n",
              "      fill: #FFFFFF;\n",
              "    }\n",
              "  </style>\n",
              "\n",
              "    <script>\n",
              "      const buttonEl =\n",
              "        document.querySelector('#df-c8dbf1e2-1bea-46e4-892f-978f9b5e0c8e button.colab-df-convert');\n",
              "      buttonEl.style.display =\n",
              "        google.colab.kernel.accessAllowed ? 'block' : 'none';\n",
              "\n",
              "      async function convertToInteractive(key) {\n",
              "        const element = document.querySelector('#df-c8dbf1e2-1bea-46e4-892f-978f9b5e0c8e');\n",
              "        const dataTable =\n",
              "          await google.colab.kernel.invokeFunction('convertToInteractive',\n",
              "                                                    [key], {});\n",
              "        if (!dataTable) return;\n",
              "\n",
              "        const docLinkHtml = 'Like what you see? Visit the ' +\n",
              "          '<a target=\"_blank\" href=https://colab.research.google.com/notebooks/data_table.ipynb>data table notebook</a>'\n",
              "          + ' to learn more about interactive tables.';\n",
              "        element.innerHTML = '';\n",
              "        dataTable['output_type'] = 'display_data';\n",
              "        await google.colab.output.renderOutput(dataTable, element);\n",
              "        const docLink = document.createElement('div');\n",
              "        docLink.innerHTML = docLinkHtml;\n",
              "        element.appendChild(docLink);\n",
              "      }\n",
              "    </script>\n",
              "  </div>\n",
              "\n",
              "\n",
              "<div id=\"df-1574833a-a568-4093-b40f-a0a0df04b4f4\">\n",
              "  <button class=\"colab-df-quickchart\" onclick=\"quickchart('df-1574833a-a568-4093-b40f-a0a0df04b4f4')\"\n",
              "            title=\"Suggest charts\"\n",
              "            style=\"display:none;\">\n",
              "\n",
              "<svg xmlns=\"http://www.w3.org/2000/svg\" height=\"24px\"viewBox=\"0 0 24 24\"\n",
              "     width=\"24px\">\n",
              "    <g>\n",
              "        <path d=\"M19 3H5c-1.1 0-2 .9-2 2v14c0 1.1.9 2 2 2h14c1.1 0 2-.9 2-2V5c0-1.1-.9-2-2-2zM9 17H7v-7h2v7zm4 0h-2V7h2v10zm4 0h-2v-4h2v4z\"/>\n",
              "    </g>\n",
              "</svg>\n",
              "  </button>\n",
              "\n",
              "<style>\n",
              "  .colab-df-quickchart {\n",
              "      --bg-color: #E8F0FE;\n",
              "      --fill-color: #1967D2;\n",
              "      --hover-bg-color: #E2EBFA;\n",
              "      --hover-fill-color: #174EA6;\n",
              "      --disabled-fill-color: #AAA;\n",
              "      --disabled-bg-color: #DDD;\n",
              "  }\n",
              "\n",
              "  [theme=dark] .colab-df-quickchart {\n",
              "      --bg-color: #3B4455;\n",
              "      --fill-color: #D2E3FC;\n",
              "      --hover-bg-color: #434B5C;\n",
              "      --hover-fill-color: #FFFFFF;\n",
              "      --disabled-bg-color: #3B4455;\n",
              "      --disabled-fill-color: #666;\n",
              "  }\n",
              "\n",
              "  .colab-df-quickchart {\n",
              "    background-color: var(--bg-color);\n",
              "    border: none;\n",
              "    border-radius: 50%;\n",
              "    cursor: pointer;\n",
              "    display: none;\n",
              "    fill: var(--fill-color);\n",
              "    height: 32px;\n",
              "    padding: 0;\n",
              "    width: 32px;\n",
              "  }\n",
              "\n",
              "  .colab-df-quickchart:hover {\n",
              "    background-color: var(--hover-bg-color);\n",
              "    box-shadow: 0 1px 2px rgba(60, 64, 67, 0.3), 0 1px 3px 1px rgba(60, 64, 67, 0.15);\n",
              "    fill: var(--button-hover-fill-color);\n",
              "  }\n",
              "\n",
              "  .colab-df-quickchart-complete:disabled,\n",
              "  .colab-df-quickchart-complete:disabled:hover {\n",
              "    background-color: var(--disabled-bg-color);\n",
              "    fill: var(--disabled-fill-color);\n",
              "    box-shadow: none;\n",
              "  }\n",
              "\n",
              "  .colab-df-spinner {\n",
              "    border: 2px solid var(--fill-color);\n",
              "    border-color: transparent;\n",
              "    border-bottom-color: var(--fill-color);\n",
              "    animation:\n",
              "      spin 1s steps(1) infinite;\n",
              "  }\n",
              "\n",
              "  @keyframes spin {\n",
              "    0% {\n",
              "      border-color: transparent;\n",
              "      border-bottom-color: var(--fill-color);\n",
              "      border-left-color: var(--fill-color);\n",
              "    }\n",
              "    20% {\n",
              "      border-color: transparent;\n",
              "      border-left-color: var(--fill-color);\n",
              "      border-top-color: var(--fill-color);\n",
              "    }\n",
              "    30% {\n",
              "      border-color: transparent;\n",
              "      border-left-color: var(--fill-color);\n",
              "      border-top-color: var(--fill-color);\n",
              "      border-right-color: var(--fill-color);\n",
              "    }\n",
              "    40% {\n",
              "      border-color: transparent;\n",
              "      border-right-color: var(--fill-color);\n",
              "      border-top-color: var(--fill-color);\n",
              "    }\n",
              "    60% {\n",
              "      border-color: transparent;\n",
              "      border-right-color: var(--fill-color);\n",
              "    }\n",
              "    80% {\n",
              "      border-color: transparent;\n",
              "      border-right-color: var(--fill-color);\n",
              "      border-bottom-color: var(--fill-color);\n",
              "    }\n",
              "    90% {\n",
              "      border-color: transparent;\n",
              "      border-bottom-color: var(--fill-color);\n",
              "    }\n",
              "  }\n",
              "</style>\n",
              "\n",
              "  <script>\n",
              "    async function quickchart(key) {\n",
              "      const quickchartButtonEl =\n",
              "        document.querySelector('#' + key + ' button');\n",
              "      quickchartButtonEl.disabled = true;  // To prevent multiple clicks.\n",
              "      quickchartButtonEl.classList.add('colab-df-spinner');\n",
              "      try {\n",
              "        const charts = await google.colab.kernel.invokeFunction(\n",
              "            'suggestCharts', [key], {});\n",
              "      } catch (error) {\n",
              "        console.error('Error during call to suggestCharts:', error);\n",
              "      }\n",
              "      quickchartButtonEl.classList.remove('colab-df-spinner');\n",
              "      quickchartButtonEl.classList.add('colab-df-quickchart-complete');\n",
              "    }\n",
              "    (() => {\n",
              "      let quickchartButtonEl =\n",
              "        document.querySelector('#df-1574833a-a568-4093-b40f-a0a0df04b4f4 button');\n",
              "      quickchartButtonEl.style.display =\n",
              "        google.colab.kernel.accessAllowed ? 'block' : 'none';\n",
              "    })();\n",
              "  </script>\n",
              "</div>\n",
              "    </div>\n",
              "  </div>\n"
            ],
            "application/vnd.google.colaboratory.intrinsic+json": {
              "type": "dataframe",
              "variable_name": "df",
              "summary": "{\n  \"name\": \"df\",\n  \"rows\": 365,\n  \"fields\": [\n    {\n      \"column\": \"Date\",\n      \"properties\": {\n        \"dtype\": \"date\",\n        \"min\": \"2023-01-03 00:00:00\",\n        \"max\": \"2024-06-14 00:00:00\",\n        \"num_unique_values\": 365,\n        \"samples\": [\n          \"2023-10-10 00:00:00\",\n          \"2023-02-21 00:00:00\",\n          \"2023-01-25 00:00:00\"\n        ],\n        \"semantic_type\": \"\",\n        \"description\": \"\"\n      }\n    },\n    {\n      \"column\": \"Open\",\n      \"properties\": {\n        \"dtype\": \"number\",\n        \"std\": 43.421197908608335,\n        \"min\": 381.7200012207031,\n        \"max\": 543.1500244140625,\n        \"num_unique_values\": 361,\n        \"samples\": [\n          442.6499938964844,\n          403.05999755859375,\n          395.95001220703125\n        ],\n        \"semantic_type\": \"\",\n        \"description\": \"\"\n      }\n    },\n    {\n      \"column\": \"High\",\n      \"properties\": {\n        \"dtype\": \"number\",\n        \"std\": 43.12925442118663,\n        \"min\": 381.8399963378906,\n        \"max\": 544.1199951171875,\n        \"num_unique_values\": 359,\n        \"samples\": [\n          456.2699890136719,\n          407.45001220703125,\n          506.8599853515625\n        ],\n        \"semantic_type\": \"\",\n        \"description\": \"\"\n      }\n    },\n    {\n      \"column\": \"Low\",\n      \"properties\": {\n        \"dtype\": \"number\",\n        \"std\": 43.45467888750177,\n        \"min\": 377.8299865722656,\n        \"max\": 540.2999877929688,\n        \"num_unique_values\": 359,\n        \"samples\": [\n          454.20001220703125,\n          404.010009765625,\n          504.9599914550781\n        ],\n        \"semantic_type\": \"\",\n        \"description\": \"\"\n      }\n    },\n    {\n      \"column\": \"Close\",\n      \"properties\": {\n        \"dtype\": \"number\",\n        \"std\": 43.33337365851842,\n        \"min\": 379.3800048828125,\n        \"max\": 542.780029296875,\n        \"num_unique_values\": 361,\n        \"samples\": [\n          451.19000244140625,\n          399.0899963378906,\n          400.3500061035156\n        ],\n        \"semantic_type\": \"\",\n        \"description\": \"\"\n      }\n    },\n    {\n      \"column\": \"Adj Close\",\n      \"properties\": {\n        \"dtype\": \"number\",\n        \"std\": 45.590859833322746,\n        \"min\": 372.5427551269531,\n        \"max\": 542.780029296875,\n        \"num_unique_values\": 362,\n        \"samples\": [\n          445.57049560546875,\n          391.89752197265625,\n          393.13482666015625\n        ],\n        \"semantic_type\": \"\",\n        \"description\": \"\"\n      }\n    },\n    {\n      \"column\": \"Volume\",\n      \"properties\": {\n        \"dtype\": \"number\",\n        \"std\": 22165128,\n        \"min\": 29737400,\n        \"max\": 189253000,\n        \"num_unique_values\": 365,\n        \"samples\": [\n          78607300,\n          82655900,\n          84800300\n        ],\n        \"semantic_type\": \"\",\n        \"description\": \"\"\n      }\n    }\n  ]\n}"
            }
          },
          "metadata": {},
          "execution_count": 3
        }
      ]
    },
    {
      "cell_type": "markdown",
      "source": [
        "Log Return\n",
        "\n",
        "- Log returns represent the continuosly compunded growth rate of an investment.\n",
        "- If the returns are normally distributed, log returns have several statistical advantages, including a symmetric distribution, which simplifies mathematical and statistical analysis.\n",
        "\n",
        "![Log Return Formula](https://latex.codecogs.com/svg.image?&space;R_{log}=ln(\\frac{Price_{new}}{Price_{old}}))"
      ],
      "metadata": {
        "id": "PhFI7K_TSpUS"
      }
    },
    {
      "cell_type": "code",
      "source": [
        "#Calculating log returns\n",
        "\n",
        "log_returns = np.log(df.Close/df.Close.shift(1)).dropna()\n",
        "log_returns"
      ],
      "metadata": {
        "execution": {
          "iopub.status.busy": "2023-10-22T14:06:07.021607Z",
          "iopub.execute_input": "2023-10-22T14:06:07.022183Z",
          "iopub.status.idle": "2023-10-22T14:06:07.034363Z",
          "shell.execute_reply.started": "2023-10-22T14:06:07.022083Z",
          "shell.execute_reply": "2023-10-22T14:06:07.033135Z"
        },
        "trusted": true,
        "id": "aloRJ5BLSpUU",
        "colab": {
          "base_uri": "https://localhost:8080/"
        },
        "outputId": "30a93ddf-5768-4f50-fa02-6be246262335"
      },
      "execution_count": 4,
      "outputs": [
        {
          "output_type": "execute_result",
          "data": {
            "text/plain": [
              "Date\n",
              "2023-01-04    0.007691\n",
              "2023-01-05   -0.011479\n",
              "2023-01-06    0.022673\n",
              "2023-01-09   -0.000567\n",
              "2023-01-10    0.006988\n",
              "                ...   \n",
              "2024-06-10    0.003085\n",
              "2024-06-11    0.002405\n",
              "2024-06-12    0.008179\n",
              "2024-06-13    0.002011\n",
              "2024-06-14    0.000608\n",
              "Name: Close, Length: 364, dtype: float64"
            ]
          },
          "metadata": {},
          "execution_count": 4
        }
      ]
    },
    {
      "cell_type": "markdown",
      "source": [
        "The annualized standard deviation of daily returns is calculated as follows:\n",
        "\n",
        "- Annualized Standard Deviation = Standard Deviation of Daily Returns * Square Root (250)\n",
        "\n",
        "- For weekly returns, Annualized Standard Deviation = Standard Deviation of Weekly Returns * Sqrt(52).\n",
        "\n",
        "- For monthly returns, Annualized Standard Deviation = Standard Deviation of Monthly Returns * Sqrt(12).\n",
        "\n",
        "- For quarterly returns, Annualized Standard Deviation = Standard Deviation of Quarterly Returns * Sqrt(4)."
      ],
      "metadata": {
        "id": "o9dxPL3wSpUZ"
      }
    },
    {
      "cell_type": "code",
      "source": [
        "# Calculating daily standard deviation of returns\n",
        "\n",
        "daily_std = log_returns.std()\n",
        "\n",
        "annualized_std = daily_std*np.sqrt(252)\n"
      ],
      "metadata": {
        "execution": {
          "iopub.status.busy": "2023-10-22T14:06:07.035684Z",
          "iopub.execute_input": "2023-10-22T14:06:07.036098Z",
          "iopub.status.idle": "2023-10-22T14:06:07.049016Z",
          "shell.execute_reply.started": "2023-10-22T14:06:07.036065Z",
          "shell.execute_reply": "2023-10-22T14:06:07.047772Z"
        },
        "trusted": true,
        "id": "AaAjNUS0SpUa"
      },
      "execution_count": 5,
      "outputs": []
    },
    {
      "cell_type": "code",
      "source": [
        "fig = make_subplots(rows=2,cols=2)\n",
        "\n",
        "trace = go.Histogram(x=log_returns)\n",
        "\n",
        "fig.update_layout(autosize = True,\n",
        "                  width=500,\n",
        "                  height=500,\n",
        "                  title='log returns fequency curve',\n",
        "                  xaxis = dict(title = 'Annualised standard deviation:' + str(np.round(annualized_std*100,2)))\n",
        "                 )\n",
        "fig.add_trace(trace, row=1, col=1)\n",
        "\n",
        "fig.show()"
      ],
      "metadata": {
        "execution": {
          "iopub.status.busy": "2023-10-22T14:06:07.050201Z",
          "iopub.execute_input": "2023-10-22T14:06:07.050599Z",
          "iopub.status.idle": "2023-10-22T14:06:07.464633Z",
          "shell.execute_reply.started": "2023-10-22T14:06:07.050568Z",
          "shell.execute_reply": "2023-10-22T14:06:07.463457Z"
        },
        "trusted": true,
        "id": "cYZSjrInSpUi",
        "colab": {
          "base_uri": "https://localhost:8080/",
          "height": 517
        },
        "outputId": "0ae5d02e-a997-450f-fd88-4f730e02467a"
      },
      "execution_count": 6,
      "outputs": [
        {
          "output_type": "display_data",
          "data": {
            "application/vnd.plotly.v1+json": {
              "data": [
                {
                  "x": [
                    0.007690540861836688,
                    -0.01147902847194515,
                    0.02267311516744916,
                    -0.0005670573357700661,
                    0.006988367474913615,
                    0.012568547576673746,
                    0.003634171365240132,
                    0.003871999812680603,
                    -0.001833577055333756,
                    -0.015913973799226742,
                    -0.007306444430314214,
                    0.018457644417167424,
                    0.011927172921546549,
                    -0.00107386763214943,
                    0.0003747271121324628,
                    0.010930412793652575,
                    0.0022950608748414985,
                    -0.012626202210392873,
                    0.0145963030912504,
                    0.010571694025693542,
                    0.014452053374916023,
                    -0.01068598363290454,
                    -0.006130111277800135,
                    0.012993845860082188,
                    -0.010994997340289235,
                    -0.00870697310092209,
                    0.0023309475334816784,
                    0.011670623663536151,
                    -0.0004602757868875422,
                    0.003242112385601186,
                    -0.013864479472520551,
                    -0.0025013844442150304,
                    -0.020264879913440236,
                    -0.0013790551427742468,
                    0.005305305448697813,
                    -0.010739837078983187,
                    0.0034000513205539825,
                    -0.003702824624668304,
                    -0.0038432905240252365,
                    0.007747202640651336,
                    0.015910572248883096,
                    0.0006925006534723625,
                    -0.01544743147428181,
                    0.0016307895385843638,
                    -0.018622175035731294,
                    -0.014534563011705798,
                    -0.0014262668368289762,
                    0.016394930701474304,
                    -0.0062739791116780946,
                    0.01739303757900711,
                    -0.015570840749814475,
                    0.009569695461115801,
                    0.013045068527290258,
                    -0.017193461403886095,
                    0.002699747151757449,
                    0.006540576296236363,
                    0.0018680966845833614,
                    -0.002247180268645281,
                    0.014430264607990103,
                    0.005838178311722907,
                    0.013996224623975942,
                    0.0038032995781799427,
                    -0.005563565040138121,
                    -0.002621700935942733,
                    0.003893285494786008,
                    0.0010258499102318234,
                    0.0002685508198280116,
                    -0.004084316547969953,
                    0.01319527739381285,
                    -0.002445752734606423,
                    0.0035818310251139345,
                    0.0006520292826832333,
                    -0.0001689546841105706,
                    -0.00547205963912668,
                    0.0007766414272094301,
                    0.001042621402772541,
                    -0.01600116801417094,
                    -0.0042446173996722346,
                    0.019712474971588356,
                    0.008498950231163765,
                    -0.0010102543650607994,
                    -0.011302869513427875,
                    -0.006887669499263906,
                    -0.007108150576824931,
                    0.018343304165668557,
                    0.00026651163202968074,
                    -0.004394965239957476,
                    0.004661479781751272,
                    -0.0017455002398152337,
                    -0.001311146072652117,
                    0.003444130053141995,
                    -0.006705099417769526,
                    0.012065880064935735,
                    0.009587111502516284,
                    -0.0014561460225211089,
                    0.0004060458540662169,
                    -0.01128628870935317,
                    -0.0072711729419161625,
                    0.008622616459603612,
                    0.012867526857071395,
                    0.00038087042973229825,
                    -0.005560642409936827,
                    0.009456169066444198,
                    0.01435759348122755,
                    -0.0019181014640489555,
                    0.002175091593377299,
                    -0.003463718994750308,
                    0.006030349968389047,
                    0.001792694599673949,
                    0.009030960948294134,
                    0.006571298368602579,
                    0.00119012422692229,
                    0.012321448558557475,
                    -0.007119760382108064,
                    -0.005201688176449508,
                    -0.005136896694487098,
                    0.0036032107426930415,
                    -0.007588727735143791,
                    -0.004094122473882703,
                    0.010903649709285458,
                    0.0005042661095765424,
                    0.003933614456099705,
                    0.011731634842625023,
                    0.0011498750213830315,
                    -0.001488305087145732,
                    -0.007861482478151452,
                    -0.0025279066989746814,
                    0.0025279066989747885,
                    0.00634833630815346,
                    0.008013723862516888,
                    0.007905551787355664,
                    -0.0006230225390383416,
                    0.003466202570648931,
                    0.007403116820647034,
                    0.0022212915573065956,
                    -0.006656595178376628,
                    0,
                    0.00445734209675547,
                    0.002726333456018575,
                    0.00015370179135724575,
                    -0.006652049928426125,
                    0.009742708386939452,
                    0.0019022320924179325,
                    -0.0028656708129788785,
                    -0.01400847075222544,
                    -0.0028699721428423856,
                    -0.004533025778414631,
                    0.008690655340468388,
                    -0.0043581583971775105,
                    -0.006707683059238894,
                    0.0003588894044134793,
                    -0.0005832692666972918,
                    0.005504828419965597,
                    -0.011717240012162844,
                    -0.007365221768905127,
                    -0.00764906407671764,
                    0.00048119583651082097,
                    0.0064852171709036625,
                    -0.0027122888788976324,
                    0.01107618151551332,
                    -0.013956004395686512,
                    0.007025064852663816,
                    0.0063213390295188574,
                    0.014351295283905607,
                    0.004110354001076374,
                    -0.0014644620760757739,
                    0.0018634704461354505,
                    -0.004331297871981201,
                    -0.006745137677816119,
                    -0.0030749462677503296,
                    0.0015049542106842105,
                    0.006555105162656671,
                    -0.005500711436984432,
                    0.0011653100058186942,
                    0.008585412055525241,
                    -0.01564260552722776,
                    0.0005862678085058179,
                    -0.0020759838480750876,
                    -0.009235844351152545,
                    -0.016666477191231367,
                    -0.0022510799334294423,
                    0.0041963720245047674,
                    -0.014800251479124848,
                    0.0003990537106883037,
                    0.005780704134190364,
                    -0.002429856399603727,
                    -0.00039778993267751666,
                    -0.01347647032989409,
                    0.007255588282934912,
                    -0.0003768516258725016,
                    0.011802882777938796,
                    0.0063817905591359225,
                    0.0051913408829109865,
                    0.004087915912236972,
                    -0.006115110502897607,
                    -0.004993314857244581,
                    0.01046649133332179,
                    -0.000045913197049638914,
                    -0.013414646956172782,
                    -0.00882523202971711,
                    -0.012364165589842322,
                    -0.0017347143698367156,
                    0.007511114561209817,
                    -0.014456175911054608,
                    -0.012046887403205692,
                    -0.004543076364740735,
                    0.011884883929670366,
                    0.006260627657925518,
                    0.010608265814448672,
                    0.018983031132927274,
                    0.009082025844375438,
                    0.002297847915620259,
                    0.00284199554427769,
                    0.0007321314630716516,
                    -0.007829319807058255,
                    0.01548430309641447,
                    -0.000953639754326823,
                    0.019214937613587866,
                    0.0021148073588667295,
                    0.00122238529807709,
                    0.0012430303845870662,
                    0.007668124752286348,
                    -0.0021817926592202913,
                    0.0038533997022272832,
                    0.0006151656456207858,
                    -0.0018025831074994956,
                    0.0009896124396357015,
                    -0.0007036685470760853,
                    0.003929728299914877,
                    0.005898459934950831,
                    -0.005263235464555216,
                    -0.00019708162213514347,
                    -0.004037918727864448,
                    0.007601436708841672,
                    0.004289938682770291,
                    0.003882020560905879,
                    0.004556834710761382,
                    0.013695899627010042,
                    0.003204233465814398,
                    -0.0056940753497524595,
                    0.005609309688445641,
                    0.0060624706430893955,
                    -0.013954179408550985,
                    0.009437245558765753,
                    0.0020076758121667965,
                    0.004213637385105742,
                    0.0018064529064549342,
                    0.0003776598313376663,
                    -0.0028991719525495417,
                    -0.005612073647762583,
                    -0.008200218753116065,
                    -0.003226278085188268,
                    0.001368722711720566,
                    0.014174987030583994,
                    -0.0015182214715403436,
                    0.005639492806995132,
                    -0.0004407372315755655,
                    0.0006924998916625722,
                    -0.0036779815254260047,
                    -0.005574187544936197,
                    0.008853494233072969,
                    0.012389101331860433,
                    0.002112104827275948,
                    0.002912237082337803,
                    0.0010925624315369024,
                    0.005424155178897727,
                    -0.0012712113489856446,
                    0.007888186936642857,
                    -0.0007737525103342413,
                    -0.016451914258144705,
                    0.013003243074726334,
                    0.010472351923623717,
                    -0.0036478271713354265,
                    0.0028990992604667125,
                    0.008305819554012096,
                    0.0004415833108797068,
                    0.005762791733809747,
                    -0.00043904531949477997,
                    -0.013868781838918256,
                    0.00904659527888467,
                    0.0068760437671022455,
                    -0.004992421806456445,
                    -0.0055206057201699224,
                    0.0009054231408219095,
                    0.02048425603665073,
                    0.00068942948791089,
                    -0.003669253457560932,
                    0.0018560256034270653,
                    -0.0013225219478980774,
                    0.003588498464511727,
                    0.009344468082401325,
                    -0.0010729900314741514,
                    -0.0100444113894327,
                    0.005054453726737115,
                    0.009877486355824644,
                    -0.006020292976064564,
                    -0.0008602198798415472,
                    0.010699925765846127,
                    -0.0015687412440107565,
                    -0.0019787351992332034,
                    -0.009992521797621997,
                    0.005925564400416204,
                    0.005541759714507747,
                    0.009206790605195993,
                    0.0032992544416057122,
                    -0.0018976059248372494,
                    -0.0027666301033714116,
                    -0.001848720811659766,
                    0.008368703582209678,
                    -0.00019111406020605603,
                    -0.0017413094278576045,
                    -0.006378400662397819,
                    0.0010978980906576894,
                    -0.012281197944720696,
                    0.010392697227312885,
                    0.0005591824618205978,
                    0.0011560955273918782,
                    -0.010063585851018561,
                    0.007518550514969957,
                    -0.013899225274285687,
                    -0.012607265932115247,
                    -0.0018254601741845044,
                    -0.005935821400641787,
                    -0.0020598541449591205,
                    -0.008766665273877018,
                    0.009166993946983032,
                    0.011796774271143656,
                    -0.0004747299655049409,
                    -0.0038061567197108415,
                    0.009429315293021177,
                    0.003535214185462806,
                    -0.015968060924207314,
                    -0.0032524344116499487,
                    0.00930996529944333,
                    0.01231912958333033,
                    0.010273860527033316,
                    0.0011028380684626946,
                    0.00009665733795148855,
                    0.005745331819169011,
                    0.0012872960520189931,
                    0.00013428613231119228,
                    0.004577659496461211,
                    0.012306991279978533,
                    -0.0020596279688887354,
                    0.0014365015702952906,
                    0.0011514481474172668,
                    0.0024495269806736565,
                    -0.0028834974288917308,
                    -0.0073310266367182745,
                    0.006594642789596251,
                    0.0006985983143454546,
                    -0.007027184767931233,
                    -0.006655802363201398,
                    0.0090669202532969,
                    0.0008150207199744992,
                    0.0011172741940039222,
                    0.011815027054442569,
                    -0.00001872156590881285,
                    -0.001216396959663698,
                    0.0030849976419914907,
                    0.0024054217322930335,
                    0.008179461827137285,
                    0.002011472906592374,
                    0.0006081975017191718
                  ],
                  "type": "histogram",
                  "xaxis": "x",
                  "yaxis": "y"
                }
              ],
              "layout": {
                "template": {
                  "data": {
                    "histogram2dcontour": [
                      {
                        "type": "histogram2dcontour",
                        "colorbar": {
                          "outlinewidth": 0,
                          "ticks": ""
                        },
                        "colorscale": [
                          [
                            0,
                            "#0d0887"
                          ],
                          [
                            0.1111111111111111,
                            "#46039f"
                          ],
                          [
                            0.2222222222222222,
                            "#7201a8"
                          ],
                          [
                            0.3333333333333333,
                            "#9c179e"
                          ],
                          [
                            0.4444444444444444,
                            "#bd3786"
                          ],
                          [
                            0.5555555555555556,
                            "#d8576b"
                          ],
                          [
                            0.6666666666666666,
                            "#ed7953"
                          ],
                          [
                            0.7777777777777778,
                            "#fb9f3a"
                          ],
                          [
                            0.8888888888888888,
                            "#fdca26"
                          ],
                          [
                            1,
                            "#f0f921"
                          ]
                        ]
                      }
                    ],
                    "choropleth": [
                      {
                        "type": "choropleth",
                        "colorbar": {
                          "outlinewidth": 0,
                          "ticks": ""
                        }
                      }
                    ],
                    "histogram2d": [
                      {
                        "type": "histogram2d",
                        "colorbar": {
                          "outlinewidth": 0,
                          "ticks": ""
                        },
                        "colorscale": [
                          [
                            0,
                            "#0d0887"
                          ],
                          [
                            0.1111111111111111,
                            "#46039f"
                          ],
                          [
                            0.2222222222222222,
                            "#7201a8"
                          ],
                          [
                            0.3333333333333333,
                            "#9c179e"
                          ],
                          [
                            0.4444444444444444,
                            "#bd3786"
                          ],
                          [
                            0.5555555555555556,
                            "#d8576b"
                          ],
                          [
                            0.6666666666666666,
                            "#ed7953"
                          ],
                          [
                            0.7777777777777778,
                            "#fb9f3a"
                          ],
                          [
                            0.8888888888888888,
                            "#fdca26"
                          ],
                          [
                            1,
                            "#f0f921"
                          ]
                        ]
                      }
                    ],
                    "heatmap": [
                      {
                        "type": "heatmap",
                        "colorbar": {
                          "outlinewidth": 0,
                          "ticks": ""
                        },
                        "colorscale": [
                          [
                            0,
                            "#0d0887"
                          ],
                          [
                            0.1111111111111111,
                            "#46039f"
                          ],
                          [
                            0.2222222222222222,
                            "#7201a8"
                          ],
                          [
                            0.3333333333333333,
                            "#9c179e"
                          ],
                          [
                            0.4444444444444444,
                            "#bd3786"
                          ],
                          [
                            0.5555555555555556,
                            "#d8576b"
                          ],
                          [
                            0.6666666666666666,
                            "#ed7953"
                          ],
                          [
                            0.7777777777777778,
                            "#fb9f3a"
                          ],
                          [
                            0.8888888888888888,
                            "#fdca26"
                          ],
                          [
                            1,
                            "#f0f921"
                          ]
                        ]
                      }
                    ],
                    "heatmapgl": [
                      {
                        "type": "heatmapgl",
                        "colorbar": {
                          "outlinewidth": 0,
                          "ticks": ""
                        },
                        "colorscale": [
                          [
                            0,
                            "#0d0887"
                          ],
                          [
                            0.1111111111111111,
                            "#46039f"
                          ],
                          [
                            0.2222222222222222,
                            "#7201a8"
                          ],
                          [
                            0.3333333333333333,
                            "#9c179e"
                          ],
                          [
                            0.4444444444444444,
                            "#bd3786"
                          ],
                          [
                            0.5555555555555556,
                            "#d8576b"
                          ],
                          [
                            0.6666666666666666,
                            "#ed7953"
                          ],
                          [
                            0.7777777777777778,
                            "#fb9f3a"
                          ],
                          [
                            0.8888888888888888,
                            "#fdca26"
                          ],
                          [
                            1,
                            "#f0f921"
                          ]
                        ]
                      }
                    ],
                    "contourcarpet": [
                      {
                        "type": "contourcarpet",
                        "colorbar": {
                          "outlinewidth": 0,
                          "ticks": ""
                        }
                      }
                    ],
                    "contour": [
                      {
                        "type": "contour",
                        "colorbar": {
                          "outlinewidth": 0,
                          "ticks": ""
                        },
                        "colorscale": [
                          [
                            0,
                            "#0d0887"
                          ],
                          [
                            0.1111111111111111,
                            "#46039f"
                          ],
                          [
                            0.2222222222222222,
                            "#7201a8"
                          ],
                          [
                            0.3333333333333333,
                            "#9c179e"
                          ],
                          [
                            0.4444444444444444,
                            "#bd3786"
                          ],
                          [
                            0.5555555555555556,
                            "#d8576b"
                          ],
                          [
                            0.6666666666666666,
                            "#ed7953"
                          ],
                          [
                            0.7777777777777778,
                            "#fb9f3a"
                          ],
                          [
                            0.8888888888888888,
                            "#fdca26"
                          ],
                          [
                            1,
                            "#f0f921"
                          ]
                        ]
                      }
                    ],
                    "surface": [
                      {
                        "type": "surface",
                        "colorbar": {
                          "outlinewidth": 0,
                          "ticks": ""
                        },
                        "colorscale": [
                          [
                            0,
                            "#0d0887"
                          ],
                          [
                            0.1111111111111111,
                            "#46039f"
                          ],
                          [
                            0.2222222222222222,
                            "#7201a8"
                          ],
                          [
                            0.3333333333333333,
                            "#9c179e"
                          ],
                          [
                            0.4444444444444444,
                            "#bd3786"
                          ],
                          [
                            0.5555555555555556,
                            "#d8576b"
                          ],
                          [
                            0.6666666666666666,
                            "#ed7953"
                          ],
                          [
                            0.7777777777777778,
                            "#fb9f3a"
                          ],
                          [
                            0.8888888888888888,
                            "#fdca26"
                          ],
                          [
                            1,
                            "#f0f921"
                          ]
                        ]
                      }
                    ],
                    "mesh3d": [
                      {
                        "type": "mesh3d",
                        "colorbar": {
                          "outlinewidth": 0,
                          "ticks": ""
                        }
                      }
                    ],
                    "scatter": [
                      {
                        "fillpattern": {
                          "fillmode": "overlay",
                          "size": 10,
                          "solidity": 0.2
                        },
                        "type": "scatter"
                      }
                    ],
                    "parcoords": [
                      {
                        "type": "parcoords",
                        "line": {
                          "colorbar": {
                            "outlinewidth": 0,
                            "ticks": ""
                          }
                        }
                      }
                    ],
                    "scatterpolargl": [
                      {
                        "type": "scatterpolargl",
                        "marker": {
                          "colorbar": {
                            "outlinewidth": 0,
                            "ticks": ""
                          }
                        }
                      }
                    ],
                    "bar": [
                      {
                        "error_x": {
                          "color": "#2a3f5f"
                        },
                        "error_y": {
                          "color": "#2a3f5f"
                        },
                        "marker": {
                          "line": {
                            "color": "#E5ECF6",
                            "width": 0.5
                          },
                          "pattern": {
                            "fillmode": "overlay",
                            "size": 10,
                            "solidity": 0.2
                          }
                        },
                        "type": "bar"
                      }
                    ],
                    "scattergeo": [
                      {
                        "type": "scattergeo",
                        "marker": {
                          "colorbar": {
                            "outlinewidth": 0,
                            "ticks": ""
                          }
                        }
                      }
                    ],
                    "scatterpolar": [
                      {
                        "type": "scatterpolar",
                        "marker": {
                          "colorbar": {
                            "outlinewidth": 0,
                            "ticks": ""
                          }
                        }
                      }
                    ],
                    "histogram": [
                      {
                        "marker": {
                          "pattern": {
                            "fillmode": "overlay",
                            "size": 10,
                            "solidity": 0.2
                          }
                        },
                        "type": "histogram"
                      }
                    ],
                    "scattergl": [
                      {
                        "type": "scattergl",
                        "marker": {
                          "colorbar": {
                            "outlinewidth": 0,
                            "ticks": ""
                          }
                        }
                      }
                    ],
                    "scatter3d": [
                      {
                        "type": "scatter3d",
                        "line": {
                          "colorbar": {
                            "outlinewidth": 0,
                            "ticks": ""
                          }
                        },
                        "marker": {
                          "colorbar": {
                            "outlinewidth": 0,
                            "ticks": ""
                          }
                        }
                      }
                    ],
                    "scattermapbox": [
                      {
                        "type": "scattermapbox",
                        "marker": {
                          "colorbar": {
                            "outlinewidth": 0,
                            "ticks": ""
                          }
                        }
                      }
                    ],
                    "scatterternary": [
                      {
                        "type": "scatterternary",
                        "marker": {
                          "colorbar": {
                            "outlinewidth": 0,
                            "ticks": ""
                          }
                        }
                      }
                    ],
                    "scattercarpet": [
                      {
                        "type": "scattercarpet",
                        "marker": {
                          "colorbar": {
                            "outlinewidth": 0,
                            "ticks": ""
                          }
                        }
                      }
                    ],
                    "carpet": [
                      {
                        "aaxis": {
                          "endlinecolor": "#2a3f5f",
                          "gridcolor": "white",
                          "linecolor": "white",
                          "minorgridcolor": "white",
                          "startlinecolor": "#2a3f5f"
                        },
                        "baxis": {
                          "endlinecolor": "#2a3f5f",
                          "gridcolor": "white",
                          "linecolor": "white",
                          "minorgridcolor": "white",
                          "startlinecolor": "#2a3f5f"
                        },
                        "type": "carpet"
                      }
                    ],
                    "table": [
                      {
                        "cells": {
                          "fill": {
                            "color": "#EBF0F8"
                          },
                          "line": {
                            "color": "white"
                          }
                        },
                        "header": {
                          "fill": {
                            "color": "#C8D4E3"
                          },
                          "line": {
                            "color": "white"
                          }
                        },
                        "type": "table"
                      }
                    ],
                    "barpolar": [
                      {
                        "marker": {
                          "line": {
                            "color": "#E5ECF6",
                            "width": 0.5
                          },
                          "pattern": {
                            "fillmode": "overlay",
                            "size": 10,
                            "solidity": 0.2
                          }
                        },
                        "type": "barpolar"
                      }
                    ],
                    "pie": [
                      {
                        "automargin": true,
                        "type": "pie"
                      }
                    ]
                  },
                  "layout": {
                    "autotypenumbers": "strict",
                    "colorway": [
                      "#636efa",
                      "#EF553B",
                      "#00cc96",
                      "#ab63fa",
                      "#FFA15A",
                      "#19d3f3",
                      "#FF6692",
                      "#B6E880",
                      "#FF97FF",
                      "#FECB52"
                    ],
                    "font": {
                      "color": "#2a3f5f"
                    },
                    "hovermode": "closest",
                    "hoverlabel": {
                      "align": "left"
                    },
                    "paper_bgcolor": "white",
                    "plot_bgcolor": "#E5ECF6",
                    "polar": {
                      "bgcolor": "#E5ECF6",
                      "angularaxis": {
                        "gridcolor": "white",
                        "linecolor": "white",
                        "ticks": ""
                      },
                      "radialaxis": {
                        "gridcolor": "white",
                        "linecolor": "white",
                        "ticks": ""
                      }
                    },
                    "ternary": {
                      "bgcolor": "#E5ECF6",
                      "aaxis": {
                        "gridcolor": "white",
                        "linecolor": "white",
                        "ticks": ""
                      },
                      "baxis": {
                        "gridcolor": "white",
                        "linecolor": "white",
                        "ticks": ""
                      },
                      "caxis": {
                        "gridcolor": "white",
                        "linecolor": "white",
                        "ticks": ""
                      }
                    },
                    "coloraxis": {
                      "colorbar": {
                        "outlinewidth": 0,
                        "ticks": ""
                      }
                    },
                    "colorscale": {
                      "sequential": [
                        [
                          0,
                          "#0d0887"
                        ],
                        [
                          0.1111111111111111,
                          "#46039f"
                        ],
                        [
                          0.2222222222222222,
                          "#7201a8"
                        ],
                        [
                          0.3333333333333333,
                          "#9c179e"
                        ],
                        [
                          0.4444444444444444,
                          "#bd3786"
                        ],
                        [
                          0.5555555555555556,
                          "#d8576b"
                        ],
                        [
                          0.6666666666666666,
                          "#ed7953"
                        ],
                        [
                          0.7777777777777778,
                          "#fb9f3a"
                        ],
                        [
                          0.8888888888888888,
                          "#fdca26"
                        ],
                        [
                          1,
                          "#f0f921"
                        ]
                      ],
                      "sequentialminus": [
                        [
                          0,
                          "#0d0887"
                        ],
                        [
                          0.1111111111111111,
                          "#46039f"
                        ],
                        [
                          0.2222222222222222,
                          "#7201a8"
                        ],
                        [
                          0.3333333333333333,
                          "#9c179e"
                        ],
                        [
                          0.4444444444444444,
                          "#bd3786"
                        ],
                        [
                          0.5555555555555556,
                          "#d8576b"
                        ],
                        [
                          0.6666666666666666,
                          "#ed7953"
                        ],
                        [
                          0.7777777777777778,
                          "#fb9f3a"
                        ],
                        [
                          0.8888888888888888,
                          "#fdca26"
                        ],
                        [
                          1,
                          "#f0f921"
                        ]
                      ],
                      "diverging": [
                        [
                          0,
                          "#8e0152"
                        ],
                        [
                          0.1,
                          "#c51b7d"
                        ],
                        [
                          0.2,
                          "#de77ae"
                        ],
                        [
                          0.3,
                          "#f1b6da"
                        ],
                        [
                          0.4,
                          "#fde0ef"
                        ],
                        [
                          0.5,
                          "#f7f7f7"
                        ],
                        [
                          0.6,
                          "#e6f5d0"
                        ],
                        [
                          0.7,
                          "#b8e186"
                        ],
                        [
                          0.8,
                          "#7fbc41"
                        ],
                        [
                          0.9,
                          "#4d9221"
                        ],
                        [
                          1,
                          "#276419"
                        ]
                      ]
                    },
                    "xaxis": {
                      "gridcolor": "white",
                      "linecolor": "white",
                      "ticks": "",
                      "title": {
                        "standoff": 15
                      },
                      "zerolinecolor": "white",
                      "automargin": true,
                      "zerolinewidth": 2
                    },
                    "yaxis": {
                      "gridcolor": "white",
                      "linecolor": "white",
                      "ticks": "",
                      "title": {
                        "standoff": 15
                      },
                      "zerolinecolor": "white",
                      "automargin": true,
                      "zerolinewidth": 2
                    },
                    "scene": {
                      "xaxis": {
                        "backgroundcolor": "#E5ECF6",
                        "gridcolor": "white",
                        "linecolor": "white",
                        "showbackground": true,
                        "ticks": "",
                        "zerolinecolor": "white",
                        "gridwidth": 2
                      },
                      "yaxis": {
                        "backgroundcolor": "#E5ECF6",
                        "gridcolor": "white",
                        "linecolor": "white",
                        "showbackground": true,
                        "ticks": "",
                        "zerolinecolor": "white",
                        "gridwidth": 2
                      },
                      "zaxis": {
                        "backgroundcolor": "#E5ECF6",
                        "gridcolor": "white",
                        "linecolor": "white",
                        "showbackground": true,
                        "ticks": "",
                        "zerolinecolor": "white",
                        "gridwidth": 2
                      }
                    },
                    "shapedefaults": {
                      "line": {
                        "color": "#2a3f5f"
                      }
                    },
                    "annotationdefaults": {
                      "arrowcolor": "#2a3f5f",
                      "arrowhead": 0,
                      "arrowwidth": 1
                    },
                    "geo": {
                      "bgcolor": "white",
                      "landcolor": "#E5ECF6",
                      "subunitcolor": "white",
                      "showland": true,
                      "showlakes": true,
                      "lakecolor": "white"
                    },
                    "title": {
                      "x": 0.05
                    },
                    "mapbox": {
                      "style": "light"
                    }
                  }
                },
                "xaxis": {
                  "anchor": "y",
                  "domain": [
                    0,
                    0.45
                  ],
                  "title": {
                    "text": "Annualised standard deviation:12.54"
                  }
                },
                "yaxis": {
                  "anchor": "x",
                  "domain": [
                    0.575,
                    1
                  ]
                },
                "xaxis2": {
                  "anchor": "y2",
                  "domain": [
                    0.55,
                    1
                  ]
                },
                "yaxis2": {
                  "anchor": "x2",
                  "domain": [
                    0.575,
                    1
                  ]
                },
                "xaxis3": {
                  "anchor": "y3",
                  "domain": [
                    0,
                    0.45
                  ]
                },
                "yaxis3": {
                  "anchor": "x3",
                  "domain": [
                    0,
                    0.425
                  ]
                },
                "xaxis4": {
                  "anchor": "y4",
                  "domain": [
                    0.55,
                    1
                  ]
                },
                "yaxis4": {
                  "anchor": "x4",
                  "domain": [
                    0,
                    0.425
                  ]
                },
                "autosize": true,
                "width": 500,
                "height": 500,
                "title": {
                  "text": "log returns fequency curve"
                }
              },
              "config": {
                "plotlyServerURL": "https://plot.ly"
              }
            },
            "text/html": [
              "<div>                            <div id=\"a36f484a-331d-4fdf-95f2-9e6792661f33\" class=\"plotly-graph-div\" style=\"height:500px; width:500px;\"></div>            <script type=\"text/javascript\">                require([\"plotly\"], function(Plotly) {                    window.PLOTLYENV=window.PLOTLYENV || {};                                    if (document.getElementById(\"a36f484a-331d-4fdf-95f2-9e6792661f33\")) {                    Plotly.newPlot(                        \"a36f484a-331d-4fdf-95f2-9e6792661f33\",                        [{\"x\":[0.007690540861836688,-0.01147902847194515,0.02267311516744916,-0.0005670573357700661,0.006988367474913615,0.012568547576673746,0.003634171365240132,0.003871999812680603,-0.001833577055333756,-0.015913973799226742,-0.007306444430314214,0.018457644417167424,0.011927172921546549,-0.00107386763214943,0.0003747271121324628,0.010930412793652575,0.0022950608748414985,-0.012626202210392873,0.0145963030912504,0.010571694025693542,0.014452053374916023,-0.01068598363290454,-0.006130111277800135,0.012993845860082188,-0.010994997340289235,-0.00870697310092209,0.0023309475334816784,0.011670623663536151,-0.0004602757868875422,0.003242112385601186,-0.013864479472520551,-0.0025013844442150304,-0.020264879913440236,-0.0013790551427742468,0.005305305448697813,-0.010739837078983187,0.0034000513205539825,-0.003702824624668304,-0.0038432905240252365,0.007747202640651336,0.015910572248883096,0.0006925006534723625,-0.01544743147428181,0.0016307895385843638,-0.018622175035731294,-0.014534563011705798,-0.0014262668368289762,0.016394930701474304,-0.0062739791116780946,0.01739303757900711,-0.015570840749814475,0.009569695461115801,0.013045068527290258,-0.017193461403886095,0.002699747151757449,0.006540576296236363,0.0018680966845833614,-0.002247180268645281,0.014430264607990103,0.005838178311722907,0.013996224623975942,0.0038032995781799427,-0.005563565040138121,-0.002621700935942733,0.003893285494786008,0.0010258499102318234,0.0002685508198280116,-0.004084316547969953,0.01319527739381285,-0.002445752734606423,0.0035818310251139345,0.0006520292826832333,-0.0001689546841105706,-0.00547205963912668,0.0007766414272094301,0.001042621402772541,-0.01600116801417094,-0.0042446173996722346,0.019712474971588356,0.008498950231163765,-0.0010102543650607994,-0.011302869513427875,-0.006887669499263906,-0.007108150576824931,0.018343304165668557,0.00026651163202968074,-0.004394965239957476,0.004661479781751272,-0.0017455002398152337,-0.001311146072652117,0.003444130053141995,-0.006705099417769526,0.012065880064935735,0.009587111502516284,-0.0014561460225211089,0.0004060458540662169,-0.01128628870935317,-0.0072711729419161625,0.008622616459603612,0.012867526857071395,0.00038087042973229825,-0.005560642409936827,0.009456169066444198,0.01435759348122755,-0.0019181014640489555,0.002175091593377299,-0.003463718994750308,0.006030349968389047,0.001792694599673949,0.009030960948294134,0.006571298368602579,0.00119012422692229,0.012321448558557475,-0.007119760382108064,-0.005201688176449508,-0.005136896694487098,0.0036032107426930415,-0.007588727735143791,-0.004094122473882703,0.010903649709285458,0.0005042661095765424,0.003933614456099705,0.011731634842625023,0.0011498750213830315,-0.001488305087145732,-0.007861482478151452,-0.0025279066989746814,0.0025279066989747885,0.00634833630815346,0.008013723862516888,0.007905551787355664,-0.0006230225390383416,0.003466202570648931,0.007403116820647034,0.0022212915573065956,-0.006656595178376628,0.0,0.00445734209675547,0.002726333456018575,0.00015370179135724575,-0.006652049928426125,0.009742708386939452,0.0019022320924179325,-0.0028656708129788785,-0.01400847075222544,-0.0028699721428423856,-0.004533025778414631,0.008690655340468388,-0.0043581583971775105,-0.006707683059238894,0.0003588894044134793,-0.0005832692666972918,0.005504828419965597,-0.011717240012162844,-0.007365221768905127,-0.00764906407671764,0.00048119583651082097,0.0064852171709036625,-0.0027122888788976324,0.01107618151551332,-0.013956004395686512,0.007025064852663816,0.0063213390295188574,0.014351295283905607,0.004110354001076374,-0.0014644620760757739,0.0018634704461354505,-0.004331297871981201,-0.006745137677816119,-0.0030749462677503296,0.0015049542106842105,0.006555105162656671,-0.005500711436984432,0.0011653100058186942,0.008585412055525241,-0.01564260552722776,0.0005862678085058179,-0.0020759838480750876,-0.009235844351152545,-0.016666477191231367,-0.0022510799334294423,0.0041963720245047674,-0.014800251479124848,0.0003990537106883037,0.005780704134190364,-0.002429856399603727,-0.00039778993267751666,-0.01347647032989409,0.007255588282934912,-0.0003768516258725016,0.011802882777938796,0.0063817905591359225,0.0051913408829109865,0.004087915912236972,-0.006115110502897607,-0.004993314857244581,0.01046649133332179,-4.5913197049638914e-05,-0.013414646956172782,-0.00882523202971711,-0.012364165589842322,-0.0017347143698367156,0.007511114561209817,-0.014456175911054608,-0.012046887403205692,-0.004543076364740735,0.011884883929670366,0.006260627657925518,0.010608265814448672,0.018983031132927274,0.009082025844375438,0.002297847915620259,0.00284199554427769,0.0007321314630716516,-0.007829319807058255,0.01548430309641447,-0.000953639754326823,0.019214937613587866,0.0021148073588667295,0.00122238529807709,0.0012430303845870662,0.007668124752286348,-0.0021817926592202913,0.0038533997022272832,0.0006151656456207858,-0.0018025831074994956,0.0009896124396357015,-0.0007036685470760853,0.003929728299914877,0.005898459934950831,-0.005263235464555216,-0.00019708162213514347,-0.004037918727864448,0.007601436708841672,0.004289938682770291,0.003882020560905879,0.004556834710761382,0.013695899627010042,0.003204233465814398,-0.0056940753497524595,0.005609309688445641,0.0060624706430893955,-0.013954179408550985,0.009437245558765753,0.0020076758121667965,0.004213637385105742,0.0018064529064549342,0.0003776598313376663,-0.0028991719525495417,-0.005612073647762583,-0.008200218753116065,-0.003226278085188268,0.001368722711720566,0.014174987030583994,-0.0015182214715403436,0.005639492806995132,-0.0004407372315755655,0.0006924998916625722,-0.0036779815254260047,-0.005574187544936197,0.008853494233072969,0.012389101331860433,0.002112104827275948,0.002912237082337803,0.0010925624315369024,0.005424155178897727,-0.0012712113489856446,0.007888186936642857,-0.0007737525103342413,-0.016451914258144705,0.013003243074726334,0.010472351923623717,-0.0036478271713354265,0.0028990992604667125,0.008305819554012096,0.0004415833108797068,0.005762791733809747,-0.00043904531949477997,-0.013868781838918256,0.00904659527888467,0.0068760437671022455,-0.004992421806456445,-0.0055206057201699224,0.0009054231408219095,0.02048425603665073,0.00068942948791089,-0.003669253457560932,0.0018560256034270653,-0.0013225219478980774,0.003588498464511727,0.009344468082401325,-0.0010729900314741514,-0.0100444113894327,0.005054453726737115,0.009877486355824644,-0.006020292976064564,-0.0008602198798415472,0.010699925765846127,-0.0015687412440107565,-0.0019787351992332034,-0.009992521797621997,0.005925564400416204,0.005541759714507747,0.009206790605195993,0.0032992544416057122,-0.0018976059248372494,-0.0027666301033714116,-0.001848720811659766,0.008368703582209678,-0.00019111406020605603,-0.0017413094278576045,-0.006378400662397819,0.0010978980906576894,-0.012281197944720696,0.010392697227312885,0.0005591824618205978,0.0011560955273918782,-0.010063585851018561,0.007518550514969957,-0.013899225274285687,-0.012607265932115247,-0.0018254601741845044,-0.005935821400641787,-0.0020598541449591205,-0.008766665273877018,0.009166993946983032,0.011796774271143656,-0.0004747299655049409,-0.0038061567197108415,0.009429315293021177,0.003535214185462806,-0.015968060924207314,-0.0032524344116499487,0.00930996529944333,0.01231912958333033,0.010273860527033316,0.0011028380684626946,9.665733795148855e-05,0.005745331819169011,0.0012872960520189931,0.00013428613231119228,0.004577659496461211,0.012306991279978533,-0.0020596279688887354,0.0014365015702952906,0.0011514481474172668,0.0024495269806736565,-0.0028834974288917308,-0.0073310266367182745,0.006594642789596251,0.0006985983143454546,-0.007027184767931233,-0.006655802363201398,0.0090669202532969,0.0008150207199744992,0.0011172741940039222,0.011815027054442569,-1.872156590881285e-05,-0.001216396959663698,0.0030849976419914907,0.0024054217322930335,0.008179461827137285,0.002011472906592374,0.0006081975017191718],\"type\":\"histogram\",\"xaxis\":\"x\",\"yaxis\":\"y\"}],                        {\"template\":{\"data\":{\"histogram2dcontour\":[{\"type\":\"histogram2dcontour\",\"colorbar\":{\"outlinewidth\":0,\"ticks\":\"\"},\"colorscale\":[[0.0,\"#0d0887\"],[0.1111111111111111,\"#46039f\"],[0.2222222222222222,\"#7201a8\"],[0.3333333333333333,\"#9c179e\"],[0.4444444444444444,\"#bd3786\"],[0.5555555555555556,\"#d8576b\"],[0.6666666666666666,\"#ed7953\"],[0.7777777777777778,\"#fb9f3a\"],[0.8888888888888888,\"#fdca26\"],[1.0,\"#f0f921\"]]}],\"choropleth\":[{\"type\":\"choropleth\",\"colorbar\":{\"outlinewidth\":0,\"ticks\":\"\"}}],\"histogram2d\":[{\"type\":\"histogram2d\",\"colorbar\":{\"outlinewidth\":0,\"ticks\":\"\"},\"colorscale\":[[0.0,\"#0d0887\"],[0.1111111111111111,\"#46039f\"],[0.2222222222222222,\"#7201a8\"],[0.3333333333333333,\"#9c179e\"],[0.4444444444444444,\"#bd3786\"],[0.5555555555555556,\"#d8576b\"],[0.6666666666666666,\"#ed7953\"],[0.7777777777777778,\"#fb9f3a\"],[0.8888888888888888,\"#fdca26\"],[1.0,\"#f0f921\"]]}],\"heatmap\":[{\"type\":\"heatmap\",\"colorbar\":{\"outlinewidth\":0,\"ticks\":\"\"},\"colorscale\":[[0.0,\"#0d0887\"],[0.1111111111111111,\"#46039f\"],[0.2222222222222222,\"#7201a8\"],[0.3333333333333333,\"#9c179e\"],[0.4444444444444444,\"#bd3786\"],[0.5555555555555556,\"#d8576b\"],[0.6666666666666666,\"#ed7953\"],[0.7777777777777778,\"#fb9f3a\"],[0.8888888888888888,\"#fdca26\"],[1.0,\"#f0f921\"]]}],\"heatmapgl\":[{\"type\":\"heatmapgl\",\"colorbar\":{\"outlinewidth\":0,\"ticks\":\"\"},\"colorscale\":[[0.0,\"#0d0887\"],[0.1111111111111111,\"#46039f\"],[0.2222222222222222,\"#7201a8\"],[0.3333333333333333,\"#9c179e\"],[0.4444444444444444,\"#bd3786\"],[0.5555555555555556,\"#d8576b\"],[0.6666666666666666,\"#ed7953\"],[0.7777777777777778,\"#fb9f3a\"],[0.8888888888888888,\"#fdca26\"],[1.0,\"#f0f921\"]]}],\"contourcarpet\":[{\"type\":\"contourcarpet\",\"colorbar\":{\"outlinewidth\":0,\"ticks\":\"\"}}],\"contour\":[{\"type\":\"contour\",\"colorbar\":{\"outlinewidth\":0,\"ticks\":\"\"},\"colorscale\":[[0.0,\"#0d0887\"],[0.1111111111111111,\"#46039f\"],[0.2222222222222222,\"#7201a8\"],[0.3333333333333333,\"#9c179e\"],[0.4444444444444444,\"#bd3786\"],[0.5555555555555556,\"#d8576b\"],[0.6666666666666666,\"#ed7953\"],[0.7777777777777778,\"#fb9f3a\"],[0.8888888888888888,\"#fdca26\"],[1.0,\"#f0f921\"]]}],\"surface\":[{\"type\":\"surface\",\"colorbar\":{\"outlinewidth\":0,\"ticks\":\"\"},\"colorscale\":[[0.0,\"#0d0887\"],[0.1111111111111111,\"#46039f\"],[0.2222222222222222,\"#7201a8\"],[0.3333333333333333,\"#9c179e\"],[0.4444444444444444,\"#bd3786\"],[0.5555555555555556,\"#d8576b\"],[0.6666666666666666,\"#ed7953\"],[0.7777777777777778,\"#fb9f3a\"],[0.8888888888888888,\"#fdca26\"],[1.0,\"#f0f921\"]]}],\"mesh3d\":[{\"type\":\"mesh3d\",\"colorbar\":{\"outlinewidth\":0,\"ticks\":\"\"}}],\"scatter\":[{\"fillpattern\":{\"fillmode\":\"overlay\",\"size\":10,\"solidity\":0.2},\"type\":\"scatter\"}],\"parcoords\":[{\"type\":\"parcoords\",\"line\":{\"colorbar\":{\"outlinewidth\":0,\"ticks\":\"\"}}}],\"scatterpolargl\":[{\"type\":\"scatterpolargl\",\"marker\":{\"colorbar\":{\"outlinewidth\":0,\"ticks\":\"\"}}}],\"bar\":[{\"error_x\":{\"color\":\"#2a3f5f\"},\"error_y\":{\"color\":\"#2a3f5f\"},\"marker\":{\"line\":{\"color\":\"#E5ECF6\",\"width\":0.5},\"pattern\":{\"fillmode\":\"overlay\",\"size\":10,\"solidity\":0.2}},\"type\":\"bar\"}],\"scattergeo\":[{\"type\":\"scattergeo\",\"marker\":{\"colorbar\":{\"outlinewidth\":0,\"ticks\":\"\"}}}],\"scatterpolar\":[{\"type\":\"scatterpolar\",\"marker\":{\"colorbar\":{\"outlinewidth\":0,\"ticks\":\"\"}}}],\"histogram\":[{\"marker\":{\"pattern\":{\"fillmode\":\"overlay\",\"size\":10,\"solidity\":0.2}},\"type\":\"histogram\"}],\"scattergl\":[{\"type\":\"scattergl\",\"marker\":{\"colorbar\":{\"outlinewidth\":0,\"ticks\":\"\"}}}],\"scatter3d\":[{\"type\":\"scatter3d\",\"line\":{\"colorbar\":{\"outlinewidth\":0,\"ticks\":\"\"}},\"marker\":{\"colorbar\":{\"outlinewidth\":0,\"ticks\":\"\"}}}],\"scattermapbox\":[{\"type\":\"scattermapbox\",\"marker\":{\"colorbar\":{\"outlinewidth\":0,\"ticks\":\"\"}}}],\"scatterternary\":[{\"type\":\"scatterternary\",\"marker\":{\"colorbar\":{\"outlinewidth\":0,\"ticks\":\"\"}}}],\"scattercarpet\":[{\"type\":\"scattercarpet\",\"marker\":{\"colorbar\":{\"outlinewidth\":0,\"ticks\":\"\"}}}],\"carpet\":[{\"aaxis\":{\"endlinecolor\":\"#2a3f5f\",\"gridcolor\":\"white\",\"linecolor\":\"white\",\"minorgridcolor\":\"white\",\"startlinecolor\":\"#2a3f5f\"},\"baxis\":{\"endlinecolor\":\"#2a3f5f\",\"gridcolor\":\"white\",\"linecolor\":\"white\",\"minorgridcolor\":\"white\",\"startlinecolor\":\"#2a3f5f\"},\"type\":\"carpet\"}],\"table\":[{\"cells\":{\"fill\":{\"color\":\"#EBF0F8\"},\"line\":{\"color\":\"white\"}},\"header\":{\"fill\":{\"color\":\"#C8D4E3\"},\"line\":{\"color\":\"white\"}},\"type\":\"table\"}],\"barpolar\":[{\"marker\":{\"line\":{\"color\":\"#E5ECF6\",\"width\":0.5},\"pattern\":{\"fillmode\":\"overlay\",\"size\":10,\"solidity\":0.2}},\"type\":\"barpolar\"}],\"pie\":[{\"automargin\":true,\"type\":\"pie\"}]},\"layout\":{\"autotypenumbers\":\"strict\",\"colorway\":[\"#636efa\",\"#EF553B\",\"#00cc96\",\"#ab63fa\",\"#FFA15A\",\"#19d3f3\",\"#FF6692\",\"#B6E880\",\"#FF97FF\",\"#FECB52\"],\"font\":{\"color\":\"#2a3f5f\"},\"hovermode\":\"closest\",\"hoverlabel\":{\"align\":\"left\"},\"paper_bgcolor\":\"white\",\"plot_bgcolor\":\"#E5ECF6\",\"polar\":{\"bgcolor\":\"#E5ECF6\",\"angularaxis\":{\"gridcolor\":\"white\",\"linecolor\":\"white\",\"ticks\":\"\"},\"radialaxis\":{\"gridcolor\":\"white\",\"linecolor\":\"white\",\"ticks\":\"\"}},\"ternary\":{\"bgcolor\":\"#E5ECF6\",\"aaxis\":{\"gridcolor\":\"white\",\"linecolor\":\"white\",\"ticks\":\"\"},\"baxis\":{\"gridcolor\":\"white\",\"linecolor\":\"white\",\"ticks\":\"\"},\"caxis\":{\"gridcolor\":\"white\",\"linecolor\":\"white\",\"ticks\":\"\"}},\"coloraxis\":{\"colorbar\":{\"outlinewidth\":0,\"ticks\":\"\"}},\"colorscale\":{\"sequential\":[[0.0,\"#0d0887\"],[0.1111111111111111,\"#46039f\"],[0.2222222222222222,\"#7201a8\"],[0.3333333333333333,\"#9c179e\"],[0.4444444444444444,\"#bd3786\"],[0.5555555555555556,\"#d8576b\"],[0.6666666666666666,\"#ed7953\"],[0.7777777777777778,\"#fb9f3a\"],[0.8888888888888888,\"#fdca26\"],[1.0,\"#f0f921\"]],\"sequentialminus\":[[0.0,\"#0d0887\"],[0.1111111111111111,\"#46039f\"],[0.2222222222222222,\"#7201a8\"],[0.3333333333333333,\"#9c179e\"],[0.4444444444444444,\"#bd3786\"],[0.5555555555555556,\"#d8576b\"],[0.6666666666666666,\"#ed7953\"],[0.7777777777777778,\"#fb9f3a\"],[0.8888888888888888,\"#fdca26\"],[1.0,\"#f0f921\"]],\"diverging\":[[0,\"#8e0152\"],[0.1,\"#c51b7d\"],[0.2,\"#de77ae\"],[0.3,\"#f1b6da\"],[0.4,\"#fde0ef\"],[0.5,\"#f7f7f7\"],[0.6,\"#e6f5d0\"],[0.7,\"#b8e186\"],[0.8,\"#7fbc41\"],[0.9,\"#4d9221\"],[1,\"#276419\"]]},\"xaxis\":{\"gridcolor\":\"white\",\"linecolor\":\"white\",\"ticks\":\"\",\"title\":{\"standoff\":15},\"zerolinecolor\":\"white\",\"automargin\":true,\"zerolinewidth\":2},\"yaxis\":{\"gridcolor\":\"white\",\"linecolor\":\"white\",\"ticks\":\"\",\"title\":{\"standoff\":15},\"zerolinecolor\":\"white\",\"automargin\":true,\"zerolinewidth\":2},\"scene\":{\"xaxis\":{\"backgroundcolor\":\"#E5ECF6\",\"gridcolor\":\"white\",\"linecolor\":\"white\",\"showbackground\":true,\"ticks\":\"\",\"zerolinecolor\":\"white\",\"gridwidth\":2},\"yaxis\":{\"backgroundcolor\":\"#E5ECF6\",\"gridcolor\":\"white\",\"linecolor\":\"white\",\"showbackground\":true,\"ticks\":\"\",\"zerolinecolor\":\"white\",\"gridwidth\":2},\"zaxis\":{\"backgroundcolor\":\"#E5ECF6\",\"gridcolor\":\"white\",\"linecolor\":\"white\",\"showbackground\":true,\"ticks\":\"\",\"zerolinecolor\":\"white\",\"gridwidth\":2}},\"shapedefaults\":{\"line\":{\"color\":\"#2a3f5f\"}},\"annotationdefaults\":{\"arrowcolor\":\"#2a3f5f\",\"arrowhead\":0,\"arrowwidth\":1},\"geo\":{\"bgcolor\":\"white\",\"landcolor\":\"#E5ECF6\",\"subunitcolor\":\"white\",\"showland\":true,\"showlakes\":true,\"lakecolor\":\"white\"},\"title\":{\"x\":0.05},\"mapbox\":{\"style\":\"light\"}}},\"xaxis\":{\"anchor\":\"y\",\"domain\":[0.0,0.45],\"title\":{\"text\":\"Annualised standard deviation:12.54\"}},\"yaxis\":{\"anchor\":\"x\",\"domain\":[0.575,1.0]},\"xaxis2\":{\"anchor\":\"y2\",\"domain\":[0.55,1.0]},\"yaxis2\":{\"anchor\":\"x2\",\"domain\":[0.575,1.0]},\"xaxis3\":{\"anchor\":\"y3\",\"domain\":[0.0,0.45]},\"yaxis3\":{\"anchor\":\"x3\",\"domain\":[0.0,0.425]},\"xaxis4\":{\"anchor\":\"y4\",\"domain\":[0.55,1.0]},\"yaxis4\":{\"anchor\":\"x4\",\"domain\":[0.0,0.425]},\"autosize\":true,\"width\":500,\"height\":500,\"title\":{\"text\":\"log returns fequency curve\"}},                        {\"responsive\": true}                    ).then(function(){\n",
              "                            \n",
              "var gd = document.getElementById('a36f484a-331d-4fdf-95f2-9e6792661f33');\n",
              "var x = new MutationObserver(function (mutations, observer) {{\n",
              "        var display = window.getComputedStyle(gd).display;\n",
              "        if (!display || display === 'none') {{\n",
              "            console.log([gd, 'removed!']);\n",
              "            Plotly.purge(gd);\n",
              "            observer.disconnect();\n",
              "        }}\n",
              "}});\n",
              "\n",
              "// Listen for the removal of the full notebook cells\n",
              "var notebookContainer = gd.closest('#notebook-container');\n",
              "if (notebookContainer) {{\n",
              "    x.observe(notebookContainer, {childList: true});\n",
              "}}\n",
              "\n",
              "// Listen for the clearing of the current output cell\n",
              "var outputEl = gd.closest('.output');\n",
              "if (outputEl) {{\n",
              "    x.observe(outputEl, {childList: true});\n",
              "}}\n",
              "\n",
              "                        })                };                });            </script>        </div>"
            ]
          },
          "metadata": {}
        }
      ]
    },
    {
      "cell_type": "markdown",
      "source": [
        "- Calculate and visualize the rolling standard deviation of log returns over a specified window of trading days"
      ],
      "metadata": {
        "id": "CLU_UiIlSpUl"
      }
    },
    {
      "cell_type": "code",
      "source": [
        "TRADING_DAYS = 5\n",
        "\n",
        "standard_deviation = log_returns.rolling(window=TRADING_DAYS).std()*np.sqrt(TRADING_DAYS)\n",
        "standard_deviation.dropna().head()\n",
        "\n",
        "standard_deviation.plot().show()"
      ],
      "metadata": {
        "execution": {
          "iopub.status.busy": "2023-10-22T14:06:07.465932Z",
          "iopub.execute_input": "2023-10-22T14:06:07.466366Z",
          "iopub.status.idle": "2023-10-22T14:06:09.878912Z",
          "shell.execute_reply.started": "2023-10-22T14:06:07.466327Z",
          "shell.execute_reply": "2023-10-22T14:06:09.877785Z"
        },
        "trusted": true,
        "id": "be78SVxHSpUo",
        "colab": {
          "base_uri": "https://localhost:8080/",
          "height": 542
        },
        "outputId": "367fae35-d716-4eda-b988-f9a8cc55661f"
      },
      "execution_count": 7,
      "outputs": [
        {
          "output_type": "display_data",
          "data": {
            "application/vnd.plotly.v1+json": {
              "data": [
                {
                  "hovertemplate": "variable=Close<br>Date=%{x}<br>value=%{y}<extra></extra>",
                  "legendgroup": "Close",
                  "line": {
                    "color": "#636efa",
                    "dash": "solid"
                  },
                  "marker": {
                    "symbol": "circle"
                  },
                  "mode": "lines",
                  "name": "Close",
                  "orientation": "v",
                  "showlegend": true,
                  "x": [
                    "2023-01-04T00:00:00",
                    "2023-01-05T00:00:00",
                    "2023-01-06T00:00:00",
                    "2023-01-09T00:00:00",
                    "2023-01-10T00:00:00",
                    "2023-01-11T00:00:00",
                    "2023-01-12T00:00:00",
                    "2023-01-13T00:00:00",
                    "2023-01-17T00:00:00",
                    "2023-01-18T00:00:00",
                    "2023-01-19T00:00:00",
                    "2023-01-20T00:00:00",
                    "2023-01-23T00:00:00",
                    "2023-01-24T00:00:00",
                    "2023-01-25T00:00:00",
                    "2023-01-26T00:00:00",
                    "2023-01-27T00:00:00",
                    "2023-01-30T00:00:00",
                    "2023-01-31T00:00:00",
                    "2023-02-01T00:00:00",
                    "2023-02-02T00:00:00",
                    "2023-02-03T00:00:00",
                    "2023-02-06T00:00:00",
                    "2023-02-07T00:00:00",
                    "2023-02-08T00:00:00",
                    "2023-02-09T00:00:00",
                    "2023-02-10T00:00:00",
                    "2023-02-13T00:00:00",
                    "2023-02-14T00:00:00",
                    "2023-02-15T00:00:00",
                    "2023-02-16T00:00:00",
                    "2023-02-17T00:00:00",
                    "2023-02-21T00:00:00",
                    "2023-02-22T00:00:00",
                    "2023-02-23T00:00:00",
                    "2023-02-24T00:00:00",
                    "2023-02-27T00:00:00",
                    "2023-02-28T00:00:00",
                    "2023-03-01T00:00:00",
                    "2023-03-02T00:00:00",
                    "2023-03-03T00:00:00",
                    "2023-03-06T00:00:00",
                    "2023-03-07T00:00:00",
                    "2023-03-08T00:00:00",
                    "2023-03-09T00:00:00",
                    "2023-03-10T00:00:00",
                    "2023-03-13T00:00:00",
                    "2023-03-14T00:00:00",
                    "2023-03-15T00:00:00",
                    "2023-03-16T00:00:00",
                    "2023-03-17T00:00:00",
                    "2023-03-20T00:00:00",
                    "2023-03-21T00:00:00",
                    "2023-03-22T00:00:00",
                    "2023-03-23T00:00:00",
                    "2023-03-24T00:00:00",
                    "2023-03-27T00:00:00",
                    "2023-03-28T00:00:00",
                    "2023-03-29T00:00:00",
                    "2023-03-30T00:00:00",
                    "2023-03-31T00:00:00",
                    "2023-04-03T00:00:00",
                    "2023-04-04T00:00:00",
                    "2023-04-05T00:00:00",
                    "2023-04-06T00:00:00",
                    "2023-04-10T00:00:00",
                    "2023-04-11T00:00:00",
                    "2023-04-12T00:00:00",
                    "2023-04-13T00:00:00",
                    "2023-04-14T00:00:00",
                    "2023-04-17T00:00:00",
                    "2023-04-18T00:00:00",
                    "2023-04-19T00:00:00",
                    "2023-04-20T00:00:00",
                    "2023-04-21T00:00:00",
                    "2023-04-24T00:00:00",
                    "2023-04-25T00:00:00",
                    "2023-04-26T00:00:00",
                    "2023-04-27T00:00:00",
                    "2023-04-28T00:00:00",
                    "2023-05-01T00:00:00",
                    "2023-05-02T00:00:00",
                    "2023-05-03T00:00:00",
                    "2023-05-04T00:00:00",
                    "2023-05-05T00:00:00",
                    "2023-05-08T00:00:00",
                    "2023-05-09T00:00:00",
                    "2023-05-10T00:00:00",
                    "2023-05-11T00:00:00",
                    "2023-05-12T00:00:00",
                    "2023-05-15T00:00:00",
                    "2023-05-16T00:00:00",
                    "2023-05-17T00:00:00",
                    "2023-05-18T00:00:00",
                    "2023-05-19T00:00:00",
                    "2023-05-22T00:00:00",
                    "2023-05-23T00:00:00",
                    "2023-05-24T00:00:00",
                    "2023-05-25T00:00:00",
                    "2023-05-26T00:00:00",
                    "2023-05-30T00:00:00",
                    "2023-05-31T00:00:00",
                    "2023-06-01T00:00:00",
                    "2023-06-02T00:00:00",
                    "2023-06-05T00:00:00",
                    "2023-06-06T00:00:00",
                    "2023-06-07T00:00:00",
                    "2023-06-08T00:00:00",
                    "2023-06-09T00:00:00",
                    "2023-06-12T00:00:00",
                    "2023-06-13T00:00:00",
                    "2023-06-14T00:00:00",
                    "2023-06-15T00:00:00",
                    "2023-06-16T00:00:00",
                    "2023-06-20T00:00:00",
                    "2023-06-21T00:00:00",
                    "2023-06-22T00:00:00",
                    "2023-06-23T00:00:00",
                    "2023-06-26T00:00:00",
                    "2023-06-27T00:00:00",
                    "2023-06-28T00:00:00",
                    "2023-06-29T00:00:00",
                    "2023-06-30T00:00:00",
                    "2023-07-03T00:00:00",
                    "2023-07-05T00:00:00",
                    "2023-07-06T00:00:00",
                    "2023-07-07T00:00:00",
                    "2023-07-10T00:00:00",
                    "2023-07-11T00:00:00",
                    "2023-07-12T00:00:00",
                    "2023-07-13T00:00:00",
                    "2023-07-14T00:00:00",
                    "2023-07-17T00:00:00",
                    "2023-07-18T00:00:00",
                    "2023-07-19T00:00:00",
                    "2023-07-20T00:00:00",
                    "2023-07-21T00:00:00",
                    "2023-07-24T00:00:00",
                    "2023-07-25T00:00:00",
                    "2023-07-26T00:00:00",
                    "2023-07-27T00:00:00",
                    "2023-07-28T00:00:00",
                    "2023-07-31T00:00:00",
                    "2023-08-01T00:00:00",
                    "2023-08-02T00:00:00",
                    "2023-08-03T00:00:00",
                    "2023-08-04T00:00:00",
                    "2023-08-07T00:00:00",
                    "2023-08-08T00:00:00",
                    "2023-08-09T00:00:00",
                    "2023-08-10T00:00:00",
                    "2023-08-11T00:00:00",
                    "2023-08-14T00:00:00",
                    "2023-08-15T00:00:00",
                    "2023-08-16T00:00:00",
                    "2023-08-17T00:00:00",
                    "2023-08-18T00:00:00",
                    "2023-08-21T00:00:00",
                    "2023-08-22T00:00:00",
                    "2023-08-23T00:00:00",
                    "2023-08-24T00:00:00",
                    "2023-08-25T00:00:00",
                    "2023-08-28T00:00:00",
                    "2023-08-29T00:00:00",
                    "2023-08-30T00:00:00",
                    "2023-08-31T00:00:00",
                    "2023-09-01T00:00:00",
                    "2023-09-05T00:00:00",
                    "2023-09-06T00:00:00",
                    "2023-09-07T00:00:00",
                    "2023-09-08T00:00:00",
                    "2023-09-11T00:00:00",
                    "2023-09-12T00:00:00",
                    "2023-09-13T00:00:00",
                    "2023-09-14T00:00:00",
                    "2023-09-15T00:00:00",
                    "2023-09-18T00:00:00",
                    "2023-09-19T00:00:00",
                    "2023-09-20T00:00:00",
                    "2023-09-21T00:00:00",
                    "2023-09-22T00:00:00",
                    "2023-09-25T00:00:00",
                    "2023-09-26T00:00:00",
                    "2023-09-27T00:00:00",
                    "2023-09-28T00:00:00",
                    "2023-09-29T00:00:00",
                    "2023-10-02T00:00:00",
                    "2023-10-03T00:00:00",
                    "2023-10-04T00:00:00",
                    "2023-10-05T00:00:00",
                    "2023-10-06T00:00:00",
                    "2023-10-09T00:00:00",
                    "2023-10-10T00:00:00",
                    "2023-10-11T00:00:00",
                    "2023-10-12T00:00:00",
                    "2023-10-13T00:00:00",
                    "2023-10-16T00:00:00",
                    "2023-10-17T00:00:00",
                    "2023-10-18T00:00:00",
                    "2023-10-19T00:00:00",
                    "2023-10-20T00:00:00",
                    "2023-10-23T00:00:00",
                    "2023-10-24T00:00:00",
                    "2023-10-25T00:00:00",
                    "2023-10-26T00:00:00",
                    "2023-10-27T00:00:00",
                    "2023-10-30T00:00:00",
                    "2023-10-31T00:00:00",
                    "2023-11-01T00:00:00",
                    "2023-11-02T00:00:00",
                    "2023-11-03T00:00:00",
                    "2023-11-06T00:00:00",
                    "2023-11-07T00:00:00",
                    "2023-11-08T00:00:00",
                    "2023-11-09T00:00:00",
                    "2023-11-10T00:00:00",
                    "2023-11-13T00:00:00",
                    "2023-11-14T00:00:00",
                    "2023-11-15T00:00:00",
                    "2023-11-16T00:00:00",
                    "2023-11-17T00:00:00",
                    "2023-11-20T00:00:00",
                    "2023-11-21T00:00:00",
                    "2023-11-22T00:00:00",
                    "2023-11-24T00:00:00",
                    "2023-11-27T00:00:00",
                    "2023-11-28T00:00:00",
                    "2023-11-29T00:00:00",
                    "2023-11-30T00:00:00",
                    "2023-12-01T00:00:00",
                    "2023-12-04T00:00:00",
                    "2023-12-05T00:00:00",
                    "2023-12-06T00:00:00",
                    "2023-12-07T00:00:00",
                    "2023-12-08T00:00:00",
                    "2023-12-11T00:00:00",
                    "2023-12-12T00:00:00",
                    "2023-12-13T00:00:00",
                    "2023-12-14T00:00:00",
                    "2023-12-15T00:00:00",
                    "2023-12-18T00:00:00",
                    "2023-12-19T00:00:00",
                    "2023-12-20T00:00:00",
                    "2023-12-21T00:00:00",
                    "2023-12-22T00:00:00",
                    "2023-12-26T00:00:00",
                    "2023-12-27T00:00:00",
                    "2023-12-28T00:00:00",
                    "2023-12-29T00:00:00",
                    "2024-01-02T00:00:00",
                    "2024-01-03T00:00:00",
                    "2024-01-04T00:00:00",
                    "2024-01-05T00:00:00",
                    "2024-01-08T00:00:00",
                    "2024-01-09T00:00:00",
                    "2024-01-10T00:00:00",
                    "2024-01-11T00:00:00",
                    "2024-01-12T00:00:00",
                    "2024-01-16T00:00:00",
                    "2024-01-17T00:00:00",
                    "2024-01-18T00:00:00",
                    "2024-01-19T00:00:00",
                    "2024-01-22T00:00:00",
                    "2024-01-23T00:00:00",
                    "2024-01-24T00:00:00",
                    "2024-01-25T00:00:00",
                    "2024-01-26T00:00:00",
                    "2024-01-29T00:00:00",
                    "2024-01-30T00:00:00",
                    "2024-01-31T00:00:00",
                    "2024-02-01T00:00:00",
                    "2024-02-02T00:00:00",
                    "2024-02-05T00:00:00",
                    "2024-02-06T00:00:00",
                    "2024-02-07T00:00:00",
                    "2024-02-08T00:00:00",
                    "2024-02-09T00:00:00",
                    "2024-02-12T00:00:00",
                    "2024-02-13T00:00:00",
                    "2024-02-14T00:00:00",
                    "2024-02-15T00:00:00",
                    "2024-02-16T00:00:00",
                    "2024-02-20T00:00:00",
                    "2024-02-21T00:00:00",
                    "2024-02-22T00:00:00",
                    "2024-02-23T00:00:00",
                    "2024-02-26T00:00:00",
                    "2024-02-27T00:00:00",
                    "2024-02-28T00:00:00",
                    "2024-02-29T00:00:00",
                    "2024-03-01T00:00:00",
                    "2024-03-04T00:00:00",
                    "2024-03-05T00:00:00",
                    "2024-03-06T00:00:00",
                    "2024-03-07T00:00:00",
                    "2024-03-08T00:00:00",
                    "2024-03-11T00:00:00",
                    "2024-03-12T00:00:00",
                    "2024-03-13T00:00:00",
                    "2024-03-14T00:00:00",
                    "2024-03-15T00:00:00",
                    "2024-03-18T00:00:00",
                    "2024-03-19T00:00:00",
                    "2024-03-20T00:00:00",
                    "2024-03-21T00:00:00",
                    "2024-03-22T00:00:00",
                    "2024-03-25T00:00:00",
                    "2024-03-26T00:00:00",
                    "2024-03-27T00:00:00",
                    "2024-03-28T00:00:00",
                    "2024-04-01T00:00:00",
                    "2024-04-02T00:00:00",
                    "2024-04-03T00:00:00",
                    "2024-04-04T00:00:00",
                    "2024-04-05T00:00:00",
                    "2024-04-08T00:00:00",
                    "2024-04-09T00:00:00",
                    "2024-04-10T00:00:00",
                    "2024-04-11T00:00:00",
                    "2024-04-12T00:00:00",
                    "2024-04-15T00:00:00",
                    "2024-04-16T00:00:00",
                    "2024-04-17T00:00:00",
                    "2024-04-18T00:00:00",
                    "2024-04-19T00:00:00",
                    "2024-04-22T00:00:00",
                    "2024-04-23T00:00:00",
                    "2024-04-24T00:00:00",
                    "2024-04-25T00:00:00",
                    "2024-04-26T00:00:00",
                    "2024-04-29T00:00:00",
                    "2024-04-30T00:00:00",
                    "2024-05-01T00:00:00",
                    "2024-05-02T00:00:00",
                    "2024-05-03T00:00:00",
                    "2024-05-06T00:00:00",
                    "2024-05-07T00:00:00",
                    "2024-05-08T00:00:00",
                    "2024-05-09T00:00:00",
                    "2024-05-10T00:00:00",
                    "2024-05-13T00:00:00",
                    "2024-05-14T00:00:00",
                    "2024-05-15T00:00:00",
                    "2024-05-16T00:00:00",
                    "2024-05-17T00:00:00",
                    "2024-05-20T00:00:00",
                    "2024-05-21T00:00:00",
                    "2024-05-22T00:00:00",
                    "2024-05-23T00:00:00",
                    "2024-05-24T00:00:00",
                    "2024-05-28T00:00:00",
                    "2024-05-29T00:00:00",
                    "2024-05-30T00:00:00",
                    "2024-05-31T00:00:00",
                    "2024-06-03T00:00:00",
                    "2024-06-04T00:00:00",
                    "2024-06-05T00:00:00",
                    "2024-06-06T00:00:00",
                    "2024-06-07T00:00:00",
                    "2024-06-10T00:00:00",
                    "2024-06-11T00:00:00",
                    "2024-06-12T00:00:00",
                    "2024-06-13T00:00:00",
                    "2024-06-14T00:00:00"
                  ],
                  "xaxis": "x",
                  "y": [
                    null,
                    null,
                    null,
                    null,
                    0.027974618010138515,
                    0.02895581479134602,
                    0.020125801837067712,
                    0.010892594778527439,
                    0.011782488616415517,
                    0.023497377435092982,
                    0.01859486000879014,
                    0.02881391372582387,
                    0.03136995488701563,
                    0.03129127395504346,
                    0.023384124560950317,
                    0.018499198637744147,
                    0.013633483709050393,
                    0.018889607852290165,
                    0.02368722852326999,
                    0.024397350344285102,
                    0.02566112994442204,
                    0.030702128668815835,
                    0.02695920663028234,
                    0.02625191411078191,
                    0.028511701124123885,
                    0.022545290729707963,
                    0.02197931801774007,
                    0.024913331715185498,
                    0.02033959164490405,
                    0.016398381807547147,
                    0.020702647238738974,
                    0.020756778883338885,
                    0.022099760051183127,
                    0.021788780162285228,
                    0.023056380698818543,
                    0.022003435042475775,
                    0.02386117127034,
                    0.014165755473489089,
                    0.014369018136036622,
                    0.01601613201923243,
                    0.018610018322434727,
                    0.018896125467237138,
                    0.026502811643004533,
                    0.02580542921253405,
                    0.031455121306612245,
                    0.021546958530270527,
                    0.020397628946302995,
                    0.031158820066715023,
                    0.03058903640228226,
                    0.031568714413954486,
                    0.032269154814000736,
                    0.03263709517821139,
                    0.03122710671405709,
                    0.0369432534483068,
                    0.03154377589671119,
                    0.02656226450563784,
                    0.025240297399225554,
                    0.020625751781504744,
                    0.014068629903821062,
                    0.013871161893681146,
                    0.016473623262151044,
                    0.01585482257332255,
                    0.018450009453925078,
                    0.017121431386134207,
                    0.016839421294586578,
                    0.009249593863282996,
                    0.008086380092896256,
                    0.007015701232250071,
                    0.014413053331890259,
                    0.015216442858072507,
                    0.015311956121464656,
                    0.015259235351087964,
                    0.013669618885524547,
                    0.007602579037020189,
                    0.007395125145920578,
                    0.006131672700256518,
                    0.016167481403018786,
                    0.015470107313124936,
                    0.028809619070288433,
                    0.029994276218026823,
                    0.030129161866617942,
                    0.026936137546141953,
                    0.02785657443968454,
                    0.017158607483556163,
                    0.02623279896280875,
                    0.026299246297069746,
                    0.023817529167301423,
                    0.02237243680899216,
                    0.020060740654533022,
                    0.007467285739837942,
                    0.00848435894745427,
                    0.010171473693070603,
                    0.015833635802582773,
                    0.01723682093938711,
                    0.017287066681778793,
                    0.017539670642185683,
                    0.020910640200420057,
                    0.01783137422166294,
                    0.01705693454848698,
                    0.022861224916732807,
                    0.02286159901439019,
                    0.019606029134884257,
                    0.016868046006743135,
                    0.019161470379662544,
                    0.018520946041024323,
                    0.018247111697565696,
                    0.016994011536775603,
                    0.015963797728625325,
                    0.008345978558280419,
                    0.010571737313484288,
                    0.010989965171495608,
                    0.0074625421286100314,
                    0.010615188618571907,
                    0.017026371379674214,
                    0.018101003568458226,
                    0.017827483806892884,
                    0.018318946447297847,
                    0.010169828300365067,
                    0.009548090457834762,
                    0.017012537693222203,
                    0.015978975707232407,
                    0.016058121912509826,
                    0.015141127712662131,
                    0.011951080165073957,
                    0.011552676911211644,
                    0.016097301775021635,
                    0.01616942371264614,
                    0.008991181983155894,
                    0.012005114290156018,
                    0.014605357461840928,
                    0.010039310806988416,
                    0.008436190545570894,
                    0.008163274125941892,
                    0.008440892898522262,
                    0.008033350247057841,
                    0.011710023649092101,
                    0.011607421262169175,
                    0.011879175399836956,
                    0.009684683692386882,
                    0.009456610347987152,
                    0.009452529452381495,
                    0.013451104310824625,
                    0.013126716465170463,
                    0.013692324252162729,
                    0.019968885759730083,
                    0.01930367822377731,
                    0.013073139236034634,
                    0.0180337938837385,
                    0.018069487244177073,
                    0.01365542626029455,
                    0.013766464968438794,
                    0.013163942365033487,
                    0.010491933986096073,
                    0.014937512512664152,
                    0.01517453590638826,
                    0.015229773303377664,
                    0.015592782965440616,
                    0.01636329888984775,
                    0.013193017048266609,
                    0.01654674386249074,
                    0.021410284240938722,
                    0.022463260573935398,
                    0.02241911630349622,
                    0.0247370420277093,
                    0.023537111103394813,
                    0.01275556225543827,
                    0.013304350479156023,
                    0.01600826113802676,
                    0.009883313893363024,
                    0.007202771540015447,
                    0.008381176405488418,
                    0.011807082998351037,
                    0.012242377043791077,
                    0.01038153011903542,
                    0.012260291599605119,
                    0.022031378868060118,
                    0.020217707290128957,
                    0.019796280328708647,
                    0.020769851366126104,
                    0.017393271252802482,
                    0.015694353259446632,
                    0.017836596316547403,
                    0.01950548835265719,
                    0.020917469132310882,
                    0.01824789247771992,
                    0.01825998238555493,
                    0.017046762346960172,
                    0.015841123198992856,
                    0.01842559558280787,
                    0.016684413097895416,
                    0.02148385932769227,
                    0.022010925965465986,
                    0.009791635532813201,
                    0.009816849165123652,
                    0.014574658050366973,
                    0.0133496640281085,
                    0.015835704053813713,
                    0.015259271020710216,
                    0.01975012668052787,
                    0.020487417055094964,
                    0.022452494380263376,
                    0.013645170054434741,
                    0.019491328963684832,
                    0.020022827778105955,
                    0.02083886380442225,
                    0.019572371792745163,
                    0.026107235849603616,
                    0.025541846658843653,
                    0.023161298398926358,
                    0.01939189722454136,
                    0.010615077994824728,
                    0.01386005845821342,
                    0.01519919012397008,
                    0.016822131917053628,
                    0.013579501395400973,
                    0.01865339216883412,
                    0.019021935232229694,
                    0.025731633858749308,
                    0.025458524428965054,
                    0.020640579516318834,
                    0.018482694655471702,
                    0.017231441448128063,
                    0.007969081698034328,
                    0.008183527253595769,
                    0.008310676979126855,
                    0.009269893103645692,
                    0.005452242360413218,
                    0.004770761538019428,
                    0.004836180828440075,
                    0.007171298065684687,
                    0.009663364074481302,
                    0.009732995178789436,
                    0.010854612888618583,
                    0.01291395989512262,
                    0.012200679638209333,
                    0.01006057974089527,
                    0.009697753745688804,
                    0.009222418218920132,
                    0.009779347832333241,
                    0.01536707427954321,
                    0.015457286536826254,
                    0.015564626692875599,
                    0.019399477373097617,
                    0.02190874128659398,
                    0.02059244495534524,
                    0.020317941192007156,
                    0.01956924603691235,
                    0.007951479403266454,
                    0.005866518628818735,
                    0.008672358032591069,
                    0.009242650208131645,
                    0.007174284559084557,
                    0.00794234927920364,
                    0.019732731880051136,
                    0.018755337980298187,
                    0.015543294929123494,
                    0.014282527514037465,
                    0.014444164976044345,
                    0.0077631831002316215,
                    0.00967068064856046,
                    0.01243246575464017,
                    0.0174921960667424,
                    0.017362244083726813,
                    0.015421166072461369,
                    0.010971642380240471,
                    0.01015606812625921,
                    0.005486265316584704,
                    0.008018835063745483,
                    0.008979120899276065,
                    0.021188122375505578,
                    0.025075914785200368,
                    0.026745674744534348,
                    0.026504035496160858,
                    0.026534326376928253,
                    0.014868045235193162,
                    0.012861154784247797,
                    0.010381909107037355,
                    0.008169384391316916,
                    0.019200230559274032,
                    0.019608786844477814,
                    0.020735859520512365,
                    0.02074546216211747,
                    0.021288313232694433,
                    0.014889849124079186,
                    0.02398109251099624,
                    0.02370512512852681,
                    0.023227510828761965,
                    0.021085152252919678,
                    0.021612032228798855,
                    0.006299705979471366,
                    0.011161128418682411,
                    0.009735369649766583,
                    0.01596630666153747,
                    0.016520668244994863,
                    0.018636018183816473,
                    0.018042470869159728,
                    0.018034409746721162,
                    0.015978966977299117,
                    0.016661315957705012,
                    0.01404607905008128,
                    0.016534690460109126,
                    0.017815846412992005,
                    0.014628356561215554,
                    0.01729184583116792,
                    0.01666700185199332,
                    0.00919283219844052,
                    0.011280089861114414,
                    0.011354490900161815,
                    0.010622993404072101,
                    0.010258560014198706,
                    0.01021718753545452,
                    0.012070844203823497,
                    0.011975291940373013,
                    0.012236303932956894,
                    0.018969672434709272,
                    0.019114787881222,
                    0.01808036213071909,
                    0.020639844073823556,
                    0.017648363796260037,
                    0.01966130340719173,
                    0.021084399508305863,
                    0.020080793766777686,
                    0.019497510146570463,
                    0.01279656211337324,
                    0.010245756063663684,
                    0.01524578452443608,
                    0.02049386059330149,
                    0.018902631921525602,
                    0.019436788018977424,
                    0.015429374623726993,
                    0.0146371236213487,
                    0.021227586530425873,
                    0.02124866443853967,
                    0.023763866922072777,
                    0.025234541353298313,
                    0.026864869213167417,
                    0.014947019935197441,
                    0.012552876270740658,
                    0.012096025451778153,
                    0.009549180992209293,
                    0.005233334831467841,
                    0.0058742404996740775,
                    0.010689097761359474,
                    0.012527160359578151,
                    0.012498805806507661,
                    0.012217104575439135,
                    0.012163900841184768,
                    0.005237413052472612,
                    0.009088983517760794,
                    0.011878224102839658,
                    0.011831712354188504,
                    0.013020310375867877,
                    0.013863189344319333,
                    0.016523996735811317,
                    0.014795156960756383,
                    0.014847647446147196,
                    0.01642395875471139,
                    0.012236710427979447,
                    0.011815051298938993,
                    0.01162635890796837,
                    0.011441536868796188,
                    0.008121127341881708,
                    0.007573432816397383,
                    0.006476195745641886
                  ],
                  "yaxis": "y",
                  "type": "scatter"
                }
              ],
              "layout": {
                "template": {
                  "data": {
                    "histogram2dcontour": [
                      {
                        "type": "histogram2dcontour",
                        "colorbar": {
                          "outlinewidth": 0,
                          "ticks": ""
                        },
                        "colorscale": [
                          [
                            0,
                            "#0d0887"
                          ],
                          [
                            0.1111111111111111,
                            "#46039f"
                          ],
                          [
                            0.2222222222222222,
                            "#7201a8"
                          ],
                          [
                            0.3333333333333333,
                            "#9c179e"
                          ],
                          [
                            0.4444444444444444,
                            "#bd3786"
                          ],
                          [
                            0.5555555555555556,
                            "#d8576b"
                          ],
                          [
                            0.6666666666666666,
                            "#ed7953"
                          ],
                          [
                            0.7777777777777778,
                            "#fb9f3a"
                          ],
                          [
                            0.8888888888888888,
                            "#fdca26"
                          ],
                          [
                            1,
                            "#f0f921"
                          ]
                        ]
                      }
                    ],
                    "choropleth": [
                      {
                        "type": "choropleth",
                        "colorbar": {
                          "outlinewidth": 0,
                          "ticks": ""
                        }
                      }
                    ],
                    "histogram2d": [
                      {
                        "type": "histogram2d",
                        "colorbar": {
                          "outlinewidth": 0,
                          "ticks": ""
                        },
                        "colorscale": [
                          [
                            0,
                            "#0d0887"
                          ],
                          [
                            0.1111111111111111,
                            "#46039f"
                          ],
                          [
                            0.2222222222222222,
                            "#7201a8"
                          ],
                          [
                            0.3333333333333333,
                            "#9c179e"
                          ],
                          [
                            0.4444444444444444,
                            "#bd3786"
                          ],
                          [
                            0.5555555555555556,
                            "#d8576b"
                          ],
                          [
                            0.6666666666666666,
                            "#ed7953"
                          ],
                          [
                            0.7777777777777778,
                            "#fb9f3a"
                          ],
                          [
                            0.8888888888888888,
                            "#fdca26"
                          ],
                          [
                            1,
                            "#f0f921"
                          ]
                        ]
                      }
                    ],
                    "heatmap": [
                      {
                        "type": "heatmap",
                        "colorbar": {
                          "outlinewidth": 0,
                          "ticks": ""
                        },
                        "colorscale": [
                          [
                            0,
                            "#0d0887"
                          ],
                          [
                            0.1111111111111111,
                            "#46039f"
                          ],
                          [
                            0.2222222222222222,
                            "#7201a8"
                          ],
                          [
                            0.3333333333333333,
                            "#9c179e"
                          ],
                          [
                            0.4444444444444444,
                            "#bd3786"
                          ],
                          [
                            0.5555555555555556,
                            "#d8576b"
                          ],
                          [
                            0.6666666666666666,
                            "#ed7953"
                          ],
                          [
                            0.7777777777777778,
                            "#fb9f3a"
                          ],
                          [
                            0.8888888888888888,
                            "#fdca26"
                          ],
                          [
                            1,
                            "#f0f921"
                          ]
                        ]
                      }
                    ],
                    "heatmapgl": [
                      {
                        "type": "heatmapgl",
                        "colorbar": {
                          "outlinewidth": 0,
                          "ticks": ""
                        },
                        "colorscale": [
                          [
                            0,
                            "#0d0887"
                          ],
                          [
                            0.1111111111111111,
                            "#46039f"
                          ],
                          [
                            0.2222222222222222,
                            "#7201a8"
                          ],
                          [
                            0.3333333333333333,
                            "#9c179e"
                          ],
                          [
                            0.4444444444444444,
                            "#bd3786"
                          ],
                          [
                            0.5555555555555556,
                            "#d8576b"
                          ],
                          [
                            0.6666666666666666,
                            "#ed7953"
                          ],
                          [
                            0.7777777777777778,
                            "#fb9f3a"
                          ],
                          [
                            0.8888888888888888,
                            "#fdca26"
                          ],
                          [
                            1,
                            "#f0f921"
                          ]
                        ]
                      }
                    ],
                    "contourcarpet": [
                      {
                        "type": "contourcarpet",
                        "colorbar": {
                          "outlinewidth": 0,
                          "ticks": ""
                        }
                      }
                    ],
                    "contour": [
                      {
                        "type": "contour",
                        "colorbar": {
                          "outlinewidth": 0,
                          "ticks": ""
                        },
                        "colorscale": [
                          [
                            0,
                            "#0d0887"
                          ],
                          [
                            0.1111111111111111,
                            "#46039f"
                          ],
                          [
                            0.2222222222222222,
                            "#7201a8"
                          ],
                          [
                            0.3333333333333333,
                            "#9c179e"
                          ],
                          [
                            0.4444444444444444,
                            "#bd3786"
                          ],
                          [
                            0.5555555555555556,
                            "#d8576b"
                          ],
                          [
                            0.6666666666666666,
                            "#ed7953"
                          ],
                          [
                            0.7777777777777778,
                            "#fb9f3a"
                          ],
                          [
                            0.8888888888888888,
                            "#fdca26"
                          ],
                          [
                            1,
                            "#f0f921"
                          ]
                        ]
                      }
                    ],
                    "surface": [
                      {
                        "type": "surface",
                        "colorbar": {
                          "outlinewidth": 0,
                          "ticks": ""
                        },
                        "colorscale": [
                          [
                            0,
                            "#0d0887"
                          ],
                          [
                            0.1111111111111111,
                            "#46039f"
                          ],
                          [
                            0.2222222222222222,
                            "#7201a8"
                          ],
                          [
                            0.3333333333333333,
                            "#9c179e"
                          ],
                          [
                            0.4444444444444444,
                            "#bd3786"
                          ],
                          [
                            0.5555555555555556,
                            "#d8576b"
                          ],
                          [
                            0.6666666666666666,
                            "#ed7953"
                          ],
                          [
                            0.7777777777777778,
                            "#fb9f3a"
                          ],
                          [
                            0.8888888888888888,
                            "#fdca26"
                          ],
                          [
                            1,
                            "#f0f921"
                          ]
                        ]
                      }
                    ],
                    "mesh3d": [
                      {
                        "type": "mesh3d",
                        "colorbar": {
                          "outlinewidth": 0,
                          "ticks": ""
                        }
                      }
                    ],
                    "scatter": [
                      {
                        "fillpattern": {
                          "fillmode": "overlay",
                          "size": 10,
                          "solidity": 0.2
                        },
                        "type": "scatter"
                      }
                    ],
                    "parcoords": [
                      {
                        "type": "parcoords",
                        "line": {
                          "colorbar": {
                            "outlinewidth": 0,
                            "ticks": ""
                          }
                        }
                      }
                    ],
                    "scatterpolargl": [
                      {
                        "type": "scatterpolargl",
                        "marker": {
                          "colorbar": {
                            "outlinewidth": 0,
                            "ticks": ""
                          }
                        }
                      }
                    ],
                    "bar": [
                      {
                        "error_x": {
                          "color": "#2a3f5f"
                        },
                        "error_y": {
                          "color": "#2a3f5f"
                        },
                        "marker": {
                          "line": {
                            "color": "#E5ECF6",
                            "width": 0.5
                          },
                          "pattern": {
                            "fillmode": "overlay",
                            "size": 10,
                            "solidity": 0.2
                          }
                        },
                        "type": "bar"
                      }
                    ],
                    "scattergeo": [
                      {
                        "type": "scattergeo",
                        "marker": {
                          "colorbar": {
                            "outlinewidth": 0,
                            "ticks": ""
                          }
                        }
                      }
                    ],
                    "scatterpolar": [
                      {
                        "type": "scatterpolar",
                        "marker": {
                          "colorbar": {
                            "outlinewidth": 0,
                            "ticks": ""
                          }
                        }
                      }
                    ],
                    "histogram": [
                      {
                        "marker": {
                          "pattern": {
                            "fillmode": "overlay",
                            "size": 10,
                            "solidity": 0.2
                          }
                        },
                        "type": "histogram"
                      }
                    ],
                    "scattergl": [
                      {
                        "type": "scattergl",
                        "marker": {
                          "colorbar": {
                            "outlinewidth": 0,
                            "ticks": ""
                          }
                        }
                      }
                    ],
                    "scatter3d": [
                      {
                        "type": "scatter3d",
                        "line": {
                          "colorbar": {
                            "outlinewidth": 0,
                            "ticks": ""
                          }
                        },
                        "marker": {
                          "colorbar": {
                            "outlinewidth": 0,
                            "ticks": ""
                          }
                        }
                      }
                    ],
                    "scattermapbox": [
                      {
                        "type": "scattermapbox",
                        "marker": {
                          "colorbar": {
                            "outlinewidth": 0,
                            "ticks": ""
                          }
                        }
                      }
                    ],
                    "scatterternary": [
                      {
                        "type": "scatterternary",
                        "marker": {
                          "colorbar": {
                            "outlinewidth": 0,
                            "ticks": ""
                          }
                        }
                      }
                    ],
                    "scattercarpet": [
                      {
                        "type": "scattercarpet",
                        "marker": {
                          "colorbar": {
                            "outlinewidth": 0,
                            "ticks": ""
                          }
                        }
                      }
                    ],
                    "carpet": [
                      {
                        "aaxis": {
                          "endlinecolor": "#2a3f5f",
                          "gridcolor": "white",
                          "linecolor": "white",
                          "minorgridcolor": "white",
                          "startlinecolor": "#2a3f5f"
                        },
                        "baxis": {
                          "endlinecolor": "#2a3f5f",
                          "gridcolor": "white",
                          "linecolor": "white",
                          "minorgridcolor": "white",
                          "startlinecolor": "#2a3f5f"
                        },
                        "type": "carpet"
                      }
                    ],
                    "table": [
                      {
                        "cells": {
                          "fill": {
                            "color": "#EBF0F8"
                          },
                          "line": {
                            "color": "white"
                          }
                        },
                        "header": {
                          "fill": {
                            "color": "#C8D4E3"
                          },
                          "line": {
                            "color": "white"
                          }
                        },
                        "type": "table"
                      }
                    ],
                    "barpolar": [
                      {
                        "marker": {
                          "line": {
                            "color": "#E5ECF6",
                            "width": 0.5
                          },
                          "pattern": {
                            "fillmode": "overlay",
                            "size": 10,
                            "solidity": 0.2
                          }
                        },
                        "type": "barpolar"
                      }
                    ],
                    "pie": [
                      {
                        "automargin": true,
                        "type": "pie"
                      }
                    ]
                  },
                  "layout": {
                    "autotypenumbers": "strict",
                    "colorway": [
                      "#636efa",
                      "#EF553B",
                      "#00cc96",
                      "#ab63fa",
                      "#FFA15A",
                      "#19d3f3",
                      "#FF6692",
                      "#B6E880",
                      "#FF97FF",
                      "#FECB52"
                    ],
                    "font": {
                      "color": "#2a3f5f"
                    },
                    "hovermode": "closest",
                    "hoverlabel": {
                      "align": "left"
                    },
                    "paper_bgcolor": "white",
                    "plot_bgcolor": "#E5ECF6",
                    "polar": {
                      "bgcolor": "#E5ECF6",
                      "angularaxis": {
                        "gridcolor": "white",
                        "linecolor": "white",
                        "ticks": ""
                      },
                      "radialaxis": {
                        "gridcolor": "white",
                        "linecolor": "white",
                        "ticks": ""
                      }
                    },
                    "ternary": {
                      "bgcolor": "#E5ECF6",
                      "aaxis": {
                        "gridcolor": "white",
                        "linecolor": "white",
                        "ticks": ""
                      },
                      "baxis": {
                        "gridcolor": "white",
                        "linecolor": "white",
                        "ticks": ""
                      },
                      "caxis": {
                        "gridcolor": "white",
                        "linecolor": "white",
                        "ticks": ""
                      }
                    },
                    "coloraxis": {
                      "colorbar": {
                        "outlinewidth": 0,
                        "ticks": ""
                      }
                    },
                    "colorscale": {
                      "sequential": [
                        [
                          0,
                          "#0d0887"
                        ],
                        [
                          0.1111111111111111,
                          "#46039f"
                        ],
                        [
                          0.2222222222222222,
                          "#7201a8"
                        ],
                        [
                          0.3333333333333333,
                          "#9c179e"
                        ],
                        [
                          0.4444444444444444,
                          "#bd3786"
                        ],
                        [
                          0.5555555555555556,
                          "#d8576b"
                        ],
                        [
                          0.6666666666666666,
                          "#ed7953"
                        ],
                        [
                          0.7777777777777778,
                          "#fb9f3a"
                        ],
                        [
                          0.8888888888888888,
                          "#fdca26"
                        ],
                        [
                          1,
                          "#f0f921"
                        ]
                      ],
                      "sequentialminus": [
                        [
                          0,
                          "#0d0887"
                        ],
                        [
                          0.1111111111111111,
                          "#46039f"
                        ],
                        [
                          0.2222222222222222,
                          "#7201a8"
                        ],
                        [
                          0.3333333333333333,
                          "#9c179e"
                        ],
                        [
                          0.4444444444444444,
                          "#bd3786"
                        ],
                        [
                          0.5555555555555556,
                          "#d8576b"
                        ],
                        [
                          0.6666666666666666,
                          "#ed7953"
                        ],
                        [
                          0.7777777777777778,
                          "#fb9f3a"
                        ],
                        [
                          0.8888888888888888,
                          "#fdca26"
                        ],
                        [
                          1,
                          "#f0f921"
                        ]
                      ],
                      "diverging": [
                        [
                          0,
                          "#8e0152"
                        ],
                        [
                          0.1,
                          "#c51b7d"
                        ],
                        [
                          0.2,
                          "#de77ae"
                        ],
                        [
                          0.3,
                          "#f1b6da"
                        ],
                        [
                          0.4,
                          "#fde0ef"
                        ],
                        [
                          0.5,
                          "#f7f7f7"
                        ],
                        [
                          0.6,
                          "#e6f5d0"
                        ],
                        [
                          0.7,
                          "#b8e186"
                        ],
                        [
                          0.8,
                          "#7fbc41"
                        ],
                        [
                          0.9,
                          "#4d9221"
                        ],
                        [
                          1,
                          "#276419"
                        ]
                      ]
                    },
                    "xaxis": {
                      "gridcolor": "white",
                      "linecolor": "white",
                      "ticks": "",
                      "title": {
                        "standoff": 15
                      },
                      "zerolinecolor": "white",
                      "automargin": true,
                      "zerolinewidth": 2
                    },
                    "yaxis": {
                      "gridcolor": "white",
                      "linecolor": "white",
                      "ticks": "",
                      "title": {
                        "standoff": 15
                      },
                      "zerolinecolor": "white",
                      "automargin": true,
                      "zerolinewidth": 2
                    },
                    "scene": {
                      "xaxis": {
                        "backgroundcolor": "#E5ECF6",
                        "gridcolor": "white",
                        "linecolor": "white",
                        "showbackground": true,
                        "ticks": "",
                        "zerolinecolor": "white",
                        "gridwidth": 2
                      },
                      "yaxis": {
                        "backgroundcolor": "#E5ECF6",
                        "gridcolor": "white",
                        "linecolor": "white",
                        "showbackground": true,
                        "ticks": "",
                        "zerolinecolor": "white",
                        "gridwidth": 2
                      },
                      "zaxis": {
                        "backgroundcolor": "#E5ECF6",
                        "gridcolor": "white",
                        "linecolor": "white",
                        "showbackground": true,
                        "ticks": "",
                        "zerolinecolor": "white",
                        "gridwidth": 2
                      }
                    },
                    "shapedefaults": {
                      "line": {
                        "color": "#2a3f5f"
                      }
                    },
                    "annotationdefaults": {
                      "arrowcolor": "#2a3f5f",
                      "arrowhead": 0,
                      "arrowwidth": 1
                    },
                    "geo": {
                      "bgcolor": "white",
                      "landcolor": "#E5ECF6",
                      "subunitcolor": "white",
                      "showland": true,
                      "showlakes": true,
                      "lakecolor": "white"
                    },
                    "title": {
                      "x": 0.05
                    },
                    "mapbox": {
                      "style": "light"
                    }
                  }
                },
                "xaxis": {
                  "anchor": "y",
                  "domain": [
                    0,
                    1
                  ],
                  "title": {
                    "text": "Date"
                  }
                },
                "yaxis": {
                  "anchor": "x",
                  "domain": [
                    0,
                    1
                  ],
                  "title": {
                    "text": "value"
                  }
                },
                "legend": {
                  "title": {
                    "text": "variable"
                  },
                  "tracegroupgap": 0
                },
                "margin": {
                  "t": 60
                }
              },
              "config": {
                "plotlyServerURL": "https://plot.ly"
              }
            },
            "text/html": [
              "<div>                            <div id=\"bc23861c-18f1-48f7-9a05-090c9d1934c7\" class=\"plotly-graph-div\" style=\"height:525px; width:100%;\"></div>            <script type=\"text/javascript\">                require([\"plotly\"], function(Plotly) {                    window.PLOTLYENV=window.PLOTLYENV || {};                                    if (document.getElementById(\"bc23861c-18f1-48f7-9a05-090c9d1934c7\")) {                    Plotly.newPlot(                        \"bc23861c-18f1-48f7-9a05-090c9d1934c7\",                        [{\"hovertemplate\":\"variable=Close\\u003cbr\\u003eDate=%{x}\\u003cbr\\u003evalue=%{y}\\u003cextra\\u003e\\u003c\\u002fextra\\u003e\",\"legendgroup\":\"Close\",\"line\":{\"color\":\"#636efa\",\"dash\":\"solid\"},\"marker\":{\"symbol\":\"circle\"},\"mode\":\"lines\",\"name\":\"Close\",\"orientation\":\"v\",\"showlegend\":true,\"x\":[\"2023-01-04T00:00:00\",\"2023-01-05T00:00:00\",\"2023-01-06T00:00:00\",\"2023-01-09T00:00:00\",\"2023-01-10T00:00:00\",\"2023-01-11T00:00:00\",\"2023-01-12T00:00:00\",\"2023-01-13T00:00:00\",\"2023-01-17T00:00:00\",\"2023-01-18T00:00:00\",\"2023-01-19T00:00:00\",\"2023-01-20T00:00:00\",\"2023-01-23T00:00:00\",\"2023-01-24T00:00:00\",\"2023-01-25T00:00:00\",\"2023-01-26T00:00:00\",\"2023-01-27T00:00:00\",\"2023-01-30T00:00:00\",\"2023-01-31T00:00:00\",\"2023-02-01T00:00:00\",\"2023-02-02T00:00:00\",\"2023-02-03T00:00:00\",\"2023-02-06T00:00:00\",\"2023-02-07T00:00:00\",\"2023-02-08T00:00:00\",\"2023-02-09T00:00:00\",\"2023-02-10T00:00:00\",\"2023-02-13T00:00:00\",\"2023-02-14T00:00:00\",\"2023-02-15T00:00:00\",\"2023-02-16T00:00:00\",\"2023-02-17T00:00:00\",\"2023-02-21T00:00:00\",\"2023-02-22T00:00:00\",\"2023-02-23T00:00:00\",\"2023-02-24T00:00:00\",\"2023-02-27T00:00:00\",\"2023-02-28T00:00:00\",\"2023-03-01T00:00:00\",\"2023-03-02T00:00:00\",\"2023-03-03T00:00:00\",\"2023-03-06T00:00:00\",\"2023-03-07T00:00:00\",\"2023-03-08T00:00:00\",\"2023-03-09T00:00:00\",\"2023-03-10T00:00:00\",\"2023-03-13T00:00:00\",\"2023-03-14T00:00:00\",\"2023-03-15T00:00:00\",\"2023-03-16T00:00:00\",\"2023-03-17T00:00:00\",\"2023-03-20T00:00:00\",\"2023-03-21T00:00:00\",\"2023-03-22T00:00:00\",\"2023-03-23T00:00:00\",\"2023-03-24T00:00:00\",\"2023-03-27T00:00:00\",\"2023-03-28T00:00:00\",\"2023-03-29T00:00:00\",\"2023-03-30T00:00:00\",\"2023-03-31T00:00:00\",\"2023-04-03T00:00:00\",\"2023-04-04T00:00:00\",\"2023-04-05T00:00:00\",\"2023-04-06T00:00:00\",\"2023-04-10T00:00:00\",\"2023-04-11T00:00:00\",\"2023-04-12T00:00:00\",\"2023-04-13T00:00:00\",\"2023-04-14T00:00:00\",\"2023-04-17T00:00:00\",\"2023-04-18T00:00:00\",\"2023-04-19T00:00:00\",\"2023-04-20T00:00:00\",\"2023-04-21T00:00:00\",\"2023-04-24T00:00:00\",\"2023-04-25T00:00:00\",\"2023-04-26T00:00:00\",\"2023-04-27T00:00:00\",\"2023-04-28T00:00:00\",\"2023-05-01T00:00:00\",\"2023-05-02T00:00:00\",\"2023-05-03T00:00:00\",\"2023-05-04T00:00:00\",\"2023-05-05T00:00:00\",\"2023-05-08T00:00:00\",\"2023-05-09T00:00:00\",\"2023-05-10T00:00:00\",\"2023-05-11T00:00:00\",\"2023-05-12T00:00:00\",\"2023-05-15T00:00:00\",\"2023-05-16T00:00:00\",\"2023-05-17T00:00:00\",\"2023-05-18T00:00:00\",\"2023-05-19T00:00:00\",\"2023-05-22T00:00:00\",\"2023-05-23T00:00:00\",\"2023-05-24T00:00:00\",\"2023-05-25T00:00:00\",\"2023-05-26T00:00:00\",\"2023-05-30T00:00:00\",\"2023-05-31T00:00:00\",\"2023-06-01T00:00:00\",\"2023-06-02T00:00:00\",\"2023-06-05T00:00:00\",\"2023-06-06T00:00:00\",\"2023-06-07T00:00:00\",\"2023-06-08T00:00:00\",\"2023-06-09T00:00:00\",\"2023-06-12T00:00:00\",\"2023-06-13T00:00:00\",\"2023-06-14T00:00:00\",\"2023-06-15T00:00:00\",\"2023-06-16T00:00:00\",\"2023-06-20T00:00:00\",\"2023-06-21T00:00:00\",\"2023-06-22T00:00:00\",\"2023-06-23T00:00:00\",\"2023-06-26T00:00:00\",\"2023-06-27T00:00:00\",\"2023-06-28T00:00:00\",\"2023-06-29T00:00:00\",\"2023-06-30T00:00:00\",\"2023-07-03T00:00:00\",\"2023-07-05T00:00:00\",\"2023-07-06T00:00:00\",\"2023-07-07T00:00:00\",\"2023-07-10T00:00:00\",\"2023-07-11T00:00:00\",\"2023-07-12T00:00:00\",\"2023-07-13T00:00:00\",\"2023-07-14T00:00:00\",\"2023-07-17T00:00:00\",\"2023-07-18T00:00:00\",\"2023-07-19T00:00:00\",\"2023-07-20T00:00:00\",\"2023-07-21T00:00:00\",\"2023-07-24T00:00:00\",\"2023-07-25T00:00:00\",\"2023-07-26T00:00:00\",\"2023-07-27T00:00:00\",\"2023-07-28T00:00:00\",\"2023-07-31T00:00:00\",\"2023-08-01T00:00:00\",\"2023-08-02T00:00:00\",\"2023-08-03T00:00:00\",\"2023-08-04T00:00:00\",\"2023-08-07T00:00:00\",\"2023-08-08T00:00:00\",\"2023-08-09T00:00:00\",\"2023-08-10T00:00:00\",\"2023-08-11T00:00:00\",\"2023-08-14T00:00:00\",\"2023-08-15T00:00:00\",\"2023-08-16T00:00:00\",\"2023-08-17T00:00:00\",\"2023-08-18T00:00:00\",\"2023-08-21T00:00:00\",\"2023-08-22T00:00:00\",\"2023-08-23T00:00:00\",\"2023-08-24T00:00:00\",\"2023-08-25T00:00:00\",\"2023-08-28T00:00:00\",\"2023-08-29T00:00:00\",\"2023-08-30T00:00:00\",\"2023-08-31T00:00:00\",\"2023-09-01T00:00:00\",\"2023-09-05T00:00:00\",\"2023-09-06T00:00:00\",\"2023-09-07T00:00:00\",\"2023-09-08T00:00:00\",\"2023-09-11T00:00:00\",\"2023-09-12T00:00:00\",\"2023-09-13T00:00:00\",\"2023-09-14T00:00:00\",\"2023-09-15T00:00:00\",\"2023-09-18T00:00:00\",\"2023-09-19T00:00:00\",\"2023-09-20T00:00:00\",\"2023-09-21T00:00:00\",\"2023-09-22T00:00:00\",\"2023-09-25T00:00:00\",\"2023-09-26T00:00:00\",\"2023-09-27T00:00:00\",\"2023-09-28T00:00:00\",\"2023-09-29T00:00:00\",\"2023-10-02T00:00:00\",\"2023-10-03T00:00:00\",\"2023-10-04T00:00:00\",\"2023-10-05T00:00:00\",\"2023-10-06T00:00:00\",\"2023-10-09T00:00:00\",\"2023-10-10T00:00:00\",\"2023-10-11T00:00:00\",\"2023-10-12T00:00:00\",\"2023-10-13T00:00:00\",\"2023-10-16T00:00:00\",\"2023-10-17T00:00:00\",\"2023-10-18T00:00:00\",\"2023-10-19T00:00:00\",\"2023-10-20T00:00:00\",\"2023-10-23T00:00:00\",\"2023-10-24T00:00:00\",\"2023-10-25T00:00:00\",\"2023-10-26T00:00:00\",\"2023-10-27T00:00:00\",\"2023-10-30T00:00:00\",\"2023-10-31T00:00:00\",\"2023-11-01T00:00:00\",\"2023-11-02T00:00:00\",\"2023-11-03T00:00:00\",\"2023-11-06T00:00:00\",\"2023-11-07T00:00:00\",\"2023-11-08T00:00:00\",\"2023-11-09T00:00:00\",\"2023-11-10T00:00:00\",\"2023-11-13T00:00:00\",\"2023-11-14T00:00:00\",\"2023-11-15T00:00:00\",\"2023-11-16T00:00:00\",\"2023-11-17T00:00:00\",\"2023-11-20T00:00:00\",\"2023-11-21T00:00:00\",\"2023-11-22T00:00:00\",\"2023-11-24T00:00:00\",\"2023-11-27T00:00:00\",\"2023-11-28T00:00:00\",\"2023-11-29T00:00:00\",\"2023-11-30T00:00:00\",\"2023-12-01T00:00:00\",\"2023-12-04T00:00:00\",\"2023-12-05T00:00:00\",\"2023-12-06T00:00:00\",\"2023-12-07T00:00:00\",\"2023-12-08T00:00:00\",\"2023-12-11T00:00:00\",\"2023-12-12T00:00:00\",\"2023-12-13T00:00:00\",\"2023-12-14T00:00:00\",\"2023-12-15T00:00:00\",\"2023-12-18T00:00:00\",\"2023-12-19T00:00:00\",\"2023-12-20T00:00:00\",\"2023-12-21T00:00:00\",\"2023-12-22T00:00:00\",\"2023-12-26T00:00:00\",\"2023-12-27T00:00:00\",\"2023-12-28T00:00:00\",\"2023-12-29T00:00:00\",\"2024-01-02T00:00:00\",\"2024-01-03T00:00:00\",\"2024-01-04T00:00:00\",\"2024-01-05T00:00:00\",\"2024-01-08T00:00:00\",\"2024-01-09T00:00:00\",\"2024-01-10T00:00:00\",\"2024-01-11T00:00:00\",\"2024-01-12T00:00:00\",\"2024-01-16T00:00:00\",\"2024-01-17T00:00:00\",\"2024-01-18T00:00:00\",\"2024-01-19T00:00:00\",\"2024-01-22T00:00:00\",\"2024-01-23T00:00:00\",\"2024-01-24T00:00:00\",\"2024-01-25T00:00:00\",\"2024-01-26T00:00:00\",\"2024-01-29T00:00:00\",\"2024-01-30T00:00:00\",\"2024-01-31T00:00:00\",\"2024-02-01T00:00:00\",\"2024-02-02T00:00:00\",\"2024-02-05T00:00:00\",\"2024-02-06T00:00:00\",\"2024-02-07T00:00:00\",\"2024-02-08T00:00:00\",\"2024-02-09T00:00:00\",\"2024-02-12T00:00:00\",\"2024-02-13T00:00:00\",\"2024-02-14T00:00:00\",\"2024-02-15T00:00:00\",\"2024-02-16T00:00:00\",\"2024-02-20T00:00:00\",\"2024-02-21T00:00:00\",\"2024-02-22T00:00:00\",\"2024-02-23T00:00:00\",\"2024-02-26T00:00:00\",\"2024-02-27T00:00:00\",\"2024-02-28T00:00:00\",\"2024-02-29T00:00:00\",\"2024-03-01T00:00:00\",\"2024-03-04T00:00:00\",\"2024-03-05T00:00:00\",\"2024-03-06T00:00:00\",\"2024-03-07T00:00:00\",\"2024-03-08T00:00:00\",\"2024-03-11T00:00:00\",\"2024-03-12T00:00:00\",\"2024-03-13T00:00:00\",\"2024-03-14T00:00:00\",\"2024-03-15T00:00:00\",\"2024-03-18T00:00:00\",\"2024-03-19T00:00:00\",\"2024-03-20T00:00:00\",\"2024-03-21T00:00:00\",\"2024-03-22T00:00:00\",\"2024-03-25T00:00:00\",\"2024-03-26T00:00:00\",\"2024-03-27T00:00:00\",\"2024-03-28T00:00:00\",\"2024-04-01T00:00:00\",\"2024-04-02T00:00:00\",\"2024-04-03T00:00:00\",\"2024-04-04T00:00:00\",\"2024-04-05T00:00:00\",\"2024-04-08T00:00:00\",\"2024-04-09T00:00:00\",\"2024-04-10T00:00:00\",\"2024-04-11T00:00:00\",\"2024-04-12T00:00:00\",\"2024-04-15T00:00:00\",\"2024-04-16T00:00:00\",\"2024-04-17T00:00:00\",\"2024-04-18T00:00:00\",\"2024-04-19T00:00:00\",\"2024-04-22T00:00:00\",\"2024-04-23T00:00:00\",\"2024-04-24T00:00:00\",\"2024-04-25T00:00:00\",\"2024-04-26T00:00:00\",\"2024-04-29T00:00:00\",\"2024-04-30T00:00:00\",\"2024-05-01T00:00:00\",\"2024-05-02T00:00:00\",\"2024-05-03T00:00:00\",\"2024-05-06T00:00:00\",\"2024-05-07T00:00:00\",\"2024-05-08T00:00:00\",\"2024-05-09T00:00:00\",\"2024-05-10T00:00:00\",\"2024-05-13T00:00:00\",\"2024-05-14T00:00:00\",\"2024-05-15T00:00:00\",\"2024-05-16T00:00:00\",\"2024-05-17T00:00:00\",\"2024-05-20T00:00:00\",\"2024-05-21T00:00:00\",\"2024-05-22T00:00:00\",\"2024-05-23T00:00:00\",\"2024-05-24T00:00:00\",\"2024-05-28T00:00:00\",\"2024-05-29T00:00:00\",\"2024-05-30T00:00:00\",\"2024-05-31T00:00:00\",\"2024-06-03T00:00:00\",\"2024-06-04T00:00:00\",\"2024-06-05T00:00:00\",\"2024-06-06T00:00:00\",\"2024-06-07T00:00:00\",\"2024-06-10T00:00:00\",\"2024-06-11T00:00:00\",\"2024-06-12T00:00:00\",\"2024-06-13T00:00:00\",\"2024-06-14T00:00:00\"],\"xaxis\":\"x\",\"y\":[null,null,null,null,0.027974618010138515,0.02895581479134602,0.020125801837067712,0.010892594778527439,0.011782488616415517,0.023497377435092982,0.01859486000879014,0.02881391372582387,0.03136995488701563,0.03129127395504346,0.023384124560950317,0.018499198637744147,0.013633483709050393,0.018889607852290165,0.02368722852326999,0.024397350344285102,0.02566112994442204,0.030702128668815835,0.02695920663028234,0.02625191411078191,0.028511701124123885,0.022545290729707963,0.02197931801774007,0.024913331715185498,0.02033959164490405,0.016398381807547147,0.020702647238738974,0.020756778883338885,0.022099760051183127,0.021788780162285228,0.023056380698818543,0.022003435042475775,0.02386117127034,0.014165755473489089,0.014369018136036622,0.01601613201923243,0.018610018322434727,0.018896125467237138,0.026502811643004533,0.02580542921253405,0.031455121306612245,0.021546958530270527,0.020397628946302995,0.031158820066715023,0.03058903640228226,0.031568714413954486,0.032269154814000736,0.03263709517821139,0.03122710671405709,0.0369432534483068,0.03154377589671119,0.02656226450563784,0.025240297399225554,0.020625751781504744,0.014068629903821062,0.013871161893681146,0.016473623262151044,0.01585482257332255,0.018450009453925078,0.017121431386134207,0.016839421294586578,0.009249593863282996,0.008086380092896256,0.007015701232250071,0.014413053331890259,0.015216442858072507,0.015311956121464656,0.015259235351087964,0.013669618885524547,0.007602579037020189,0.007395125145920578,0.006131672700256518,0.016167481403018786,0.015470107313124936,0.028809619070288433,0.029994276218026823,0.030129161866617942,0.026936137546141953,0.02785657443968454,0.017158607483556163,0.02623279896280875,0.026299246297069746,0.023817529167301423,0.02237243680899216,0.020060740654533022,0.007467285739837942,0.00848435894745427,0.010171473693070603,0.015833635802582773,0.01723682093938711,0.017287066681778793,0.017539670642185683,0.020910640200420057,0.01783137422166294,0.01705693454848698,0.022861224916732807,0.02286159901439019,0.019606029134884257,0.016868046006743135,0.019161470379662544,0.018520946041024323,0.018247111697565696,0.016994011536775603,0.015963797728625325,0.008345978558280419,0.010571737313484288,0.010989965171495608,0.0074625421286100314,0.010615188618571907,0.017026371379674214,0.018101003568458226,0.017827483806892884,0.018318946447297847,0.010169828300365067,0.009548090457834762,0.017012537693222203,0.015978975707232407,0.016058121912509826,0.015141127712662131,0.011951080165073957,0.011552676911211644,0.016097301775021635,0.01616942371264614,0.008991181983155894,0.012005114290156018,0.014605357461840928,0.010039310806988416,0.008436190545570894,0.008163274125941892,0.008440892898522262,0.008033350247057841,0.011710023649092101,0.011607421262169175,0.011879175399836956,0.009684683692386882,0.009456610347987152,0.009452529452381495,0.013451104310824625,0.013126716465170463,0.013692324252162729,0.019968885759730083,0.01930367822377731,0.013073139236034634,0.0180337938837385,0.018069487244177073,0.01365542626029455,0.013766464968438794,0.013163942365033487,0.010491933986096073,0.014937512512664152,0.01517453590638826,0.015229773303377664,0.015592782965440616,0.01636329888984775,0.013193017048266609,0.01654674386249074,0.021410284240938722,0.022463260573935398,0.02241911630349622,0.0247370420277093,0.023537111103394813,0.01275556225543827,0.013304350479156023,0.01600826113802676,0.009883313893363024,0.007202771540015447,0.008381176405488418,0.011807082998351037,0.012242377043791077,0.01038153011903542,0.012260291599605119,0.022031378868060118,0.020217707290128957,0.019796280328708647,0.020769851366126104,0.017393271252802482,0.015694353259446632,0.017836596316547403,0.01950548835265719,0.020917469132310882,0.01824789247771992,0.01825998238555493,0.017046762346960172,0.015841123198992856,0.01842559558280787,0.016684413097895416,0.02148385932769227,0.022010925965465986,0.009791635532813201,0.009816849165123652,0.014574658050366973,0.0133496640281085,0.015835704053813713,0.015259271020710216,0.01975012668052787,0.020487417055094964,0.022452494380263376,0.013645170054434741,0.019491328963684832,0.020022827778105955,0.02083886380442225,0.019572371792745163,0.026107235849603616,0.025541846658843653,0.023161298398926358,0.01939189722454136,0.010615077994824728,0.01386005845821342,0.01519919012397008,0.016822131917053628,0.013579501395400973,0.01865339216883412,0.019021935232229694,0.025731633858749308,0.025458524428965054,0.020640579516318834,0.018482694655471702,0.017231441448128063,0.007969081698034328,0.008183527253595769,0.008310676979126855,0.009269893103645692,0.005452242360413218,0.004770761538019428,0.004836180828440075,0.007171298065684687,0.009663364074481302,0.009732995178789436,0.010854612888618583,0.01291395989512262,0.012200679638209333,0.01006057974089527,0.009697753745688804,0.009222418218920132,0.009779347832333241,0.01536707427954321,0.015457286536826254,0.015564626692875599,0.019399477373097617,0.02190874128659398,0.02059244495534524,0.020317941192007156,0.01956924603691235,0.007951479403266454,0.005866518628818735,0.008672358032591069,0.009242650208131645,0.007174284559084557,0.00794234927920364,0.019732731880051136,0.018755337980298187,0.015543294929123494,0.014282527514037465,0.014444164976044345,0.0077631831002316215,0.00967068064856046,0.01243246575464017,0.0174921960667424,0.017362244083726813,0.015421166072461369,0.010971642380240471,0.01015606812625921,0.005486265316584704,0.008018835063745483,0.008979120899276065,0.021188122375505578,0.025075914785200368,0.026745674744534348,0.026504035496160858,0.026534326376928253,0.014868045235193162,0.012861154784247797,0.010381909107037355,0.008169384391316916,0.019200230559274032,0.019608786844477814,0.020735859520512365,0.02074546216211747,0.021288313232694433,0.014889849124079186,0.02398109251099624,0.02370512512852681,0.023227510828761965,0.021085152252919678,0.021612032228798855,0.006299705979471366,0.011161128418682411,0.009735369649766583,0.01596630666153747,0.016520668244994863,0.018636018183816473,0.018042470869159728,0.018034409746721162,0.015978966977299117,0.016661315957705012,0.01404607905008128,0.016534690460109126,0.017815846412992005,0.014628356561215554,0.01729184583116792,0.01666700185199332,0.00919283219844052,0.011280089861114414,0.011354490900161815,0.010622993404072101,0.010258560014198706,0.01021718753545452,0.012070844203823497,0.011975291940373013,0.012236303932956894,0.018969672434709272,0.019114787881222,0.01808036213071909,0.020639844073823556,0.017648363796260037,0.01966130340719173,0.021084399508305863,0.020080793766777686,0.019497510146570463,0.01279656211337324,0.010245756063663684,0.01524578452443608,0.02049386059330149,0.018902631921525602,0.019436788018977424,0.015429374623726993,0.0146371236213487,0.021227586530425873,0.02124866443853967,0.023763866922072777,0.025234541353298313,0.026864869213167417,0.014947019935197441,0.012552876270740658,0.012096025451778153,0.009549180992209293,0.005233334831467841,0.0058742404996740775,0.010689097761359474,0.012527160359578151,0.012498805806507661,0.012217104575439135,0.012163900841184768,0.005237413052472612,0.009088983517760794,0.011878224102839658,0.011831712354188504,0.013020310375867877,0.013863189344319333,0.016523996735811317,0.014795156960756383,0.014847647446147196,0.01642395875471139,0.012236710427979447,0.011815051298938993,0.01162635890796837,0.011441536868796188,0.008121127341881708,0.007573432816397383,0.006476195745641886],\"yaxis\":\"y\",\"type\":\"scatter\"}],                        {\"template\":{\"data\":{\"histogram2dcontour\":[{\"type\":\"histogram2dcontour\",\"colorbar\":{\"outlinewidth\":0,\"ticks\":\"\"},\"colorscale\":[[0.0,\"#0d0887\"],[0.1111111111111111,\"#46039f\"],[0.2222222222222222,\"#7201a8\"],[0.3333333333333333,\"#9c179e\"],[0.4444444444444444,\"#bd3786\"],[0.5555555555555556,\"#d8576b\"],[0.6666666666666666,\"#ed7953\"],[0.7777777777777778,\"#fb9f3a\"],[0.8888888888888888,\"#fdca26\"],[1.0,\"#f0f921\"]]}],\"choropleth\":[{\"type\":\"choropleth\",\"colorbar\":{\"outlinewidth\":0,\"ticks\":\"\"}}],\"histogram2d\":[{\"type\":\"histogram2d\",\"colorbar\":{\"outlinewidth\":0,\"ticks\":\"\"},\"colorscale\":[[0.0,\"#0d0887\"],[0.1111111111111111,\"#46039f\"],[0.2222222222222222,\"#7201a8\"],[0.3333333333333333,\"#9c179e\"],[0.4444444444444444,\"#bd3786\"],[0.5555555555555556,\"#d8576b\"],[0.6666666666666666,\"#ed7953\"],[0.7777777777777778,\"#fb9f3a\"],[0.8888888888888888,\"#fdca26\"],[1.0,\"#f0f921\"]]}],\"heatmap\":[{\"type\":\"heatmap\",\"colorbar\":{\"outlinewidth\":0,\"ticks\":\"\"},\"colorscale\":[[0.0,\"#0d0887\"],[0.1111111111111111,\"#46039f\"],[0.2222222222222222,\"#7201a8\"],[0.3333333333333333,\"#9c179e\"],[0.4444444444444444,\"#bd3786\"],[0.5555555555555556,\"#d8576b\"],[0.6666666666666666,\"#ed7953\"],[0.7777777777777778,\"#fb9f3a\"],[0.8888888888888888,\"#fdca26\"],[1.0,\"#f0f921\"]]}],\"heatmapgl\":[{\"type\":\"heatmapgl\",\"colorbar\":{\"outlinewidth\":0,\"ticks\":\"\"},\"colorscale\":[[0.0,\"#0d0887\"],[0.1111111111111111,\"#46039f\"],[0.2222222222222222,\"#7201a8\"],[0.3333333333333333,\"#9c179e\"],[0.4444444444444444,\"#bd3786\"],[0.5555555555555556,\"#d8576b\"],[0.6666666666666666,\"#ed7953\"],[0.7777777777777778,\"#fb9f3a\"],[0.8888888888888888,\"#fdca26\"],[1.0,\"#f0f921\"]]}],\"contourcarpet\":[{\"type\":\"contourcarpet\",\"colorbar\":{\"outlinewidth\":0,\"ticks\":\"\"}}],\"contour\":[{\"type\":\"contour\",\"colorbar\":{\"outlinewidth\":0,\"ticks\":\"\"},\"colorscale\":[[0.0,\"#0d0887\"],[0.1111111111111111,\"#46039f\"],[0.2222222222222222,\"#7201a8\"],[0.3333333333333333,\"#9c179e\"],[0.4444444444444444,\"#bd3786\"],[0.5555555555555556,\"#d8576b\"],[0.6666666666666666,\"#ed7953\"],[0.7777777777777778,\"#fb9f3a\"],[0.8888888888888888,\"#fdca26\"],[1.0,\"#f0f921\"]]}],\"surface\":[{\"type\":\"surface\",\"colorbar\":{\"outlinewidth\":0,\"ticks\":\"\"},\"colorscale\":[[0.0,\"#0d0887\"],[0.1111111111111111,\"#46039f\"],[0.2222222222222222,\"#7201a8\"],[0.3333333333333333,\"#9c179e\"],[0.4444444444444444,\"#bd3786\"],[0.5555555555555556,\"#d8576b\"],[0.6666666666666666,\"#ed7953\"],[0.7777777777777778,\"#fb9f3a\"],[0.8888888888888888,\"#fdca26\"],[1.0,\"#f0f921\"]]}],\"mesh3d\":[{\"type\":\"mesh3d\",\"colorbar\":{\"outlinewidth\":0,\"ticks\":\"\"}}],\"scatter\":[{\"fillpattern\":{\"fillmode\":\"overlay\",\"size\":10,\"solidity\":0.2},\"type\":\"scatter\"}],\"parcoords\":[{\"type\":\"parcoords\",\"line\":{\"colorbar\":{\"outlinewidth\":0,\"ticks\":\"\"}}}],\"scatterpolargl\":[{\"type\":\"scatterpolargl\",\"marker\":{\"colorbar\":{\"outlinewidth\":0,\"ticks\":\"\"}}}],\"bar\":[{\"error_x\":{\"color\":\"#2a3f5f\"},\"error_y\":{\"color\":\"#2a3f5f\"},\"marker\":{\"line\":{\"color\":\"#E5ECF6\",\"width\":0.5},\"pattern\":{\"fillmode\":\"overlay\",\"size\":10,\"solidity\":0.2}},\"type\":\"bar\"}],\"scattergeo\":[{\"type\":\"scattergeo\",\"marker\":{\"colorbar\":{\"outlinewidth\":0,\"ticks\":\"\"}}}],\"scatterpolar\":[{\"type\":\"scatterpolar\",\"marker\":{\"colorbar\":{\"outlinewidth\":0,\"ticks\":\"\"}}}],\"histogram\":[{\"marker\":{\"pattern\":{\"fillmode\":\"overlay\",\"size\":10,\"solidity\":0.2}},\"type\":\"histogram\"}],\"scattergl\":[{\"type\":\"scattergl\",\"marker\":{\"colorbar\":{\"outlinewidth\":0,\"ticks\":\"\"}}}],\"scatter3d\":[{\"type\":\"scatter3d\",\"line\":{\"colorbar\":{\"outlinewidth\":0,\"ticks\":\"\"}},\"marker\":{\"colorbar\":{\"outlinewidth\":0,\"ticks\":\"\"}}}],\"scattermapbox\":[{\"type\":\"scattermapbox\",\"marker\":{\"colorbar\":{\"outlinewidth\":0,\"ticks\":\"\"}}}],\"scatterternary\":[{\"type\":\"scatterternary\",\"marker\":{\"colorbar\":{\"outlinewidth\":0,\"ticks\":\"\"}}}],\"scattercarpet\":[{\"type\":\"scattercarpet\",\"marker\":{\"colorbar\":{\"outlinewidth\":0,\"ticks\":\"\"}}}],\"carpet\":[{\"aaxis\":{\"endlinecolor\":\"#2a3f5f\",\"gridcolor\":\"white\",\"linecolor\":\"white\",\"minorgridcolor\":\"white\",\"startlinecolor\":\"#2a3f5f\"},\"baxis\":{\"endlinecolor\":\"#2a3f5f\",\"gridcolor\":\"white\",\"linecolor\":\"white\",\"minorgridcolor\":\"white\",\"startlinecolor\":\"#2a3f5f\"},\"type\":\"carpet\"}],\"table\":[{\"cells\":{\"fill\":{\"color\":\"#EBF0F8\"},\"line\":{\"color\":\"white\"}},\"header\":{\"fill\":{\"color\":\"#C8D4E3\"},\"line\":{\"color\":\"white\"}},\"type\":\"table\"}],\"barpolar\":[{\"marker\":{\"line\":{\"color\":\"#E5ECF6\",\"width\":0.5},\"pattern\":{\"fillmode\":\"overlay\",\"size\":10,\"solidity\":0.2}},\"type\":\"barpolar\"}],\"pie\":[{\"automargin\":true,\"type\":\"pie\"}]},\"layout\":{\"autotypenumbers\":\"strict\",\"colorway\":[\"#636efa\",\"#EF553B\",\"#00cc96\",\"#ab63fa\",\"#FFA15A\",\"#19d3f3\",\"#FF6692\",\"#B6E880\",\"#FF97FF\",\"#FECB52\"],\"font\":{\"color\":\"#2a3f5f\"},\"hovermode\":\"closest\",\"hoverlabel\":{\"align\":\"left\"},\"paper_bgcolor\":\"white\",\"plot_bgcolor\":\"#E5ECF6\",\"polar\":{\"bgcolor\":\"#E5ECF6\",\"angularaxis\":{\"gridcolor\":\"white\",\"linecolor\":\"white\",\"ticks\":\"\"},\"radialaxis\":{\"gridcolor\":\"white\",\"linecolor\":\"white\",\"ticks\":\"\"}},\"ternary\":{\"bgcolor\":\"#E5ECF6\",\"aaxis\":{\"gridcolor\":\"white\",\"linecolor\":\"white\",\"ticks\":\"\"},\"baxis\":{\"gridcolor\":\"white\",\"linecolor\":\"white\",\"ticks\":\"\"},\"caxis\":{\"gridcolor\":\"white\",\"linecolor\":\"white\",\"ticks\":\"\"}},\"coloraxis\":{\"colorbar\":{\"outlinewidth\":0,\"ticks\":\"\"}},\"colorscale\":{\"sequential\":[[0.0,\"#0d0887\"],[0.1111111111111111,\"#46039f\"],[0.2222222222222222,\"#7201a8\"],[0.3333333333333333,\"#9c179e\"],[0.4444444444444444,\"#bd3786\"],[0.5555555555555556,\"#d8576b\"],[0.6666666666666666,\"#ed7953\"],[0.7777777777777778,\"#fb9f3a\"],[0.8888888888888888,\"#fdca26\"],[1.0,\"#f0f921\"]],\"sequentialminus\":[[0.0,\"#0d0887\"],[0.1111111111111111,\"#46039f\"],[0.2222222222222222,\"#7201a8\"],[0.3333333333333333,\"#9c179e\"],[0.4444444444444444,\"#bd3786\"],[0.5555555555555556,\"#d8576b\"],[0.6666666666666666,\"#ed7953\"],[0.7777777777777778,\"#fb9f3a\"],[0.8888888888888888,\"#fdca26\"],[1.0,\"#f0f921\"]],\"diverging\":[[0,\"#8e0152\"],[0.1,\"#c51b7d\"],[0.2,\"#de77ae\"],[0.3,\"#f1b6da\"],[0.4,\"#fde0ef\"],[0.5,\"#f7f7f7\"],[0.6,\"#e6f5d0\"],[0.7,\"#b8e186\"],[0.8,\"#7fbc41\"],[0.9,\"#4d9221\"],[1,\"#276419\"]]},\"xaxis\":{\"gridcolor\":\"white\",\"linecolor\":\"white\",\"ticks\":\"\",\"title\":{\"standoff\":15},\"zerolinecolor\":\"white\",\"automargin\":true,\"zerolinewidth\":2},\"yaxis\":{\"gridcolor\":\"white\",\"linecolor\":\"white\",\"ticks\":\"\",\"title\":{\"standoff\":15},\"zerolinecolor\":\"white\",\"automargin\":true,\"zerolinewidth\":2},\"scene\":{\"xaxis\":{\"backgroundcolor\":\"#E5ECF6\",\"gridcolor\":\"white\",\"linecolor\":\"white\",\"showbackground\":true,\"ticks\":\"\",\"zerolinecolor\":\"white\",\"gridwidth\":2},\"yaxis\":{\"backgroundcolor\":\"#E5ECF6\",\"gridcolor\":\"white\",\"linecolor\":\"white\",\"showbackground\":true,\"ticks\":\"\",\"zerolinecolor\":\"white\",\"gridwidth\":2},\"zaxis\":{\"backgroundcolor\":\"#E5ECF6\",\"gridcolor\":\"white\",\"linecolor\":\"white\",\"showbackground\":true,\"ticks\":\"\",\"zerolinecolor\":\"white\",\"gridwidth\":2}},\"shapedefaults\":{\"line\":{\"color\":\"#2a3f5f\"}},\"annotationdefaults\":{\"arrowcolor\":\"#2a3f5f\",\"arrowhead\":0,\"arrowwidth\":1},\"geo\":{\"bgcolor\":\"white\",\"landcolor\":\"#E5ECF6\",\"subunitcolor\":\"white\",\"showland\":true,\"showlakes\":true,\"lakecolor\":\"white\"},\"title\":{\"x\":0.05},\"mapbox\":{\"style\":\"light\"}}},\"xaxis\":{\"anchor\":\"y\",\"domain\":[0.0,1.0],\"title\":{\"text\":\"Date\"}},\"yaxis\":{\"anchor\":\"x\",\"domain\":[0.0,1.0],\"title\":{\"text\":\"value\"}},\"legend\":{\"title\":{\"text\":\"variable\"},\"tracegroupgap\":0},\"margin\":{\"t\":60}},                        {\"responsive\": true}                    ).then(function(){\n",
              "                            \n",
              "var gd = document.getElementById('bc23861c-18f1-48f7-9a05-090c9d1934c7');\n",
              "var x = new MutationObserver(function (mutations, observer) {{\n",
              "        var display = window.getComputedStyle(gd).display;\n",
              "        if (!display || display === 'none') {{\n",
              "            console.log([gd, 'removed!']);\n",
              "            Plotly.purge(gd);\n",
              "            observer.disconnect();\n",
              "        }}\n",
              "}});\n",
              "\n",
              "// Listen for the removal of the full notebook cells\n",
              "var notebookContainer = gd.closest('#notebook-container');\n",
              "if (notebookContainer) {{\n",
              "    x.observe(notebookContainer, {childList: true});\n",
              "}}\n",
              "\n",
              "// Listen for the clearing of the current output cell\n",
              "var outputEl = gd.closest('.output');\n",
              "if (outputEl) {{\n",
              "    x.observe(outputEl, {childList: true});\n",
              "}}\n",
              "\n",
              "                        })                };                });            </script>        </div>"
            ]
          },
          "metadata": {}
        }
      ]
    },
    {
      "cell_type": "markdown",
      "source": [
        "#### Sharpe Ratio\n",
        "\n",
        "- The Sharpe ratio divides a portfolio's excess returns by a measure of its volatility to assess risk-adjusted performance\n",
        "- Excess returns are those above an industry benchmark or the risk-free rate of return\n",
        "\n",
        "![Sharpe Ratio](https://www.gstatic.com/education/formulas2/553212783/en/sharpe_ratio.svg)\n",
        "\n",
        "$ S_{a}\t=\tSharpe\\;ratio $\n",
        "\n",
        "$ E\t=\texpected\\;value$\n",
        "\n",
        "$ R_{a}\t=\tasset\\;return$\n",
        "\n",
        "$ R_{b}\t=\trisk\\;free\\;return$\n",
        "\n",
        "$ \\sigma_{a}\t=\tstandard\\;deviation\\;of\\;the\\;asset\\;excess\\;return$\n"
      ],
      "metadata": {
        "id": "cZDwkGLESpUq"
      }
    },
    {
      "cell_type": "code",
      "source": [
        "Rf = 0.01/TRADING_DAYS\n",
        "sharpe_ratio = (log_returns.rolling(window=TRADING_DAYS).mean()-Rf)*TRADING_DAYS/standard_deviation\n",
        "sharpe_ratio.plot().show()\n"
      ],
      "metadata": {
        "execution": {
          "iopub.status.busy": "2023-10-22T14:06:09.880251Z",
          "iopub.execute_input": "2023-10-22T14:06:09.880782Z",
          "iopub.status.idle": "2023-10-22T14:06:09.972678Z",
          "shell.execute_reply.started": "2023-10-22T14:06:09.880751Z",
          "shell.execute_reply": "2023-10-22T14:06:09.971746Z"
        },
        "trusted": true,
        "id": "ZcUlm_HaSpUq",
        "colab": {
          "base_uri": "https://localhost:8080/",
          "height": 542
        },
        "outputId": "9329eda9-9a89-45ed-f275-ac1bf35994fb"
      },
      "execution_count": 8,
      "outputs": [
        {
          "output_type": "display_data",
          "data": {
            "application/vnd.plotly.v1+json": {
              "data": [
                {
                  "hovertemplate": "variable=Close<br>Date=%{x}<br>value=%{y}<extra></extra>",
                  "legendgroup": "Close",
                  "line": {
                    "color": "#636efa",
                    "dash": "solid"
                  },
                  "marker": {
                    "symbol": "circle"
                  },
                  "mode": "lines",
                  "name": "Close",
                  "orientation": "v",
                  "showlegend": true,
                  "x": [
                    "2023-01-04T00:00:00",
                    "2023-01-05T00:00:00",
                    "2023-01-06T00:00:00",
                    "2023-01-09T00:00:00",
                    "2023-01-10T00:00:00",
                    "2023-01-11T00:00:00",
                    "2023-01-12T00:00:00",
                    "2023-01-13T00:00:00",
                    "2023-01-17T00:00:00",
                    "2023-01-18T00:00:00",
                    "2023-01-19T00:00:00",
                    "2023-01-20T00:00:00",
                    "2023-01-23T00:00:00",
                    "2023-01-24T00:00:00",
                    "2023-01-25T00:00:00",
                    "2023-01-26T00:00:00",
                    "2023-01-27T00:00:00",
                    "2023-01-30T00:00:00",
                    "2023-01-31T00:00:00",
                    "2023-02-01T00:00:00",
                    "2023-02-02T00:00:00",
                    "2023-02-03T00:00:00",
                    "2023-02-06T00:00:00",
                    "2023-02-07T00:00:00",
                    "2023-02-08T00:00:00",
                    "2023-02-09T00:00:00",
                    "2023-02-10T00:00:00",
                    "2023-02-13T00:00:00",
                    "2023-02-14T00:00:00",
                    "2023-02-15T00:00:00",
                    "2023-02-16T00:00:00",
                    "2023-02-17T00:00:00",
                    "2023-02-21T00:00:00",
                    "2023-02-22T00:00:00",
                    "2023-02-23T00:00:00",
                    "2023-02-24T00:00:00",
                    "2023-02-27T00:00:00",
                    "2023-02-28T00:00:00",
                    "2023-03-01T00:00:00",
                    "2023-03-02T00:00:00",
                    "2023-03-03T00:00:00",
                    "2023-03-06T00:00:00",
                    "2023-03-07T00:00:00",
                    "2023-03-08T00:00:00",
                    "2023-03-09T00:00:00",
                    "2023-03-10T00:00:00",
                    "2023-03-13T00:00:00",
                    "2023-03-14T00:00:00",
                    "2023-03-15T00:00:00",
                    "2023-03-16T00:00:00",
                    "2023-03-17T00:00:00",
                    "2023-03-20T00:00:00",
                    "2023-03-21T00:00:00",
                    "2023-03-22T00:00:00",
                    "2023-03-23T00:00:00",
                    "2023-03-24T00:00:00",
                    "2023-03-27T00:00:00",
                    "2023-03-28T00:00:00",
                    "2023-03-29T00:00:00",
                    "2023-03-30T00:00:00",
                    "2023-03-31T00:00:00",
                    "2023-04-03T00:00:00",
                    "2023-04-04T00:00:00",
                    "2023-04-05T00:00:00",
                    "2023-04-06T00:00:00",
                    "2023-04-10T00:00:00",
                    "2023-04-11T00:00:00",
                    "2023-04-12T00:00:00",
                    "2023-04-13T00:00:00",
                    "2023-04-14T00:00:00",
                    "2023-04-17T00:00:00",
                    "2023-04-18T00:00:00",
                    "2023-04-19T00:00:00",
                    "2023-04-20T00:00:00",
                    "2023-04-21T00:00:00",
                    "2023-04-24T00:00:00",
                    "2023-04-25T00:00:00",
                    "2023-04-26T00:00:00",
                    "2023-04-27T00:00:00",
                    "2023-04-28T00:00:00",
                    "2023-05-01T00:00:00",
                    "2023-05-02T00:00:00",
                    "2023-05-03T00:00:00",
                    "2023-05-04T00:00:00",
                    "2023-05-05T00:00:00",
                    "2023-05-08T00:00:00",
                    "2023-05-09T00:00:00",
                    "2023-05-10T00:00:00",
                    "2023-05-11T00:00:00",
                    "2023-05-12T00:00:00",
                    "2023-05-15T00:00:00",
                    "2023-05-16T00:00:00",
                    "2023-05-17T00:00:00",
                    "2023-05-18T00:00:00",
                    "2023-05-19T00:00:00",
                    "2023-05-22T00:00:00",
                    "2023-05-23T00:00:00",
                    "2023-05-24T00:00:00",
                    "2023-05-25T00:00:00",
                    "2023-05-26T00:00:00",
                    "2023-05-30T00:00:00",
                    "2023-05-31T00:00:00",
                    "2023-06-01T00:00:00",
                    "2023-06-02T00:00:00",
                    "2023-06-05T00:00:00",
                    "2023-06-06T00:00:00",
                    "2023-06-07T00:00:00",
                    "2023-06-08T00:00:00",
                    "2023-06-09T00:00:00",
                    "2023-06-12T00:00:00",
                    "2023-06-13T00:00:00",
                    "2023-06-14T00:00:00",
                    "2023-06-15T00:00:00",
                    "2023-06-16T00:00:00",
                    "2023-06-20T00:00:00",
                    "2023-06-21T00:00:00",
                    "2023-06-22T00:00:00",
                    "2023-06-23T00:00:00",
                    "2023-06-26T00:00:00",
                    "2023-06-27T00:00:00",
                    "2023-06-28T00:00:00",
                    "2023-06-29T00:00:00",
                    "2023-06-30T00:00:00",
                    "2023-07-03T00:00:00",
                    "2023-07-05T00:00:00",
                    "2023-07-06T00:00:00",
                    "2023-07-07T00:00:00",
                    "2023-07-10T00:00:00",
                    "2023-07-11T00:00:00",
                    "2023-07-12T00:00:00",
                    "2023-07-13T00:00:00",
                    "2023-07-14T00:00:00",
                    "2023-07-17T00:00:00",
                    "2023-07-18T00:00:00",
                    "2023-07-19T00:00:00",
                    "2023-07-20T00:00:00",
                    "2023-07-21T00:00:00",
                    "2023-07-24T00:00:00",
                    "2023-07-25T00:00:00",
                    "2023-07-26T00:00:00",
                    "2023-07-27T00:00:00",
                    "2023-07-28T00:00:00",
                    "2023-07-31T00:00:00",
                    "2023-08-01T00:00:00",
                    "2023-08-02T00:00:00",
                    "2023-08-03T00:00:00",
                    "2023-08-04T00:00:00",
                    "2023-08-07T00:00:00",
                    "2023-08-08T00:00:00",
                    "2023-08-09T00:00:00",
                    "2023-08-10T00:00:00",
                    "2023-08-11T00:00:00",
                    "2023-08-14T00:00:00",
                    "2023-08-15T00:00:00",
                    "2023-08-16T00:00:00",
                    "2023-08-17T00:00:00",
                    "2023-08-18T00:00:00",
                    "2023-08-21T00:00:00",
                    "2023-08-22T00:00:00",
                    "2023-08-23T00:00:00",
                    "2023-08-24T00:00:00",
                    "2023-08-25T00:00:00",
                    "2023-08-28T00:00:00",
                    "2023-08-29T00:00:00",
                    "2023-08-30T00:00:00",
                    "2023-08-31T00:00:00",
                    "2023-09-01T00:00:00",
                    "2023-09-05T00:00:00",
                    "2023-09-06T00:00:00",
                    "2023-09-07T00:00:00",
                    "2023-09-08T00:00:00",
                    "2023-09-11T00:00:00",
                    "2023-09-12T00:00:00",
                    "2023-09-13T00:00:00",
                    "2023-09-14T00:00:00",
                    "2023-09-15T00:00:00",
                    "2023-09-18T00:00:00",
                    "2023-09-19T00:00:00",
                    "2023-09-20T00:00:00",
                    "2023-09-21T00:00:00",
                    "2023-09-22T00:00:00",
                    "2023-09-25T00:00:00",
                    "2023-09-26T00:00:00",
                    "2023-09-27T00:00:00",
                    "2023-09-28T00:00:00",
                    "2023-09-29T00:00:00",
                    "2023-10-02T00:00:00",
                    "2023-10-03T00:00:00",
                    "2023-10-04T00:00:00",
                    "2023-10-05T00:00:00",
                    "2023-10-06T00:00:00",
                    "2023-10-09T00:00:00",
                    "2023-10-10T00:00:00",
                    "2023-10-11T00:00:00",
                    "2023-10-12T00:00:00",
                    "2023-10-13T00:00:00",
                    "2023-10-16T00:00:00",
                    "2023-10-17T00:00:00",
                    "2023-10-18T00:00:00",
                    "2023-10-19T00:00:00",
                    "2023-10-20T00:00:00",
                    "2023-10-23T00:00:00",
                    "2023-10-24T00:00:00",
                    "2023-10-25T00:00:00",
                    "2023-10-26T00:00:00",
                    "2023-10-27T00:00:00",
                    "2023-10-30T00:00:00",
                    "2023-10-31T00:00:00",
                    "2023-11-01T00:00:00",
                    "2023-11-02T00:00:00",
                    "2023-11-03T00:00:00",
                    "2023-11-06T00:00:00",
                    "2023-11-07T00:00:00",
                    "2023-11-08T00:00:00",
                    "2023-11-09T00:00:00",
                    "2023-11-10T00:00:00",
                    "2023-11-13T00:00:00",
                    "2023-11-14T00:00:00",
                    "2023-11-15T00:00:00",
                    "2023-11-16T00:00:00",
                    "2023-11-17T00:00:00",
                    "2023-11-20T00:00:00",
                    "2023-11-21T00:00:00",
                    "2023-11-22T00:00:00",
                    "2023-11-24T00:00:00",
                    "2023-11-27T00:00:00",
                    "2023-11-28T00:00:00",
                    "2023-11-29T00:00:00",
                    "2023-11-30T00:00:00",
                    "2023-12-01T00:00:00",
                    "2023-12-04T00:00:00",
                    "2023-12-05T00:00:00",
                    "2023-12-06T00:00:00",
                    "2023-12-07T00:00:00",
                    "2023-12-08T00:00:00",
                    "2023-12-11T00:00:00",
                    "2023-12-12T00:00:00",
                    "2023-12-13T00:00:00",
                    "2023-12-14T00:00:00",
                    "2023-12-15T00:00:00",
                    "2023-12-18T00:00:00",
                    "2023-12-19T00:00:00",
                    "2023-12-20T00:00:00",
                    "2023-12-21T00:00:00",
                    "2023-12-22T00:00:00",
                    "2023-12-26T00:00:00",
                    "2023-12-27T00:00:00",
                    "2023-12-28T00:00:00",
                    "2023-12-29T00:00:00",
                    "2024-01-02T00:00:00",
                    "2024-01-03T00:00:00",
                    "2024-01-04T00:00:00",
                    "2024-01-05T00:00:00",
                    "2024-01-08T00:00:00",
                    "2024-01-09T00:00:00",
                    "2024-01-10T00:00:00",
                    "2024-01-11T00:00:00",
                    "2024-01-12T00:00:00",
                    "2024-01-16T00:00:00",
                    "2024-01-17T00:00:00",
                    "2024-01-18T00:00:00",
                    "2024-01-19T00:00:00",
                    "2024-01-22T00:00:00",
                    "2024-01-23T00:00:00",
                    "2024-01-24T00:00:00",
                    "2024-01-25T00:00:00",
                    "2024-01-26T00:00:00",
                    "2024-01-29T00:00:00",
                    "2024-01-30T00:00:00",
                    "2024-01-31T00:00:00",
                    "2024-02-01T00:00:00",
                    "2024-02-02T00:00:00",
                    "2024-02-05T00:00:00",
                    "2024-02-06T00:00:00",
                    "2024-02-07T00:00:00",
                    "2024-02-08T00:00:00",
                    "2024-02-09T00:00:00",
                    "2024-02-12T00:00:00",
                    "2024-02-13T00:00:00",
                    "2024-02-14T00:00:00",
                    "2024-02-15T00:00:00",
                    "2024-02-16T00:00:00",
                    "2024-02-20T00:00:00",
                    "2024-02-21T00:00:00",
                    "2024-02-22T00:00:00",
                    "2024-02-23T00:00:00",
                    "2024-02-26T00:00:00",
                    "2024-02-27T00:00:00",
                    "2024-02-28T00:00:00",
                    "2024-02-29T00:00:00",
                    "2024-03-01T00:00:00",
                    "2024-03-04T00:00:00",
                    "2024-03-05T00:00:00",
                    "2024-03-06T00:00:00",
                    "2024-03-07T00:00:00",
                    "2024-03-08T00:00:00",
                    "2024-03-11T00:00:00",
                    "2024-03-12T00:00:00",
                    "2024-03-13T00:00:00",
                    "2024-03-14T00:00:00",
                    "2024-03-15T00:00:00",
                    "2024-03-18T00:00:00",
                    "2024-03-19T00:00:00",
                    "2024-03-20T00:00:00",
                    "2024-03-21T00:00:00",
                    "2024-03-22T00:00:00",
                    "2024-03-25T00:00:00",
                    "2024-03-26T00:00:00",
                    "2024-03-27T00:00:00",
                    "2024-03-28T00:00:00",
                    "2024-04-01T00:00:00",
                    "2024-04-02T00:00:00",
                    "2024-04-03T00:00:00",
                    "2024-04-04T00:00:00",
                    "2024-04-05T00:00:00",
                    "2024-04-08T00:00:00",
                    "2024-04-09T00:00:00",
                    "2024-04-10T00:00:00",
                    "2024-04-11T00:00:00",
                    "2024-04-12T00:00:00",
                    "2024-04-15T00:00:00",
                    "2024-04-16T00:00:00",
                    "2024-04-17T00:00:00",
                    "2024-04-18T00:00:00",
                    "2024-04-19T00:00:00",
                    "2024-04-22T00:00:00",
                    "2024-04-23T00:00:00",
                    "2024-04-24T00:00:00",
                    "2024-04-25T00:00:00",
                    "2024-04-26T00:00:00",
                    "2024-04-29T00:00:00",
                    "2024-04-30T00:00:00",
                    "2024-05-01T00:00:00",
                    "2024-05-02T00:00:00",
                    "2024-05-03T00:00:00",
                    "2024-05-06T00:00:00",
                    "2024-05-07T00:00:00",
                    "2024-05-08T00:00:00",
                    "2024-05-09T00:00:00",
                    "2024-05-10T00:00:00",
                    "2024-05-13T00:00:00",
                    "2024-05-14T00:00:00",
                    "2024-05-15T00:00:00",
                    "2024-05-16T00:00:00",
                    "2024-05-17T00:00:00",
                    "2024-05-20T00:00:00",
                    "2024-05-21T00:00:00",
                    "2024-05-22T00:00:00",
                    "2024-05-23T00:00:00",
                    "2024-05-24T00:00:00",
                    "2024-05-28T00:00:00",
                    "2024-05-29T00:00:00",
                    "2024-05-30T00:00:00",
                    "2024-05-31T00:00:00",
                    "2024-06-03T00:00:00",
                    "2024-06-04T00:00:00",
                    "2024-06-05T00:00:00",
                    "2024-06-06T00:00:00",
                    "2024-06-07T00:00:00",
                    "2024-06-10T00:00:00",
                    "2024-06-11T00:00:00",
                    "2024-06-12T00:00:00",
                    "2024-06-13T00:00:00",
                    "2024-06-14T00:00:00"
                  ],
                  "xaxis": "x",
                  "y": [
                    null,
                    null,
                    null,
                    null,
                    0.5471366111571959,
                    0.6970601434207836,
                    1.753825489004681,
                    1.5144260141079182,
                    1.2925545417422588,
                    -0.32653993498469125,
                    -1.4814752084141318,
                    -0.44160439904499155,
                    -0.14884235450696687,
                    -0.12493797883055802,
                    0.5293861806165348,
                    1.6549954520669448,
                    1.0601476760066026,
                    -0.5346785989890873,
                    0.23516054890135737,
                    0.6462697117737831,
                    0.7516780904849211,
                    0.2054536581683162,
                    0.47493814475879453,
                    0.42669263287687353,
                    -0.3635417252331416,
                    -1.4869721527990276,
                    -0.93302659840927,
                    -0.1086387567529386,
                    -0.7945427476234505,
                    -0.11730214162383507,
                    -0.3420370156111686,
                    -0.5739524288158446,
                    -1.9841349919595481,
                    -2.054621059734149,
                    -1.8521768044210216,
                    -1.7988032802291696,
                    -1.4114317769391707,
                    -1.2082913692253725,
                    -1.3626954377152602,
                    -1.0700897224055712,
                    0.5111070229269105,
                    0.3600823039681112,
                    -0.18641216342811281,
                    0.020679121548970576,
                    -0.8213525491520614,
                    -2.6120103795900125,
                    -2.86306055344478,
                    -0.8523199719162939,
                    -1.1266145438925508,
                    0.04919932119826814,
                    0.016017822131976285,
                    0.35275332615356814,
                    0.2614069174153102,
                    -0.07461445132720812,
                    -0.5531928412969868,
                    0.17549806536729362,
                    -0.12044124108109525,
                    -0.8888025868900855,
                    0.9447618256211289,
                    1.184467152630662,
                    1.4499289913048652,
                    1.62857620978174,
                    1.2197501653281353,
                    0.31845681677138227,
                    0.20829360222661678,
                    -1.0230536748696124,
                    -1.607342173125545,
                    -1.6417932973141582,
                    0.298246802513217,
                    -0.1340912050033588,
                    0.0336723768072748,
                    0.0589196246304396,
                    0.3521993058629648,
                    -1.8221325529916648,
                    -1.4375027303080647,
                    -2.1478188504779614,
                    -1.8446237087897746,
                    -2.191231226575146,
                    -0.30247007400593184,
                    -0.033064268699455106,
                    -0.10105208334803309,
                    0.06139276359717228,
                    -0.035516505345718624,
                    -1.6207605279196038,
                    -0.6848540948443793,
                    -0.6345761244753979,
                    -0.410662644711953,
                    0.07903384766546352,
                    0.3554619553922341,
                    -1.6771315006509542,
                    -1.1015566144022972,
                    -1.1459633330502,
                    -0.26852554051202887,
                    0.4107994249677541,
                    0.4012176448427796,
                    0.22222720487423459,
                    -0.032681797582759804,
                    -1.1227654171984986,
                    -1.2302882033385107,
                    -0.29137863368172073,
                    -0.2924750758095819,
                    -0.049005415570671236,
                    0.9346986839265123,
                    1.1221225197498268,
                    0.36261047834934607,
                    0.46638122285394723,
                    0.6241630270343058,
                    0.4498437468496424,
                    -0.6450632792505295,
                    0.5264393117189411,
                    0.9064255195318093,
                    1.9585052734039645,
                    1.9694917776094159,
                    0.7044408613444624,
                    -0.12367145258045527,
                    -0.7823186165045052,
                    -0.6296042179595676,
                    -3.0918773962355575,
                    -2.9763254194927806,
                    -0.7237536617738429,
                    -0.4175313718295285,
                    -0.39489798175742385,
                    0.8572044889925855,
                    1.5248027698973254,
                    0.5047388918909014,
                    -0.1574588884903987,
                    -0.5563701316842777,
                    -2.024195770701763,
                    -1.0829927098490502,
                    -0.23959853886656726,
                    1.221957581937454,
                    1.679963964944247,
                    1.8510700187828237,
                    1.9151495815046136,
                    1.2912595465035244,
                    -0.35772829281495044,
                    -0.30721588794199295,
                    -0.21675281465267973,
                    -0.7487728353995173,
                    -0.9854712726139706,
                    -0.9854158753187566,
                    0.03182161053499188,
                    -0.16204160479406712,
                    -0.5637522401991857,
                    -1.0957672489868975,
                    -0.937602306610958,
                    -2.4764447780687306,
                    -1.4188076181277027,
                    -1.4986021110763859,
                    -1.4483754413960286,
                    -1.2021475758584648,
                    -0.9571270998344105,
                    -1.5045265171943947,
                    -1.5494195900487364,
                    -1.568549665717677,
                    -2.0886697438538033,
                    -1.9717776916059575,
                    -1.8190166329381325,
                    -1.573571961679041,
                    -0.14013382040340813,
                    -0.4028764239926857,
                    -0.09267709505711483,
                    -0.10016933078392307,
                    0.5990156894796387,
                    0.33360291061147335,
                    1.5948799969531322,
                    1.141130242197558,
                    0.2829388991101102,
                    -1.6762670251510092,
                    -3.2976713637979747,
                    -2.479718377854243,
                    -1.362853335277991,
                    -1.4099170404136567,
                    -0.9006657225249137,
                    0.18841884623484673,
                    -0.6734707722593871,
                    -1.0291140729157195,
                    -0.878023508297477,
                    -1.3376481792130537,
                    -3.0491471292748202,
                    -2.5259478272238405,
                    -2.020173168686621,
                    -2.499669839016942,
                    -1.8703210518026228,
                    -0.9138152015927722,
                    -0.9230007813522292,
                    -1.2581943438867804,
                    -1.2703871161469238,
                    -0.7200757329890435,
                    -1.164283088121527,
                    -0.24169962893385694,
                    0.0720978148185525,
                    2.068576879640943,
                    1.7405868440003627,
                    0.7786679859044323,
                    -0.40805356557202754,
                    -0.08605094077546048,
                    -0.4325194370475166,
                    -1.2203716244415816,
                    -1.3087357783930287,
                    -1.5224796791179103,
                    -3.399347311728324,
                    -1.9920470511118373,
                    -1.991185949411005,
                    -2.0678108517406377,
                    -1.8020166314591095,
                    -0.8292774199781692,
                    -0.8965924976875548,
                    0.09342367585914056,
                    1.7117320593171697,
                    4.410597303399307,
                    2.686265608297903,
                    2.224668944585661,
                    1.4229487688184084,
                    -0.21173966230358182,
                    0.18907865016737352,
                    0.014481730644944506,
                    0.6470017684488422,
                    0.7082534794109822,
                    1.3121140126519781,
                    0.6947861845994552,
                    1.2455885058726046,
                    0.008351669253605289,
                    0.22058305936041592,
                    0.14414323026991835,
                    -0.19932114059208586,
                    -1.5637965841617187,
                    -1.477347759036769,
                    -1.4415807672875987,
                    -0.2354456563663922,
                    -0.5328479086002231,
                    -0.6509607045432407,
                    -0.8908698706177225,
                    -0.46448488453396664,
                    -0.6234784166547699,
                    0.15291321595164367,
                    0.6488422061873929,
                    2.6051876763730766,
                    2.0071816018613533,
                    0.6276349576560999,
                    0.7357178839368261,
                    0.8273785378033892,
                    -0.7614762334494399,
                    -0.3897635540216011,
                    -0.04066917298550375,
                    -0.10991025066564294,
                    -0.33160029435051375,
                    0.9863160169426003,
                    -0.7659987637999285,
                    -1.3967937476624903,
                    -2.6537141472752612,
                    -4.120282986245345,
                    -3.597049024487177,
                    -0.5825275898763476,
                    -0.39460811505047844,
                    0.41424312038928585,
                    0.6458411396104654,
                    0.5917975210268428,
                    -1.1985995190048506,
                    -1.3815897855409915,
                    -0.8161624875914169,
                    0.15337847666450385,
                    0.23629038401161212,
                    0.6933814135304418,
                    1.5822152513235286,
                    1.3716096306888126,
                    0.04918613218485813,
                    0.7539661599680895,
                    0.26282536054814376,
                    -0.7166532141365206,
                    -0.30329693537577657,
                    0.15472091117684802,
                    -0.2791234920635355,
                    -0.14038597090229182,
                    1.4146235304496086,
                    0.6586521210383091,
                    0.3623097302290132,
                    0.8532158857749468,
                    -0.5102872348050561,
                    -0.4618774688445084,
                    -0.12646673151032098,
                    -0.6448451142877369,
                    -0.8671034721157828,
                    -0.24748171113825326,
                    0.32328366251010526,
                    0.06606508635858416,
                    0.12438911379496605,
                    0.48687724366932855,
                    0.3719194769577858,
                    -1.406069089331153,
                    -0.01816870548496269,
                    0.24585406174333405,
                    -0.5954386962135676,
                    -0.18945850741872644,
                    0.1695108210829887,
                    -0.6765012621011424,
                    -0.6650056381777337,
                    0.5476795217697482,
                    0.12773048822531596,
                    -0.6925821432884249,
                    -0.8285787017249643,
                    -0.38810999569244675,
                    -0.8252925798890159,
                    -0.07501467971667877,
                    0.23884603838497623,
                    1.3136064029252004,
                    0.2999593775192249,
                    -0.35289224574653644,
                    -0.4560860231915236,
                    -0.8125280064968136,
                    -0.80052076880287,
                    -0.9768033768654522,
                    -0.7385391956731387,
                    -2.410378506951424,
                    -0.9968708095562515,
                    -0.868951354864079,
                    -0.5019437427151076,
                    -0.9804729389830605,
                    -0.024764908779580787,
                    -1.257748894311677,
                    -1.7973208580177658,
                    -2.0356260410513376,
                    -1.8848161631920632,
                    -3.6203182163880525,
                    -4.020695658749377,
                    -1.2738476669109122,
                    -0.28294193643761384,
                    -0.017853660147192,
                    -0.10720823517401995,
                    1.0442546907348444,
                    0.716016161066362,
                    -0.814243206883884,
                    -0.9441592263416108,
                    -0.29229252043480486,
                    -0.16073944879091764,
                    0.09985010731542858,
                    1.3215583542579117,
                    1.8404109399270012,
                    1.6152262091243144,
                    0.8907553235795951,
                    -0.312150978810661,
                    0.3134415143564621,
                    1.3145697694649796,
                    0.4986449293039589,
                    0.511713727628878,
                    0.6067699985286505,
                    0.43446917880015157,
                    -1.8913247055658005,
                    -1.6698289019411572,
                    -0.8434683553013334,
                    -0.8850583641249159,
                    -1.5321038557247026,
                    -1.7110617243087114,
                    -0.443163109444567,
                    -0.885590323797817,
                    -0.8542613912312824,
                    0.3749668365886444,
                    1.045666703573528,
                    0.2126273834354054,
                    0.41132227232275687,
                    0.5305517932394054,
                    0.299805996550863,
                    0.5895552593644625,
                    0.9711799730522157
                  ],
                  "yaxis": "y",
                  "type": "scatter"
                }
              ],
              "layout": {
                "template": {
                  "data": {
                    "histogram2dcontour": [
                      {
                        "type": "histogram2dcontour",
                        "colorbar": {
                          "outlinewidth": 0,
                          "ticks": ""
                        },
                        "colorscale": [
                          [
                            0,
                            "#0d0887"
                          ],
                          [
                            0.1111111111111111,
                            "#46039f"
                          ],
                          [
                            0.2222222222222222,
                            "#7201a8"
                          ],
                          [
                            0.3333333333333333,
                            "#9c179e"
                          ],
                          [
                            0.4444444444444444,
                            "#bd3786"
                          ],
                          [
                            0.5555555555555556,
                            "#d8576b"
                          ],
                          [
                            0.6666666666666666,
                            "#ed7953"
                          ],
                          [
                            0.7777777777777778,
                            "#fb9f3a"
                          ],
                          [
                            0.8888888888888888,
                            "#fdca26"
                          ],
                          [
                            1,
                            "#f0f921"
                          ]
                        ]
                      }
                    ],
                    "choropleth": [
                      {
                        "type": "choropleth",
                        "colorbar": {
                          "outlinewidth": 0,
                          "ticks": ""
                        }
                      }
                    ],
                    "histogram2d": [
                      {
                        "type": "histogram2d",
                        "colorbar": {
                          "outlinewidth": 0,
                          "ticks": ""
                        },
                        "colorscale": [
                          [
                            0,
                            "#0d0887"
                          ],
                          [
                            0.1111111111111111,
                            "#46039f"
                          ],
                          [
                            0.2222222222222222,
                            "#7201a8"
                          ],
                          [
                            0.3333333333333333,
                            "#9c179e"
                          ],
                          [
                            0.4444444444444444,
                            "#bd3786"
                          ],
                          [
                            0.5555555555555556,
                            "#d8576b"
                          ],
                          [
                            0.6666666666666666,
                            "#ed7953"
                          ],
                          [
                            0.7777777777777778,
                            "#fb9f3a"
                          ],
                          [
                            0.8888888888888888,
                            "#fdca26"
                          ],
                          [
                            1,
                            "#f0f921"
                          ]
                        ]
                      }
                    ],
                    "heatmap": [
                      {
                        "type": "heatmap",
                        "colorbar": {
                          "outlinewidth": 0,
                          "ticks": ""
                        },
                        "colorscale": [
                          [
                            0,
                            "#0d0887"
                          ],
                          [
                            0.1111111111111111,
                            "#46039f"
                          ],
                          [
                            0.2222222222222222,
                            "#7201a8"
                          ],
                          [
                            0.3333333333333333,
                            "#9c179e"
                          ],
                          [
                            0.4444444444444444,
                            "#bd3786"
                          ],
                          [
                            0.5555555555555556,
                            "#d8576b"
                          ],
                          [
                            0.6666666666666666,
                            "#ed7953"
                          ],
                          [
                            0.7777777777777778,
                            "#fb9f3a"
                          ],
                          [
                            0.8888888888888888,
                            "#fdca26"
                          ],
                          [
                            1,
                            "#f0f921"
                          ]
                        ]
                      }
                    ],
                    "heatmapgl": [
                      {
                        "type": "heatmapgl",
                        "colorbar": {
                          "outlinewidth": 0,
                          "ticks": ""
                        },
                        "colorscale": [
                          [
                            0,
                            "#0d0887"
                          ],
                          [
                            0.1111111111111111,
                            "#46039f"
                          ],
                          [
                            0.2222222222222222,
                            "#7201a8"
                          ],
                          [
                            0.3333333333333333,
                            "#9c179e"
                          ],
                          [
                            0.4444444444444444,
                            "#bd3786"
                          ],
                          [
                            0.5555555555555556,
                            "#d8576b"
                          ],
                          [
                            0.6666666666666666,
                            "#ed7953"
                          ],
                          [
                            0.7777777777777778,
                            "#fb9f3a"
                          ],
                          [
                            0.8888888888888888,
                            "#fdca26"
                          ],
                          [
                            1,
                            "#f0f921"
                          ]
                        ]
                      }
                    ],
                    "contourcarpet": [
                      {
                        "type": "contourcarpet",
                        "colorbar": {
                          "outlinewidth": 0,
                          "ticks": ""
                        }
                      }
                    ],
                    "contour": [
                      {
                        "type": "contour",
                        "colorbar": {
                          "outlinewidth": 0,
                          "ticks": ""
                        },
                        "colorscale": [
                          [
                            0,
                            "#0d0887"
                          ],
                          [
                            0.1111111111111111,
                            "#46039f"
                          ],
                          [
                            0.2222222222222222,
                            "#7201a8"
                          ],
                          [
                            0.3333333333333333,
                            "#9c179e"
                          ],
                          [
                            0.4444444444444444,
                            "#bd3786"
                          ],
                          [
                            0.5555555555555556,
                            "#d8576b"
                          ],
                          [
                            0.6666666666666666,
                            "#ed7953"
                          ],
                          [
                            0.7777777777777778,
                            "#fb9f3a"
                          ],
                          [
                            0.8888888888888888,
                            "#fdca26"
                          ],
                          [
                            1,
                            "#f0f921"
                          ]
                        ]
                      }
                    ],
                    "surface": [
                      {
                        "type": "surface",
                        "colorbar": {
                          "outlinewidth": 0,
                          "ticks": ""
                        },
                        "colorscale": [
                          [
                            0,
                            "#0d0887"
                          ],
                          [
                            0.1111111111111111,
                            "#46039f"
                          ],
                          [
                            0.2222222222222222,
                            "#7201a8"
                          ],
                          [
                            0.3333333333333333,
                            "#9c179e"
                          ],
                          [
                            0.4444444444444444,
                            "#bd3786"
                          ],
                          [
                            0.5555555555555556,
                            "#d8576b"
                          ],
                          [
                            0.6666666666666666,
                            "#ed7953"
                          ],
                          [
                            0.7777777777777778,
                            "#fb9f3a"
                          ],
                          [
                            0.8888888888888888,
                            "#fdca26"
                          ],
                          [
                            1,
                            "#f0f921"
                          ]
                        ]
                      }
                    ],
                    "mesh3d": [
                      {
                        "type": "mesh3d",
                        "colorbar": {
                          "outlinewidth": 0,
                          "ticks": ""
                        }
                      }
                    ],
                    "scatter": [
                      {
                        "fillpattern": {
                          "fillmode": "overlay",
                          "size": 10,
                          "solidity": 0.2
                        },
                        "type": "scatter"
                      }
                    ],
                    "parcoords": [
                      {
                        "type": "parcoords",
                        "line": {
                          "colorbar": {
                            "outlinewidth": 0,
                            "ticks": ""
                          }
                        }
                      }
                    ],
                    "scatterpolargl": [
                      {
                        "type": "scatterpolargl",
                        "marker": {
                          "colorbar": {
                            "outlinewidth": 0,
                            "ticks": ""
                          }
                        }
                      }
                    ],
                    "bar": [
                      {
                        "error_x": {
                          "color": "#2a3f5f"
                        },
                        "error_y": {
                          "color": "#2a3f5f"
                        },
                        "marker": {
                          "line": {
                            "color": "#E5ECF6",
                            "width": 0.5
                          },
                          "pattern": {
                            "fillmode": "overlay",
                            "size": 10,
                            "solidity": 0.2
                          }
                        },
                        "type": "bar"
                      }
                    ],
                    "scattergeo": [
                      {
                        "type": "scattergeo",
                        "marker": {
                          "colorbar": {
                            "outlinewidth": 0,
                            "ticks": ""
                          }
                        }
                      }
                    ],
                    "scatterpolar": [
                      {
                        "type": "scatterpolar",
                        "marker": {
                          "colorbar": {
                            "outlinewidth": 0,
                            "ticks": ""
                          }
                        }
                      }
                    ],
                    "histogram": [
                      {
                        "marker": {
                          "pattern": {
                            "fillmode": "overlay",
                            "size": 10,
                            "solidity": 0.2
                          }
                        },
                        "type": "histogram"
                      }
                    ],
                    "scattergl": [
                      {
                        "type": "scattergl",
                        "marker": {
                          "colorbar": {
                            "outlinewidth": 0,
                            "ticks": ""
                          }
                        }
                      }
                    ],
                    "scatter3d": [
                      {
                        "type": "scatter3d",
                        "line": {
                          "colorbar": {
                            "outlinewidth": 0,
                            "ticks": ""
                          }
                        },
                        "marker": {
                          "colorbar": {
                            "outlinewidth": 0,
                            "ticks": ""
                          }
                        }
                      }
                    ],
                    "scattermapbox": [
                      {
                        "type": "scattermapbox",
                        "marker": {
                          "colorbar": {
                            "outlinewidth": 0,
                            "ticks": ""
                          }
                        }
                      }
                    ],
                    "scatterternary": [
                      {
                        "type": "scatterternary",
                        "marker": {
                          "colorbar": {
                            "outlinewidth": 0,
                            "ticks": ""
                          }
                        }
                      }
                    ],
                    "scattercarpet": [
                      {
                        "type": "scattercarpet",
                        "marker": {
                          "colorbar": {
                            "outlinewidth": 0,
                            "ticks": ""
                          }
                        }
                      }
                    ],
                    "carpet": [
                      {
                        "aaxis": {
                          "endlinecolor": "#2a3f5f",
                          "gridcolor": "white",
                          "linecolor": "white",
                          "minorgridcolor": "white",
                          "startlinecolor": "#2a3f5f"
                        },
                        "baxis": {
                          "endlinecolor": "#2a3f5f",
                          "gridcolor": "white",
                          "linecolor": "white",
                          "minorgridcolor": "white",
                          "startlinecolor": "#2a3f5f"
                        },
                        "type": "carpet"
                      }
                    ],
                    "table": [
                      {
                        "cells": {
                          "fill": {
                            "color": "#EBF0F8"
                          },
                          "line": {
                            "color": "white"
                          }
                        },
                        "header": {
                          "fill": {
                            "color": "#C8D4E3"
                          },
                          "line": {
                            "color": "white"
                          }
                        },
                        "type": "table"
                      }
                    ],
                    "barpolar": [
                      {
                        "marker": {
                          "line": {
                            "color": "#E5ECF6",
                            "width": 0.5
                          },
                          "pattern": {
                            "fillmode": "overlay",
                            "size": 10,
                            "solidity": 0.2
                          }
                        },
                        "type": "barpolar"
                      }
                    ],
                    "pie": [
                      {
                        "automargin": true,
                        "type": "pie"
                      }
                    ]
                  },
                  "layout": {
                    "autotypenumbers": "strict",
                    "colorway": [
                      "#636efa",
                      "#EF553B",
                      "#00cc96",
                      "#ab63fa",
                      "#FFA15A",
                      "#19d3f3",
                      "#FF6692",
                      "#B6E880",
                      "#FF97FF",
                      "#FECB52"
                    ],
                    "font": {
                      "color": "#2a3f5f"
                    },
                    "hovermode": "closest",
                    "hoverlabel": {
                      "align": "left"
                    },
                    "paper_bgcolor": "white",
                    "plot_bgcolor": "#E5ECF6",
                    "polar": {
                      "bgcolor": "#E5ECF6",
                      "angularaxis": {
                        "gridcolor": "white",
                        "linecolor": "white",
                        "ticks": ""
                      },
                      "radialaxis": {
                        "gridcolor": "white",
                        "linecolor": "white",
                        "ticks": ""
                      }
                    },
                    "ternary": {
                      "bgcolor": "#E5ECF6",
                      "aaxis": {
                        "gridcolor": "white",
                        "linecolor": "white",
                        "ticks": ""
                      },
                      "baxis": {
                        "gridcolor": "white",
                        "linecolor": "white",
                        "ticks": ""
                      },
                      "caxis": {
                        "gridcolor": "white",
                        "linecolor": "white",
                        "ticks": ""
                      }
                    },
                    "coloraxis": {
                      "colorbar": {
                        "outlinewidth": 0,
                        "ticks": ""
                      }
                    },
                    "colorscale": {
                      "sequential": [
                        [
                          0,
                          "#0d0887"
                        ],
                        [
                          0.1111111111111111,
                          "#46039f"
                        ],
                        [
                          0.2222222222222222,
                          "#7201a8"
                        ],
                        [
                          0.3333333333333333,
                          "#9c179e"
                        ],
                        [
                          0.4444444444444444,
                          "#bd3786"
                        ],
                        [
                          0.5555555555555556,
                          "#d8576b"
                        ],
                        [
                          0.6666666666666666,
                          "#ed7953"
                        ],
                        [
                          0.7777777777777778,
                          "#fb9f3a"
                        ],
                        [
                          0.8888888888888888,
                          "#fdca26"
                        ],
                        [
                          1,
                          "#f0f921"
                        ]
                      ],
                      "sequentialminus": [
                        [
                          0,
                          "#0d0887"
                        ],
                        [
                          0.1111111111111111,
                          "#46039f"
                        ],
                        [
                          0.2222222222222222,
                          "#7201a8"
                        ],
                        [
                          0.3333333333333333,
                          "#9c179e"
                        ],
                        [
                          0.4444444444444444,
                          "#bd3786"
                        ],
                        [
                          0.5555555555555556,
                          "#d8576b"
                        ],
                        [
                          0.6666666666666666,
                          "#ed7953"
                        ],
                        [
                          0.7777777777777778,
                          "#fb9f3a"
                        ],
                        [
                          0.8888888888888888,
                          "#fdca26"
                        ],
                        [
                          1,
                          "#f0f921"
                        ]
                      ],
                      "diverging": [
                        [
                          0,
                          "#8e0152"
                        ],
                        [
                          0.1,
                          "#c51b7d"
                        ],
                        [
                          0.2,
                          "#de77ae"
                        ],
                        [
                          0.3,
                          "#f1b6da"
                        ],
                        [
                          0.4,
                          "#fde0ef"
                        ],
                        [
                          0.5,
                          "#f7f7f7"
                        ],
                        [
                          0.6,
                          "#e6f5d0"
                        ],
                        [
                          0.7,
                          "#b8e186"
                        ],
                        [
                          0.8,
                          "#7fbc41"
                        ],
                        [
                          0.9,
                          "#4d9221"
                        ],
                        [
                          1,
                          "#276419"
                        ]
                      ]
                    },
                    "xaxis": {
                      "gridcolor": "white",
                      "linecolor": "white",
                      "ticks": "",
                      "title": {
                        "standoff": 15
                      },
                      "zerolinecolor": "white",
                      "automargin": true,
                      "zerolinewidth": 2
                    },
                    "yaxis": {
                      "gridcolor": "white",
                      "linecolor": "white",
                      "ticks": "",
                      "title": {
                        "standoff": 15
                      },
                      "zerolinecolor": "white",
                      "automargin": true,
                      "zerolinewidth": 2
                    },
                    "scene": {
                      "xaxis": {
                        "backgroundcolor": "#E5ECF6",
                        "gridcolor": "white",
                        "linecolor": "white",
                        "showbackground": true,
                        "ticks": "",
                        "zerolinecolor": "white",
                        "gridwidth": 2
                      },
                      "yaxis": {
                        "backgroundcolor": "#E5ECF6",
                        "gridcolor": "white",
                        "linecolor": "white",
                        "showbackground": true,
                        "ticks": "",
                        "zerolinecolor": "white",
                        "gridwidth": 2
                      },
                      "zaxis": {
                        "backgroundcolor": "#E5ECF6",
                        "gridcolor": "white",
                        "linecolor": "white",
                        "showbackground": true,
                        "ticks": "",
                        "zerolinecolor": "white",
                        "gridwidth": 2
                      }
                    },
                    "shapedefaults": {
                      "line": {
                        "color": "#2a3f5f"
                      }
                    },
                    "annotationdefaults": {
                      "arrowcolor": "#2a3f5f",
                      "arrowhead": 0,
                      "arrowwidth": 1
                    },
                    "geo": {
                      "bgcolor": "white",
                      "landcolor": "#E5ECF6",
                      "subunitcolor": "white",
                      "showland": true,
                      "showlakes": true,
                      "lakecolor": "white"
                    },
                    "title": {
                      "x": 0.05
                    },
                    "mapbox": {
                      "style": "light"
                    }
                  }
                },
                "xaxis": {
                  "anchor": "y",
                  "domain": [
                    0,
                    1
                  ],
                  "title": {
                    "text": "Date"
                  }
                },
                "yaxis": {
                  "anchor": "x",
                  "domain": [
                    0,
                    1
                  ],
                  "title": {
                    "text": "value"
                  }
                },
                "legend": {
                  "title": {
                    "text": "variable"
                  },
                  "tracegroupgap": 0
                },
                "margin": {
                  "t": 60
                }
              },
              "config": {
                "plotlyServerURL": "https://plot.ly"
              }
            },
            "text/html": [
              "<div>                            <div id=\"809f3107-97cb-4312-bcc9-13d318dfd5b0\" class=\"plotly-graph-div\" style=\"height:525px; width:100%;\"></div>            <script type=\"text/javascript\">                require([\"plotly\"], function(Plotly) {                    window.PLOTLYENV=window.PLOTLYENV || {};                                    if (document.getElementById(\"809f3107-97cb-4312-bcc9-13d318dfd5b0\")) {                    Plotly.newPlot(                        \"809f3107-97cb-4312-bcc9-13d318dfd5b0\",                        [{\"hovertemplate\":\"variable=Close\\u003cbr\\u003eDate=%{x}\\u003cbr\\u003evalue=%{y}\\u003cextra\\u003e\\u003c\\u002fextra\\u003e\",\"legendgroup\":\"Close\",\"line\":{\"color\":\"#636efa\",\"dash\":\"solid\"},\"marker\":{\"symbol\":\"circle\"},\"mode\":\"lines\",\"name\":\"Close\",\"orientation\":\"v\",\"showlegend\":true,\"x\":[\"2023-01-04T00:00:00\",\"2023-01-05T00:00:00\",\"2023-01-06T00:00:00\",\"2023-01-09T00:00:00\",\"2023-01-10T00:00:00\",\"2023-01-11T00:00:00\",\"2023-01-12T00:00:00\",\"2023-01-13T00:00:00\",\"2023-01-17T00:00:00\",\"2023-01-18T00:00:00\",\"2023-01-19T00:00:00\",\"2023-01-20T00:00:00\",\"2023-01-23T00:00:00\",\"2023-01-24T00:00:00\",\"2023-01-25T00:00:00\",\"2023-01-26T00:00:00\",\"2023-01-27T00:00:00\",\"2023-01-30T00:00:00\",\"2023-01-31T00:00:00\",\"2023-02-01T00:00:00\",\"2023-02-02T00:00:00\",\"2023-02-03T00:00:00\",\"2023-02-06T00:00:00\",\"2023-02-07T00:00:00\",\"2023-02-08T00:00:00\",\"2023-02-09T00:00:00\",\"2023-02-10T00:00:00\",\"2023-02-13T00:00:00\",\"2023-02-14T00:00:00\",\"2023-02-15T00:00:00\",\"2023-02-16T00:00:00\",\"2023-02-17T00:00:00\",\"2023-02-21T00:00:00\",\"2023-02-22T00:00:00\",\"2023-02-23T00:00:00\",\"2023-02-24T00:00:00\",\"2023-02-27T00:00:00\",\"2023-02-28T00:00:00\",\"2023-03-01T00:00:00\",\"2023-03-02T00:00:00\",\"2023-03-03T00:00:00\",\"2023-03-06T00:00:00\",\"2023-03-07T00:00:00\",\"2023-03-08T00:00:00\",\"2023-03-09T00:00:00\",\"2023-03-10T00:00:00\",\"2023-03-13T00:00:00\",\"2023-03-14T00:00:00\",\"2023-03-15T00:00:00\",\"2023-03-16T00:00:00\",\"2023-03-17T00:00:00\",\"2023-03-20T00:00:00\",\"2023-03-21T00:00:00\",\"2023-03-22T00:00:00\",\"2023-03-23T00:00:00\",\"2023-03-24T00:00:00\",\"2023-03-27T00:00:00\",\"2023-03-28T00:00:00\",\"2023-03-29T00:00:00\",\"2023-03-30T00:00:00\",\"2023-03-31T00:00:00\",\"2023-04-03T00:00:00\",\"2023-04-04T00:00:00\",\"2023-04-05T00:00:00\",\"2023-04-06T00:00:00\",\"2023-04-10T00:00:00\",\"2023-04-11T00:00:00\",\"2023-04-12T00:00:00\",\"2023-04-13T00:00:00\",\"2023-04-14T00:00:00\",\"2023-04-17T00:00:00\",\"2023-04-18T00:00:00\",\"2023-04-19T00:00:00\",\"2023-04-20T00:00:00\",\"2023-04-21T00:00:00\",\"2023-04-24T00:00:00\",\"2023-04-25T00:00:00\",\"2023-04-26T00:00:00\",\"2023-04-27T00:00:00\",\"2023-04-28T00:00:00\",\"2023-05-01T00:00:00\",\"2023-05-02T00:00:00\",\"2023-05-03T00:00:00\",\"2023-05-04T00:00:00\",\"2023-05-05T00:00:00\",\"2023-05-08T00:00:00\",\"2023-05-09T00:00:00\",\"2023-05-10T00:00:00\",\"2023-05-11T00:00:00\",\"2023-05-12T00:00:00\",\"2023-05-15T00:00:00\",\"2023-05-16T00:00:00\",\"2023-05-17T00:00:00\",\"2023-05-18T00:00:00\",\"2023-05-19T00:00:00\",\"2023-05-22T00:00:00\",\"2023-05-23T00:00:00\",\"2023-05-24T00:00:00\",\"2023-05-25T00:00:00\",\"2023-05-26T00:00:00\",\"2023-05-30T00:00:00\",\"2023-05-31T00:00:00\",\"2023-06-01T00:00:00\",\"2023-06-02T00:00:00\",\"2023-06-05T00:00:00\",\"2023-06-06T00:00:00\",\"2023-06-07T00:00:00\",\"2023-06-08T00:00:00\",\"2023-06-09T00:00:00\",\"2023-06-12T00:00:00\",\"2023-06-13T00:00:00\",\"2023-06-14T00:00:00\",\"2023-06-15T00:00:00\",\"2023-06-16T00:00:00\",\"2023-06-20T00:00:00\",\"2023-06-21T00:00:00\",\"2023-06-22T00:00:00\",\"2023-06-23T00:00:00\",\"2023-06-26T00:00:00\",\"2023-06-27T00:00:00\",\"2023-06-28T00:00:00\",\"2023-06-29T00:00:00\",\"2023-06-30T00:00:00\",\"2023-07-03T00:00:00\",\"2023-07-05T00:00:00\",\"2023-07-06T00:00:00\",\"2023-07-07T00:00:00\",\"2023-07-10T00:00:00\",\"2023-07-11T00:00:00\",\"2023-07-12T00:00:00\",\"2023-07-13T00:00:00\",\"2023-07-14T00:00:00\",\"2023-07-17T00:00:00\",\"2023-07-18T00:00:00\",\"2023-07-19T00:00:00\",\"2023-07-20T00:00:00\",\"2023-07-21T00:00:00\",\"2023-07-24T00:00:00\",\"2023-07-25T00:00:00\",\"2023-07-26T00:00:00\",\"2023-07-27T00:00:00\",\"2023-07-28T00:00:00\",\"2023-07-31T00:00:00\",\"2023-08-01T00:00:00\",\"2023-08-02T00:00:00\",\"2023-08-03T00:00:00\",\"2023-08-04T00:00:00\",\"2023-08-07T00:00:00\",\"2023-08-08T00:00:00\",\"2023-08-09T00:00:00\",\"2023-08-10T00:00:00\",\"2023-08-11T00:00:00\",\"2023-08-14T00:00:00\",\"2023-08-15T00:00:00\",\"2023-08-16T00:00:00\",\"2023-08-17T00:00:00\",\"2023-08-18T00:00:00\",\"2023-08-21T00:00:00\",\"2023-08-22T00:00:00\",\"2023-08-23T00:00:00\",\"2023-08-24T00:00:00\",\"2023-08-25T00:00:00\",\"2023-08-28T00:00:00\",\"2023-08-29T00:00:00\",\"2023-08-30T00:00:00\",\"2023-08-31T00:00:00\",\"2023-09-01T00:00:00\",\"2023-09-05T00:00:00\",\"2023-09-06T00:00:00\",\"2023-09-07T00:00:00\",\"2023-09-08T00:00:00\",\"2023-09-11T00:00:00\",\"2023-09-12T00:00:00\",\"2023-09-13T00:00:00\",\"2023-09-14T00:00:00\",\"2023-09-15T00:00:00\",\"2023-09-18T00:00:00\",\"2023-09-19T00:00:00\",\"2023-09-20T00:00:00\",\"2023-09-21T00:00:00\",\"2023-09-22T00:00:00\",\"2023-09-25T00:00:00\",\"2023-09-26T00:00:00\",\"2023-09-27T00:00:00\",\"2023-09-28T00:00:00\",\"2023-09-29T00:00:00\",\"2023-10-02T00:00:00\",\"2023-10-03T00:00:00\",\"2023-10-04T00:00:00\",\"2023-10-05T00:00:00\",\"2023-10-06T00:00:00\",\"2023-10-09T00:00:00\",\"2023-10-10T00:00:00\",\"2023-10-11T00:00:00\",\"2023-10-12T00:00:00\",\"2023-10-13T00:00:00\",\"2023-10-16T00:00:00\",\"2023-10-17T00:00:00\",\"2023-10-18T00:00:00\",\"2023-10-19T00:00:00\",\"2023-10-20T00:00:00\",\"2023-10-23T00:00:00\",\"2023-10-24T00:00:00\",\"2023-10-25T00:00:00\",\"2023-10-26T00:00:00\",\"2023-10-27T00:00:00\",\"2023-10-30T00:00:00\",\"2023-10-31T00:00:00\",\"2023-11-01T00:00:00\",\"2023-11-02T00:00:00\",\"2023-11-03T00:00:00\",\"2023-11-06T00:00:00\",\"2023-11-07T00:00:00\",\"2023-11-08T00:00:00\",\"2023-11-09T00:00:00\",\"2023-11-10T00:00:00\",\"2023-11-13T00:00:00\",\"2023-11-14T00:00:00\",\"2023-11-15T00:00:00\",\"2023-11-16T00:00:00\",\"2023-11-17T00:00:00\",\"2023-11-20T00:00:00\",\"2023-11-21T00:00:00\",\"2023-11-22T00:00:00\",\"2023-11-24T00:00:00\",\"2023-11-27T00:00:00\",\"2023-11-28T00:00:00\",\"2023-11-29T00:00:00\",\"2023-11-30T00:00:00\",\"2023-12-01T00:00:00\",\"2023-12-04T00:00:00\",\"2023-12-05T00:00:00\",\"2023-12-06T00:00:00\",\"2023-12-07T00:00:00\",\"2023-12-08T00:00:00\",\"2023-12-11T00:00:00\",\"2023-12-12T00:00:00\",\"2023-12-13T00:00:00\",\"2023-12-14T00:00:00\",\"2023-12-15T00:00:00\",\"2023-12-18T00:00:00\",\"2023-12-19T00:00:00\",\"2023-12-20T00:00:00\",\"2023-12-21T00:00:00\",\"2023-12-22T00:00:00\",\"2023-12-26T00:00:00\",\"2023-12-27T00:00:00\",\"2023-12-28T00:00:00\",\"2023-12-29T00:00:00\",\"2024-01-02T00:00:00\",\"2024-01-03T00:00:00\",\"2024-01-04T00:00:00\",\"2024-01-05T00:00:00\",\"2024-01-08T00:00:00\",\"2024-01-09T00:00:00\",\"2024-01-10T00:00:00\",\"2024-01-11T00:00:00\",\"2024-01-12T00:00:00\",\"2024-01-16T00:00:00\",\"2024-01-17T00:00:00\",\"2024-01-18T00:00:00\",\"2024-01-19T00:00:00\",\"2024-01-22T00:00:00\",\"2024-01-23T00:00:00\",\"2024-01-24T00:00:00\",\"2024-01-25T00:00:00\",\"2024-01-26T00:00:00\",\"2024-01-29T00:00:00\",\"2024-01-30T00:00:00\",\"2024-01-31T00:00:00\",\"2024-02-01T00:00:00\",\"2024-02-02T00:00:00\",\"2024-02-05T00:00:00\",\"2024-02-06T00:00:00\",\"2024-02-07T00:00:00\",\"2024-02-08T00:00:00\",\"2024-02-09T00:00:00\",\"2024-02-12T00:00:00\",\"2024-02-13T00:00:00\",\"2024-02-14T00:00:00\",\"2024-02-15T00:00:00\",\"2024-02-16T00:00:00\",\"2024-02-20T00:00:00\",\"2024-02-21T00:00:00\",\"2024-02-22T00:00:00\",\"2024-02-23T00:00:00\",\"2024-02-26T00:00:00\",\"2024-02-27T00:00:00\",\"2024-02-28T00:00:00\",\"2024-02-29T00:00:00\",\"2024-03-01T00:00:00\",\"2024-03-04T00:00:00\",\"2024-03-05T00:00:00\",\"2024-03-06T00:00:00\",\"2024-03-07T00:00:00\",\"2024-03-08T00:00:00\",\"2024-03-11T00:00:00\",\"2024-03-12T00:00:00\",\"2024-03-13T00:00:00\",\"2024-03-14T00:00:00\",\"2024-03-15T00:00:00\",\"2024-03-18T00:00:00\",\"2024-03-19T00:00:00\",\"2024-03-20T00:00:00\",\"2024-03-21T00:00:00\",\"2024-03-22T00:00:00\",\"2024-03-25T00:00:00\",\"2024-03-26T00:00:00\",\"2024-03-27T00:00:00\",\"2024-03-28T00:00:00\",\"2024-04-01T00:00:00\",\"2024-04-02T00:00:00\",\"2024-04-03T00:00:00\",\"2024-04-04T00:00:00\",\"2024-04-05T00:00:00\",\"2024-04-08T00:00:00\",\"2024-04-09T00:00:00\",\"2024-04-10T00:00:00\",\"2024-04-11T00:00:00\",\"2024-04-12T00:00:00\",\"2024-04-15T00:00:00\",\"2024-04-16T00:00:00\",\"2024-04-17T00:00:00\",\"2024-04-18T00:00:00\",\"2024-04-19T00:00:00\",\"2024-04-22T00:00:00\",\"2024-04-23T00:00:00\",\"2024-04-24T00:00:00\",\"2024-04-25T00:00:00\",\"2024-04-26T00:00:00\",\"2024-04-29T00:00:00\",\"2024-04-30T00:00:00\",\"2024-05-01T00:00:00\",\"2024-05-02T00:00:00\",\"2024-05-03T00:00:00\",\"2024-05-06T00:00:00\",\"2024-05-07T00:00:00\",\"2024-05-08T00:00:00\",\"2024-05-09T00:00:00\",\"2024-05-10T00:00:00\",\"2024-05-13T00:00:00\",\"2024-05-14T00:00:00\",\"2024-05-15T00:00:00\",\"2024-05-16T00:00:00\",\"2024-05-17T00:00:00\",\"2024-05-20T00:00:00\",\"2024-05-21T00:00:00\",\"2024-05-22T00:00:00\",\"2024-05-23T00:00:00\",\"2024-05-24T00:00:00\",\"2024-05-28T00:00:00\",\"2024-05-29T00:00:00\",\"2024-05-30T00:00:00\",\"2024-05-31T00:00:00\",\"2024-06-03T00:00:00\",\"2024-06-04T00:00:00\",\"2024-06-05T00:00:00\",\"2024-06-06T00:00:00\",\"2024-06-07T00:00:00\",\"2024-06-10T00:00:00\",\"2024-06-11T00:00:00\",\"2024-06-12T00:00:00\",\"2024-06-13T00:00:00\",\"2024-06-14T00:00:00\"],\"xaxis\":\"x\",\"y\":[null,null,null,null,0.5471366111571959,0.6970601434207836,1.753825489004681,1.5144260141079182,1.2925545417422588,-0.32653993498469125,-1.4814752084141318,-0.44160439904499155,-0.14884235450696687,-0.12493797883055802,0.5293861806165348,1.6549954520669448,1.0601476760066026,-0.5346785989890873,0.23516054890135737,0.6462697117737831,0.7516780904849211,0.2054536581683162,0.47493814475879453,0.42669263287687353,-0.3635417252331416,-1.4869721527990276,-0.93302659840927,-0.1086387567529386,-0.7945427476234505,-0.11730214162383507,-0.3420370156111686,-0.5739524288158446,-1.9841349919595481,-2.054621059734149,-1.8521768044210216,-1.7988032802291696,-1.4114317769391707,-1.2082913692253725,-1.3626954377152602,-1.0700897224055712,0.5111070229269105,0.3600823039681112,-0.18641216342811281,0.020679121548970576,-0.8213525491520614,-2.6120103795900125,-2.86306055344478,-0.8523199719162939,-1.1266145438925508,0.04919932119826814,0.016017822131976285,0.35275332615356814,0.2614069174153102,-0.07461445132720812,-0.5531928412969868,0.17549806536729362,-0.12044124108109525,-0.8888025868900855,0.9447618256211289,1.184467152630662,1.4499289913048652,1.62857620978174,1.2197501653281353,0.31845681677138227,0.20829360222661678,-1.0230536748696124,-1.607342173125545,-1.6417932973141582,0.298246802513217,-0.1340912050033588,0.0336723768072748,0.0589196246304396,0.3521993058629648,-1.8221325529916648,-1.4375027303080647,-2.1478188504779614,-1.8446237087897746,-2.191231226575146,-0.30247007400593184,-0.033064268699455106,-0.10105208334803309,0.06139276359717228,-0.035516505345718624,-1.6207605279196038,-0.6848540948443793,-0.6345761244753979,-0.410662644711953,0.07903384766546352,0.3554619553922341,-1.6771315006509542,-1.1015566144022972,-1.1459633330502,-0.26852554051202887,0.4107994249677541,0.4012176448427796,0.22222720487423459,-0.032681797582759804,-1.1227654171984986,-1.2302882033385107,-0.29137863368172073,-0.2924750758095819,-0.049005415570671236,0.9346986839265123,1.1221225197498268,0.36261047834934607,0.46638122285394723,0.6241630270343058,0.4498437468496424,-0.6450632792505295,0.5264393117189411,0.9064255195318093,1.9585052734039645,1.9694917776094159,0.7044408613444624,-0.12367145258045527,-0.7823186165045052,-0.6296042179595676,-3.0918773962355575,-2.9763254194927806,-0.7237536617738429,-0.4175313718295285,-0.39489798175742385,0.8572044889925855,1.5248027698973254,0.5047388918909014,-0.1574588884903987,-0.5563701316842777,-2.024195770701763,-1.0829927098490502,-0.23959853886656726,1.221957581937454,1.679963964944247,1.8510700187828237,1.9151495815046136,1.2912595465035244,-0.35772829281495044,-0.30721588794199295,-0.21675281465267973,-0.7487728353995173,-0.9854712726139706,-0.9854158753187566,0.03182161053499188,-0.16204160479406712,-0.5637522401991857,-1.0957672489868975,-0.937602306610958,-2.4764447780687306,-1.4188076181277027,-1.4986021110763859,-1.4483754413960286,-1.2021475758584648,-0.9571270998344105,-1.5045265171943947,-1.5494195900487364,-1.568549665717677,-2.0886697438538033,-1.9717776916059575,-1.8190166329381325,-1.573571961679041,-0.14013382040340813,-0.4028764239926857,-0.09267709505711483,-0.10016933078392307,0.5990156894796387,0.33360291061147335,1.5948799969531322,1.141130242197558,0.2829388991101102,-1.6762670251510092,-3.2976713637979747,-2.479718377854243,-1.362853335277991,-1.4099170404136567,-0.9006657225249137,0.18841884623484673,-0.6734707722593871,-1.0291140729157195,-0.878023508297477,-1.3376481792130537,-3.0491471292748202,-2.5259478272238405,-2.020173168686621,-2.499669839016942,-1.8703210518026228,-0.9138152015927722,-0.9230007813522292,-1.2581943438867804,-1.2703871161469238,-0.7200757329890435,-1.164283088121527,-0.24169962893385694,0.0720978148185525,2.068576879640943,1.7405868440003627,0.7786679859044323,-0.40805356557202754,-0.08605094077546048,-0.4325194370475166,-1.2203716244415816,-1.3087357783930287,-1.5224796791179103,-3.399347311728324,-1.9920470511118373,-1.991185949411005,-2.0678108517406377,-1.8020166314591095,-0.8292774199781692,-0.8965924976875548,0.09342367585914056,1.7117320593171697,4.410597303399307,2.686265608297903,2.224668944585661,1.4229487688184084,-0.21173966230358182,0.18907865016737352,0.014481730644944506,0.6470017684488422,0.7082534794109822,1.3121140126519781,0.6947861845994552,1.2455885058726046,0.008351669253605289,0.22058305936041592,0.14414323026991835,-0.19932114059208586,-1.5637965841617187,-1.477347759036769,-1.4415807672875987,-0.2354456563663922,-0.5328479086002231,-0.6509607045432407,-0.8908698706177225,-0.46448488453396664,-0.6234784166547699,0.15291321595164367,0.6488422061873929,2.6051876763730766,2.0071816018613533,0.6276349576560999,0.7357178839368261,0.8273785378033892,-0.7614762334494399,-0.3897635540216011,-0.04066917298550375,-0.10991025066564294,-0.33160029435051375,0.9863160169426003,-0.7659987637999285,-1.3967937476624903,-2.6537141472752612,-4.120282986245345,-3.597049024487177,-0.5825275898763476,-0.39460811505047844,0.41424312038928585,0.6458411396104654,0.5917975210268428,-1.1985995190048506,-1.3815897855409915,-0.8161624875914169,0.15337847666450385,0.23629038401161212,0.6933814135304418,1.5822152513235286,1.3716096306888126,0.04918613218485813,0.7539661599680895,0.26282536054814376,-0.7166532141365206,-0.30329693537577657,0.15472091117684802,-0.2791234920635355,-0.14038597090229182,1.4146235304496086,0.6586521210383091,0.3623097302290132,0.8532158857749468,-0.5102872348050561,-0.4618774688445084,-0.12646673151032098,-0.6448451142877369,-0.8671034721157828,-0.24748171113825326,0.32328366251010526,0.06606508635858416,0.12438911379496605,0.48687724366932855,0.3719194769577858,-1.406069089331153,-0.01816870548496269,0.24585406174333405,-0.5954386962135676,-0.18945850741872644,0.1695108210829887,-0.6765012621011424,-0.6650056381777337,0.5476795217697482,0.12773048822531596,-0.6925821432884249,-0.8285787017249643,-0.38810999569244675,-0.8252925798890159,-0.07501467971667877,0.23884603838497623,1.3136064029252004,0.2999593775192249,-0.35289224574653644,-0.4560860231915236,-0.8125280064968136,-0.80052076880287,-0.9768033768654522,-0.7385391956731387,-2.410378506951424,-0.9968708095562515,-0.868951354864079,-0.5019437427151076,-0.9804729389830605,-0.024764908779580787,-1.257748894311677,-1.7973208580177658,-2.0356260410513376,-1.8848161631920632,-3.6203182163880525,-4.020695658749377,-1.2738476669109122,-0.28294193643761384,-0.017853660147192,-0.10720823517401995,1.0442546907348444,0.716016161066362,-0.814243206883884,-0.9441592263416108,-0.29229252043480486,-0.16073944879091764,0.09985010731542858,1.3215583542579117,1.8404109399270012,1.6152262091243144,0.8907553235795951,-0.312150978810661,0.3134415143564621,1.3145697694649796,0.4986449293039589,0.511713727628878,0.6067699985286505,0.43446917880015157,-1.8913247055658005,-1.6698289019411572,-0.8434683553013334,-0.8850583641249159,-1.5321038557247026,-1.7110617243087114,-0.443163109444567,-0.885590323797817,-0.8542613912312824,0.3749668365886444,1.045666703573528,0.2126273834354054,0.41132227232275687,0.5305517932394054,0.299805996550863,0.5895552593644625,0.9711799730522157],\"yaxis\":\"y\",\"type\":\"scatter\"}],                        {\"template\":{\"data\":{\"histogram2dcontour\":[{\"type\":\"histogram2dcontour\",\"colorbar\":{\"outlinewidth\":0,\"ticks\":\"\"},\"colorscale\":[[0.0,\"#0d0887\"],[0.1111111111111111,\"#46039f\"],[0.2222222222222222,\"#7201a8\"],[0.3333333333333333,\"#9c179e\"],[0.4444444444444444,\"#bd3786\"],[0.5555555555555556,\"#d8576b\"],[0.6666666666666666,\"#ed7953\"],[0.7777777777777778,\"#fb9f3a\"],[0.8888888888888888,\"#fdca26\"],[1.0,\"#f0f921\"]]}],\"choropleth\":[{\"type\":\"choropleth\",\"colorbar\":{\"outlinewidth\":0,\"ticks\":\"\"}}],\"histogram2d\":[{\"type\":\"histogram2d\",\"colorbar\":{\"outlinewidth\":0,\"ticks\":\"\"},\"colorscale\":[[0.0,\"#0d0887\"],[0.1111111111111111,\"#46039f\"],[0.2222222222222222,\"#7201a8\"],[0.3333333333333333,\"#9c179e\"],[0.4444444444444444,\"#bd3786\"],[0.5555555555555556,\"#d8576b\"],[0.6666666666666666,\"#ed7953\"],[0.7777777777777778,\"#fb9f3a\"],[0.8888888888888888,\"#fdca26\"],[1.0,\"#f0f921\"]]}],\"heatmap\":[{\"type\":\"heatmap\",\"colorbar\":{\"outlinewidth\":0,\"ticks\":\"\"},\"colorscale\":[[0.0,\"#0d0887\"],[0.1111111111111111,\"#46039f\"],[0.2222222222222222,\"#7201a8\"],[0.3333333333333333,\"#9c179e\"],[0.4444444444444444,\"#bd3786\"],[0.5555555555555556,\"#d8576b\"],[0.6666666666666666,\"#ed7953\"],[0.7777777777777778,\"#fb9f3a\"],[0.8888888888888888,\"#fdca26\"],[1.0,\"#f0f921\"]]}],\"heatmapgl\":[{\"type\":\"heatmapgl\",\"colorbar\":{\"outlinewidth\":0,\"ticks\":\"\"},\"colorscale\":[[0.0,\"#0d0887\"],[0.1111111111111111,\"#46039f\"],[0.2222222222222222,\"#7201a8\"],[0.3333333333333333,\"#9c179e\"],[0.4444444444444444,\"#bd3786\"],[0.5555555555555556,\"#d8576b\"],[0.6666666666666666,\"#ed7953\"],[0.7777777777777778,\"#fb9f3a\"],[0.8888888888888888,\"#fdca26\"],[1.0,\"#f0f921\"]]}],\"contourcarpet\":[{\"type\":\"contourcarpet\",\"colorbar\":{\"outlinewidth\":0,\"ticks\":\"\"}}],\"contour\":[{\"type\":\"contour\",\"colorbar\":{\"outlinewidth\":0,\"ticks\":\"\"},\"colorscale\":[[0.0,\"#0d0887\"],[0.1111111111111111,\"#46039f\"],[0.2222222222222222,\"#7201a8\"],[0.3333333333333333,\"#9c179e\"],[0.4444444444444444,\"#bd3786\"],[0.5555555555555556,\"#d8576b\"],[0.6666666666666666,\"#ed7953\"],[0.7777777777777778,\"#fb9f3a\"],[0.8888888888888888,\"#fdca26\"],[1.0,\"#f0f921\"]]}],\"surface\":[{\"type\":\"surface\",\"colorbar\":{\"outlinewidth\":0,\"ticks\":\"\"},\"colorscale\":[[0.0,\"#0d0887\"],[0.1111111111111111,\"#46039f\"],[0.2222222222222222,\"#7201a8\"],[0.3333333333333333,\"#9c179e\"],[0.4444444444444444,\"#bd3786\"],[0.5555555555555556,\"#d8576b\"],[0.6666666666666666,\"#ed7953\"],[0.7777777777777778,\"#fb9f3a\"],[0.8888888888888888,\"#fdca26\"],[1.0,\"#f0f921\"]]}],\"mesh3d\":[{\"type\":\"mesh3d\",\"colorbar\":{\"outlinewidth\":0,\"ticks\":\"\"}}],\"scatter\":[{\"fillpattern\":{\"fillmode\":\"overlay\",\"size\":10,\"solidity\":0.2},\"type\":\"scatter\"}],\"parcoords\":[{\"type\":\"parcoords\",\"line\":{\"colorbar\":{\"outlinewidth\":0,\"ticks\":\"\"}}}],\"scatterpolargl\":[{\"type\":\"scatterpolargl\",\"marker\":{\"colorbar\":{\"outlinewidth\":0,\"ticks\":\"\"}}}],\"bar\":[{\"error_x\":{\"color\":\"#2a3f5f\"},\"error_y\":{\"color\":\"#2a3f5f\"},\"marker\":{\"line\":{\"color\":\"#E5ECF6\",\"width\":0.5},\"pattern\":{\"fillmode\":\"overlay\",\"size\":10,\"solidity\":0.2}},\"type\":\"bar\"}],\"scattergeo\":[{\"type\":\"scattergeo\",\"marker\":{\"colorbar\":{\"outlinewidth\":0,\"ticks\":\"\"}}}],\"scatterpolar\":[{\"type\":\"scatterpolar\",\"marker\":{\"colorbar\":{\"outlinewidth\":0,\"ticks\":\"\"}}}],\"histogram\":[{\"marker\":{\"pattern\":{\"fillmode\":\"overlay\",\"size\":10,\"solidity\":0.2}},\"type\":\"histogram\"}],\"scattergl\":[{\"type\":\"scattergl\",\"marker\":{\"colorbar\":{\"outlinewidth\":0,\"ticks\":\"\"}}}],\"scatter3d\":[{\"type\":\"scatter3d\",\"line\":{\"colorbar\":{\"outlinewidth\":0,\"ticks\":\"\"}},\"marker\":{\"colorbar\":{\"outlinewidth\":0,\"ticks\":\"\"}}}],\"scattermapbox\":[{\"type\":\"scattermapbox\",\"marker\":{\"colorbar\":{\"outlinewidth\":0,\"ticks\":\"\"}}}],\"scatterternary\":[{\"type\":\"scatterternary\",\"marker\":{\"colorbar\":{\"outlinewidth\":0,\"ticks\":\"\"}}}],\"scattercarpet\":[{\"type\":\"scattercarpet\",\"marker\":{\"colorbar\":{\"outlinewidth\":0,\"ticks\":\"\"}}}],\"carpet\":[{\"aaxis\":{\"endlinecolor\":\"#2a3f5f\",\"gridcolor\":\"white\",\"linecolor\":\"white\",\"minorgridcolor\":\"white\",\"startlinecolor\":\"#2a3f5f\"},\"baxis\":{\"endlinecolor\":\"#2a3f5f\",\"gridcolor\":\"white\",\"linecolor\":\"white\",\"minorgridcolor\":\"white\",\"startlinecolor\":\"#2a3f5f\"},\"type\":\"carpet\"}],\"table\":[{\"cells\":{\"fill\":{\"color\":\"#EBF0F8\"},\"line\":{\"color\":\"white\"}},\"header\":{\"fill\":{\"color\":\"#C8D4E3\"},\"line\":{\"color\":\"white\"}},\"type\":\"table\"}],\"barpolar\":[{\"marker\":{\"line\":{\"color\":\"#E5ECF6\",\"width\":0.5},\"pattern\":{\"fillmode\":\"overlay\",\"size\":10,\"solidity\":0.2}},\"type\":\"barpolar\"}],\"pie\":[{\"automargin\":true,\"type\":\"pie\"}]},\"layout\":{\"autotypenumbers\":\"strict\",\"colorway\":[\"#636efa\",\"#EF553B\",\"#00cc96\",\"#ab63fa\",\"#FFA15A\",\"#19d3f3\",\"#FF6692\",\"#B6E880\",\"#FF97FF\",\"#FECB52\"],\"font\":{\"color\":\"#2a3f5f\"},\"hovermode\":\"closest\",\"hoverlabel\":{\"align\":\"left\"},\"paper_bgcolor\":\"white\",\"plot_bgcolor\":\"#E5ECF6\",\"polar\":{\"bgcolor\":\"#E5ECF6\",\"angularaxis\":{\"gridcolor\":\"white\",\"linecolor\":\"white\",\"ticks\":\"\"},\"radialaxis\":{\"gridcolor\":\"white\",\"linecolor\":\"white\",\"ticks\":\"\"}},\"ternary\":{\"bgcolor\":\"#E5ECF6\",\"aaxis\":{\"gridcolor\":\"white\",\"linecolor\":\"white\",\"ticks\":\"\"},\"baxis\":{\"gridcolor\":\"white\",\"linecolor\":\"white\",\"ticks\":\"\"},\"caxis\":{\"gridcolor\":\"white\",\"linecolor\":\"white\",\"ticks\":\"\"}},\"coloraxis\":{\"colorbar\":{\"outlinewidth\":0,\"ticks\":\"\"}},\"colorscale\":{\"sequential\":[[0.0,\"#0d0887\"],[0.1111111111111111,\"#46039f\"],[0.2222222222222222,\"#7201a8\"],[0.3333333333333333,\"#9c179e\"],[0.4444444444444444,\"#bd3786\"],[0.5555555555555556,\"#d8576b\"],[0.6666666666666666,\"#ed7953\"],[0.7777777777777778,\"#fb9f3a\"],[0.8888888888888888,\"#fdca26\"],[1.0,\"#f0f921\"]],\"sequentialminus\":[[0.0,\"#0d0887\"],[0.1111111111111111,\"#46039f\"],[0.2222222222222222,\"#7201a8\"],[0.3333333333333333,\"#9c179e\"],[0.4444444444444444,\"#bd3786\"],[0.5555555555555556,\"#d8576b\"],[0.6666666666666666,\"#ed7953\"],[0.7777777777777778,\"#fb9f3a\"],[0.8888888888888888,\"#fdca26\"],[1.0,\"#f0f921\"]],\"diverging\":[[0,\"#8e0152\"],[0.1,\"#c51b7d\"],[0.2,\"#de77ae\"],[0.3,\"#f1b6da\"],[0.4,\"#fde0ef\"],[0.5,\"#f7f7f7\"],[0.6,\"#e6f5d0\"],[0.7,\"#b8e186\"],[0.8,\"#7fbc41\"],[0.9,\"#4d9221\"],[1,\"#276419\"]]},\"xaxis\":{\"gridcolor\":\"white\",\"linecolor\":\"white\",\"ticks\":\"\",\"title\":{\"standoff\":15},\"zerolinecolor\":\"white\",\"automargin\":true,\"zerolinewidth\":2},\"yaxis\":{\"gridcolor\":\"white\",\"linecolor\":\"white\",\"ticks\":\"\",\"title\":{\"standoff\":15},\"zerolinecolor\":\"white\",\"automargin\":true,\"zerolinewidth\":2},\"scene\":{\"xaxis\":{\"backgroundcolor\":\"#E5ECF6\",\"gridcolor\":\"white\",\"linecolor\":\"white\",\"showbackground\":true,\"ticks\":\"\",\"zerolinecolor\":\"white\",\"gridwidth\":2},\"yaxis\":{\"backgroundcolor\":\"#E5ECF6\",\"gridcolor\":\"white\",\"linecolor\":\"white\",\"showbackground\":true,\"ticks\":\"\",\"zerolinecolor\":\"white\",\"gridwidth\":2},\"zaxis\":{\"backgroundcolor\":\"#E5ECF6\",\"gridcolor\":\"white\",\"linecolor\":\"white\",\"showbackground\":true,\"ticks\":\"\",\"zerolinecolor\":\"white\",\"gridwidth\":2}},\"shapedefaults\":{\"line\":{\"color\":\"#2a3f5f\"}},\"annotationdefaults\":{\"arrowcolor\":\"#2a3f5f\",\"arrowhead\":0,\"arrowwidth\":1},\"geo\":{\"bgcolor\":\"white\",\"landcolor\":\"#E5ECF6\",\"subunitcolor\":\"white\",\"showland\":true,\"showlakes\":true,\"lakecolor\":\"white\"},\"title\":{\"x\":0.05},\"mapbox\":{\"style\":\"light\"}}},\"xaxis\":{\"anchor\":\"y\",\"domain\":[0.0,1.0],\"title\":{\"text\":\"Date\"}},\"yaxis\":{\"anchor\":\"x\",\"domain\":[0.0,1.0],\"title\":{\"text\":\"value\"}},\"legend\":{\"title\":{\"text\":\"variable\"},\"tracegroupgap\":0},\"margin\":{\"t\":60}},                        {\"responsive\": true}                    ).then(function(){\n",
              "                            \n",
              "var gd = document.getElementById('809f3107-97cb-4312-bcc9-13d318dfd5b0');\n",
              "var x = new MutationObserver(function (mutations, observer) {{\n",
              "        var display = window.getComputedStyle(gd).display;\n",
              "        if (!display || display === 'none') {{\n",
              "            console.log([gd, 'removed!']);\n",
              "            Plotly.purge(gd);\n",
              "            observer.disconnect();\n",
              "        }}\n",
              "}});\n",
              "\n",
              "// Listen for the removal of the full notebook cells\n",
              "var notebookContainer = gd.closest('#notebook-container');\n",
              "if (notebookContainer) {{\n",
              "    x.observe(notebookContainer, {childList: true});\n",
              "}}\n",
              "\n",
              "// Listen for the clearing of the current output cell\n",
              "var outputEl = gd.closest('.output');\n",
              "if (outputEl) {{\n",
              "    x.observe(outputEl, {childList: true});\n",
              "}}\n",
              "\n",
              "                        })                };                });            </script>        </div>"
            ]
          },
          "metadata": {}
        }
      ]
    },
    {
      "cell_type": "markdown",
      "source": [
        "#### Sortino Ratio\n",
        "\n",
        "- The Sortino ratio is a variation of the Sharpe ratio that differentiates harmful volatility from total overall volatility by using the asset's standard deviation of negative portfolio returns—downside deviation—instead of the total standard deviation of portfolio returns.\n",
        "- The Sortino ratio takes an asset or portfolio's return and subtracts the risk-free rate, and then divides that amount by the asset's downside deviation.\n",
        "\n",
        "![](https://www.wallstreetmojo.com/wp-content/uploads/2022/08/Sortino-Ratio-Formula.jpg.webp)\n"
      ],
      "metadata": {
        "id": "w8Oumw1VSpU0"
      }
    },
    {
      "cell_type": "code",
      "source": [
        "sortino_std = log_returns[log_returns<0].rolling(window=TRADING_DAYS, center=True, min_periods=1).std()*np.sqrt(TRADING_DAYS)\n",
        "sortino_ratio = (log_returns.rolling(window=TRADING_DAYS).mean()-Rf)*TRADING_DAYS/ sortino_std\n",
        "\n",
        "#sortino_std.plot()\n",
        "\n",
        "sortino_ratio.plot(kind='bar')"
      ],
      "metadata": {
        "execution": {
          "iopub.status.busy": "2023-10-22T14:07:14.152252Z",
          "iopub.execute_input": "2023-10-22T14:07:14.152695Z",
          "iopub.status.idle": "2023-10-22T14:07:14.269012Z",
          "shell.execute_reply.started": "2023-10-22T14:07:14.15266Z",
          "shell.execute_reply": "2023-10-22T14:07:14.267861Z"
        },
        "trusted": true,
        "id": "8IZ1WMjKSpU0",
        "colab": {
          "base_uri": "https://localhost:8080/",
          "height": 542
        },
        "outputId": "f2430b48-a3b7-4d5c-89d0-83343dc8de33"
      },
      "execution_count": 9,
      "outputs": [
        {
          "output_type": "display_data",
          "data": {
            "application/vnd.plotly.v1+json": {
              "data": [
                {
                  "alignmentgroup": "True",
                  "hovertemplate": "variable=Close<br>Date=%{x}<br>value=%{y}<extra></extra>",
                  "legendgroup": "Close",
                  "marker": {
                    "color": "#636efa",
                    "pattern": {
                      "shape": ""
                    }
                  },
                  "name": "Close",
                  "offsetgroup": "Close",
                  "orientation": "v",
                  "showlegend": true,
                  "textposition": "auto",
                  "x": [
                    "2023-01-04T00:00:00",
                    "2023-01-05T00:00:00",
                    "2023-01-06T00:00:00",
                    "2023-01-09T00:00:00",
                    "2023-01-10T00:00:00",
                    "2023-01-11T00:00:00",
                    "2023-01-12T00:00:00",
                    "2023-01-13T00:00:00",
                    "2023-01-17T00:00:00",
                    "2023-01-18T00:00:00",
                    "2023-01-19T00:00:00",
                    "2023-01-20T00:00:00",
                    "2023-01-23T00:00:00",
                    "2023-01-24T00:00:00",
                    "2023-01-25T00:00:00",
                    "2023-01-26T00:00:00",
                    "2023-01-27T00:00:00",
                    "2023-01-30T00:00:00",
                    "2023-01-31T00:00:00",
                    "2023-02-01T00:00:00",
                    "2023-02-02T00:00:00",
                    "2023-02-03T00:00:00",
                    "2023-02-06T00:00:00",
                    "2023-02-07T00:00:00",
                    "2023-02-08T00:00:00",
                    "2023-02-09T00:00:00",
                    "2023-02-10T00:00:00",
                    "2023-02-13T00:00:00",
                    "2023-02-14T00:00:00",
                    "2023-02-15T00:00:00",
                    "2023-02-16T00:00:00",
                    "2023-02-17T00:00:00",
                    "2023-02-21T00:00:00",
                    "2023-02-22T00:00:00",
                    "2023-02-23T00:00:00",
                    "2023-02-24T00:00:00",
                    "2023-02-27T00:00:00",
                    "2023-02-28T00:00:00",
                    "2023-03-01T00:00:00",
                    "2023-03-02T00:00:00",
                    "2023-03-03T00:00:00",
                    "2023-03-06T00:00:00",
                    "2023-03-07T00:00:00",
                    "2023-03-08T00:00:00",
                    "2023-03-09T00:00:00",
                    "2023-03-10T00:00:00",
                    "2023-03-13T00:00:00",
                    "2023-03-14T00:00:00",
                    "2023-03-15T00:00:00",
                    "2023-03-16T00:00:00",
                    "2023-03-17T00:00:00",
                    "2023-03-20T00:00:00",
                    "2023-03-21T00:00:00",
                    "2023-03-22T00:00:00",
                    "2023-03-23T00:00:00",
                    "2023-03-24T00:00:00",
                    "2023-03-27T00:00:00",
                    "2023-03-28T00:00:00",
                    "2023-03-29T00:00:00",
                    "2023-03-30T00:00:00",
                    "2023-03-31T00:00:00",
                    "2023-04-03T00:00:00",
                    "2023-04-04T00:00:00",
                    "2023-04-05T00:00:00",
                    "2023-04-06T00:00:00",
                    "2023-04-10T00:00:00",
                    "2023-04-11T00:00:00",
                    "2023-04-12T00:00:00",
                    "2023-04-13T00:00:00",
                    "2023-04-14T00:00:00",
                    "2023-04-17T00:00:00",
                    "2023-04-18T00:00:00",
                    "2023-04-19T00:00:00",
                    "2023-04-20T00:00:00",
                    "2023-04-21T00:00:00",
                    "2023-04-24T00:00:00",
                    "2023-04-25T00:00:00",
                    "2023-04-26T00:00:00",
                    "2023-04-27T00:00:00",
                    "2023-04-28T00:00:00",
                    "2023-05-01T00:00:00",
                    "2023-05-02T00:00:00",
                    "2023-05-03T00:00:00",
                    "2023-05-04T00:00:00",
                    "2023-05-05T00:00:00",
                    "2023-05-08T00:00:00",
                    "2023-05-09T00:00:00",
                    "2023-05-10T00:00:00",
                    "2023-05-11T00:00:00",
                    "2023-05-12T00:00:00",
                    "2023-05-15T00:00:00",
                    "2023-05-16T00:00:00",
                    "2023-05-17T00:00:00",
                    "2023-05-18T00:00:00",
                    "2023-05-19T00:00:00",
                    "2023-05-22T00:00:00",
                    "2023-05-23T00:00:00",
                    "2023-05-24T00:00:00",
                    "2023-05-25T00:00:00",
                    "2023-05-26T00:00:00",
                    "2023-05-30T00:00:00",
                    "2023-05-31T00:00:00",
                    "2023-06-01T00:00:00",
                    "2023-06-02T00:00:00",
                    "2023-06-05T00:00:00",
                    "2023-06-06T00:00:00",
                    "2023-06-07T00:00:00",
                    "2023-06-08T00:00:00",
                    "2023-06-09T00:00:00",
                    "2023-06-12T00:00:00",
                    "2023-06-13T00:00:00",
                    "2023-06-14T00:00:00",
                    "2023-06-15T00:00:00",
                    "2023-06-16T00:00:00",
                    "2023-06-20T00:00:00",
                    "2023-06-21T00:00:00",
                    "2023-06-22T00:00:00",
                    "2023-06-23T00:00:00",
                    "2023-06-26T00:00:00",
                    "2023-06-27T00:00:00",
                    "2023-06-28T00:00:00",
                    "2023-06-29T00:00:00",
                    "2023-06-30T00:00:00",
                    "2023-07-03T00:00:00",
                    "2023-07-05T00:00:00",
                    "2023-07-06T00:00:00",
                    "2023-07-07T00:00:00",
                    "2023-07-10T00:00:00",
                    "2023-07-11T00:00:00",
                    "2023-07-12T00:00:00",
                    "2023-07-13T00:00:00",
                    "2023-07-14T00:00:00",
                    "2023-07-17T00:00:00",
                    "2023-07-18T00:00:00",
                    "2023-07-19T00:00:00",
                    "2023-07-20T00:00:00",
                    "2023-07-21T00:00:00",
                    "2023-07-24T00:00:00",
                    "2023-07-25T00:00:00",
                    "2023-07-26T00:00:00",
                    "2023-07-27T00:00:00",
                    "2023-07-28T00:00:00",
                    "2023-07-31T00:00:00",
                    "2023-08-01T00:00:00",
                    "2023-08-02T00:00:00",
                    "2023-08-03T00:00:00",
                    "2023-08-04T00:00:00",
                    "2023-08-07T00:00:00",
                    "2023-08-08T00:00:00",
                    "2023-08-09T00:00:00",
                    "2023-08-10T00:00:00",
                    "2023-08-11T00:00:00",
                    "2023-08-14T00:00:00",
                    "2023-08-15T00:00:00",
                    "2023-08-16T00:00:00",
                    "2023-08-17T00:00:00",
                    "2023-08-18T00:00:00",
                    "2023-08-21T00:00:00",
                    "2023-08-22T00:00:00",
                    "2023-08-23T00:00:00",
                    "2023-08-24T00:00:00",
                    "2023-08-25T00:00:00",
                    "2023-08-28T00:00:00",
                    "2023-08-29T00:00:00",
                    "2023-08-30T00:00:00",
                    "2023-08-31T00:00:00",
                    "2023-09-01T00:00:00",
                    "2023-09-05T00:00:00",
                    "2023-09-06T00:00:00",
                    "2023-09-07T00:00:00",
                    "2023-09-08T00:00:00",
                    "2023-09-11T00:00:00",
                    "2023-09-12T00:00:00",
                    "2023-09-13T00:00:00",
                    "2023-09-14T00:00:00",
                    "2023-09-15T00:00:00",
                    "2023-09-18T00:00:00",
                    "2023-09-19T00:00:00",
                    "2023-09-20T00:00:00",
                    "2023-09-21T00:00:00",
                    "2023-09-22T00:00:00",
                    "2023-09-25T00:00:00",
                    "2023-09-26T00:00:00",
                    "2023-09-27T00:00:00",
                    "2023-09-28T00:00:00",
                    "2023-09-29T00:00:00",
                    "2023-10-02T00:00:00",
                    "2023-10-03T00:00:00",
                    "2023-10-04T00:00:00",
                    "2023-10-05T00:00:00",
                    "2023-10-06T00:00:00",
                    "2023-10-09T00:00:00",
                    "2023-10-10T00:00:00",
                    "2023-10-11T00:00:00",
                    "2023-10-12T00:00:00",
                    "2023-10-13T00:00:00",
                    "2023-10-16T00:00:00",
                    "2023-10-17T00:00:00",
                    "2023-10-18T00:00:00",
                    "2023-10-19T00:00:00",
                    "2023-10-20T00:00:00",
                    "2023-10-23T00:00:00",
                    "2023-10-24T00:00:00",
                    "2023-10-25T00:00:00",
                    "2023-10-26T00:00:00",
                    "2023-10-27T00:00:00",
                    "2023-10-30T00:00:00",
                    "2023-10-31T00:00:00",
                    "2023-11-01T00:00:00",
                    "2023-11-02T00:00:00",
                    "2023-11-03T00:00:00",
                    "2023-11-06T00:00:00",
                    "2023-11-07T00:00:00",
                    "2023-11-08T00:00:00",
                    "2023-11-09T00:00:00",
                    "2023-11-10T00:00:00",
                    "2023-11-13T00:00:00",
                    "2023-11-14T00:00:00",
                    "2023-11-15T00:00:00",
                    "2023-11-16T00:00:00",
                    "2023-11-17T00:00:00",
                    "2023-11-20T00:00:00",
                    "2023-11-21T00:00:00",
                    "2023-11-22T00:00:00",
                    "2023-11-24T00:00:00",
                    "2023-11-27T00:00:00",
                    "2023-11-28T00:00:00",
                    "2023-11-29T00:00:00",
                    "2023-11-30T00:00:00",
                    "2023-12-01T00:00:00",
                    "2023-12-04T00:00:00",
                    "2023-12-05T00:00:00",
                    "2023-12-06T00:00:00",
                    "2023-12-07T00:00:00",
                    "2023-12-08T00:00:00",
                    "2023-12-11T00:00:00",
                    "2023-12-12T00:00:00",
                    "2023-12-13T00:00:00",
                    "2023-12-14T00:00:00",
                    "2023-12-15T00:00:00",
                    "2023-12-18T00:00:00",
                    "2023-12-19T00:00:00",
                    "2023-12-20T00:00:00",
                    "2023-12-21T00:00:00",
                    "2023-12-22T00:00:00",
                    "2023-12-26T00:00:00",
                    "2023-12-27T00:00:00",
                    "2023-12-28T00:00:00",
                    "2023-12-29T00:00:00",
                    "2024-01-02T00:00:00",
                    "2024-01-03T00:00:00",
                    "2024-01-04T00:00:00",
                    "2024-01-05T00:00:00",
                    "2024-01-08T00:00:00",
                    "2024-01-09T00:00:00",
                    "2024-01-10T00:00:00",
                    "2024-01-11T00:00:00",
                    "2024-01-12T00:00:00",
                    "2024-01-16T00:00:00",
                    "2024-01-17T00:00:00",
                    "2024-01-18T00:00:00",
                    "2024-01-19T00:00:00",
                    "2024-01-22T00:00:00",
                    "2024-01-23T00:00:00",
                    "2024-01-24T00:00:00",
                    "2024-01-25T00:00:00",
                    "2024-01-26T00:00:00",
                    "2024-01-29T00:00:00",
                    "2024-01-30T00:00:00",
                    "2024-01-31T00:00:00",
                    "2024-02-01T00:00:00",
                    "2024-02-02T00:00:00",
                    "2024-02-05T00:00:00",
                    "2024-02-06T00:00:00",
                    "2024-02-07T00:00:00",
                    "2024-02-08T00:00:00",
                    "2024-02-09T00:00:00",
                    "2024-02-12T00:00:00",
                    "2024-02-13T00:00:00",
                    "2024-02-14T00:00:00",
                    "2024-02-15T00:00:00",
                    "2024-02-16T00:00:00",
                    "2024-02-20T00:00:00",
                    "2024-02-21T00:00:00",
                    "2024-02-22T00:00:00",
                    "2024-02-23T00:00:00",
                    "2024-02-26T00:00:00",
                    "2024-02-27T00:00:00",
                    "2024-02-28T00:00:00",
                    "2024-02-29T00:00:00",
                    "2024-03-01T00:00:00",
                    "2024-03-04T00:00:00",
                    "2024-03-05T00:00:00",
                    "2024-03-06T00:00:00",
                    "2024-03-07T00:00:00",
                    "2024-03-08T00:00:00",
                    "2024-03-11T00:00:00",
                    "2024-03-12T00:00:00",
                    "2024-03-13T00:00:00",
                    "2024-03-14T00:00:00",
                    "2024-03-15T00:00:00",
                    "2024-03-18T00:00:00",
                    "2024-03-19T00:00:00",
                    "2024-03-20T00:00:00",
                    "2024-03-21T00:00:00",
                    "2024-03-22T00:00:00",
                    "2024-03-25T00:00:00",
                    "2024-03-26T00:00:00",
                    "2024-03-27T00:00:00",
                    "2024-03-28T00:00:00",
                    "2024-04-01T00:00:00",
                    "2024-04-02T00:00:00",
                    "2024-04-03T00:00:00",
                    "2024-04-04T00:00:00",
                    "2024-04-05T00:00:00",
                    "2024-04-08T00:00:00",
                    "2024-04-09T00:00:00",
                    "2024-04-10T00:00:00",
                    "2024-04-11T00:00:00",
                    "2024-04-12T00:00:00",
                    "2024-04-15T00:00:00",
                    "2024-04-16T00:00:00",
                    "2024-04-17T00:00:00",
                    "2024-04-18T00:00:00",
                    "2024-04-19T00:00:00",
                    "2024-04-22T00:00:00",
                    "2024-04-23T00:00:00",
                    "2024-04-24T00:00:00",
                    "2024-04-25T00:00:00",
                    "2024-04-26T00:00:00",
                    "2024-04-29T00:00:00",
                    "2024-04-30T00:00:00",
                    "2024-05-01T00:00:00",
                    "2024-05-02T00:00:00",
                    "2024-05-03T00:00:00",
                    "2024-05-06T00:00:00",
                    "2024-05-07T00:00:00",
                    "2024-05-08T00:00:00",
                    "2024-05-09T00:00:00",
                    "2024-05-10T00:00:00",
                    "2024-05-13T00:00:00",
                    "2024-05-14T00:00:00",
                    "2024-05-15T00:00:00",
                    "2024-05-16T00:00:00",
                    "2024-05-17T00:00:00",
                    "2024-05-20T00:00:00",
                    "2024-05-21T00:00:00",
                    "2024-05-22T00:00:00",
                    "2024-05-23T00:00:00",
                    "2024-05-24T00:00:00",
                    "2024-05-28T00:00:00",
                    "2024-05-29T00:00:00",
                    "2024-05-30T00:00:00",
                    "2024-05-31T00:00:00",
                    "2024-06-03T00:00:00",
                    "2024-06-04T00:00:00",
                    "2024-06-05T00:00:00",
                    "2024-06-06T00:00:00",
                    "2024-06-07T00:00:00",
                    "2024-06-10T00:00:00",
                    "2024-06-11T00:00:00",
                    "2024-06-12T00:00:00",
                    "2024-06-13T00:00:00",
                    "2024-06-14T00:00:00"
                  ],
                  "xaxis": "x",
                  "y": [
                    null,
                    null,
                    null,
                    null,
                    null,
                    null,
                    null,
                    null,
                    1.054686966465511,
                    -0.527982367463574,
                    -1.8886580570455058,
                    null,
                    null,
                    -0.30891634610118524,
                    null,
                    null,
                    null,
                    -1.012414158275195,
                    null,
                    null,
                    null,
                    0.5994004013554031,
                    2.2969261759724415,
                    null,
                    -1.0690726144050897,
                    -2.937432124670005,
                    null,
                    null,
                    -1.2749600524596856,
                    null,
                    -0.388567185720306,
                    -0.6001216003854689,
                    -2.4750959053842627,
                    -2.532075013123461,
                    null,
                    -2.297072313603397,
                    null,
                    -1.3042851010499616,
                    -1.3017133860175318,
                    null,
                    null,
                    null,
                    -0.31678889158450024,
                    null,
                    -1.5138956268941386,
                    -3.524258156039458,
                    -3.647599422006979,
                    null,
                    -2.261714170753139,
                    null,
                    0.03119362034942184,
                    null,
                    null,
                    -0.18665855322293343,
                    null,
                    null,
                    null,
                    -1.137597859070009,
                    null,
                    null,
                    null,
                    null,
                    1.6216599682684345,
                    1.7248207503620414,
                    null,
                    null,
                    null,
                    -2.558835727124917,
                    null,
                    -0.45994916223214627,
                    null,
                    null,
                    0.35166948207601223,
                    -1.0134953549175576,
                    null,
                    null,
                    -2.106453794416156,
                    -2.5310302274073555,
                    null,
                    null,
                    -0.23092521540676397,
                    0.19412494072079187,
                    -0.11668836221933555,
                    -3.5037628524758513,
                    null,
                    null,
                    -1.5959248035964766,
                    null,
                    1.181783777629318,
                    -2.366316408450375,
                    null,
                    -1.180937663970259,
                    null,
                    null,
                    0.731544812554025,
                    null,
                    -0.08656630214796422,
                    -2.207449008792977,
                    null,
                    null,
                    null,
                    -0.11826833223510821,
                    null,
                    null,
                    1.2864732554129887,
                    null,
                    2.364145640079113,
                    null,
                    null,
                    null,
                    null,
                    null,
                    null,
                    2.726798431447898,
                    -0.5996426314871343,
                    -4.242633328574702,
                    null,
                    -6.373895276068953,
                    -4.821898637026834,
                    null,
                    null,
                    null,
                    null,
                    null,
                    0.8979000242050532,
                    -0.397789865852137,
                    -1.2459574268596167,
                    null,
                    null,
                    null,
                    null,
                    2.034039197748152,
                    null,
                    null,
                    null,
                    -0.6974713237797026,
                    null,
                    null,
                    null,
                    null,
                    -0.8185346100081455,
                    null,
                    null,
                    -0.7589772636474911,
                    -2.108440105286787,
                    -1.723419419322717,
                    -3.2776054739543667,
                    null,
                    -5.34735129527399,
                    -2.169406721001424,
                    null,
                    -1.3769703417121961,
                    null,
                    -2.5901454442212604,
                    -2.419536925397398,
                    -3.275158077034177,
                    null,
                    null,
                    -1.8826194985180542,
                    null,
                    -0.7708141675456935,
                    null,
                    null,
                    null,
                    null,
                    1.839064952300844,
                    null,
                    0.4140586898523575,
                    -3.6010046224520034,
                    -2.1296143724292196,
                    null,
                    null,
                    -1.4341023273644589,
                    null,
                    null,
                    -1.2037898322001976,
                    null,
                    -1.2300484695208023,
                    -1.7736518444374079,
                    -3.478493429602948,
                    -2.6344089254857948,
                    null,
                    -2.8101207758292412,
                    null,
                    null,
                    -1.0957221221320337,
                    -1.3280718456760514,
                    -1.6344392867835151,
                    null,
                    -1.6158244802834578,
                    null,
                    null,
                    null,
                    null,
                    0.9304713202029751,
                    -0.44859522946701974,
                    null,
                    -0.5989656359896316,
                    -1.9571641946149836,
                    -1.9649894871151206,
                    -2.960256089557644,
                    -4.164082964528971,
                    null,
                    -3.215160173391597,
                    -3.687925463104281,
                    -2.883557638573108,
                    null,
                    null,
                    null,
                    null,
                    null,
                    null,
                    null,
                    null,
                    -0.2859590563748665,
                    null,
                    0.0443050819416492,
                    null,
                    null,
                    null,
                    null,
                    null,
                    0.010146796062074814,
                    null,
                    null,
                    -0.4526063015440025,
                    null,
                    -1.593659450060467,
                    null,
                    null,
                    -1.0574593487888142,
                    -1.1023679254227527,
                    -0.8594184237016071,
                    null,
                    null,
                    null,
                    null,
                    null,
                    null,
                    0.8284514258133808,
                    null,
                    null,
                    -1.5154781702250488,
                    null,
                    null,
                    null,
                    null,
                    null,
                    -0.4808141711422044,
                    -1.1925678429581312,
                    -4.16178781963755,
                    -4.208621794374315,
                    null,
                    null,
                    -1.1118487175585685,
                    null,
                    2.0743378114328133,
                    null,
                    -1.9864993620716926,
                    -2.7095255821249524,
                    null,
                    null,
                    null,
                    null,
                    null,
                    null,
                    0.018877117740267377,
                    null,
                    0.16503134196685423,
                    -1.000221555350086,
                    null,
                    null,
                    -0.43672067135238574,
                    null,
                    null,
                    null,
                    null,
                    0.45115063541002093,
                    -0.8800720598173031,
                    null,
                    null,
                    -1.2021728133855545,
                    -1.7365362650481557,
                    null,
                    null,
                    null,
                    0.6304763213373421,
                    null,
                    0.9768859246531948,
                    null,
                    null,
                    0.2872184523049831,
                    -1.0457421251022463,
                    null,
                    null,
                    -1.354987254962562,
                    -1.3799334378562609,
                    null,
                    0.24612588985850944,
                    -1.1480198771628158,
                    -1.712483778169069,
                    null,
                    null,
                    null,
                    null,
                    1.5258666194456176,
                    0.394651719735041,
                    -1.9220752911506955,
                    null,
                    -1.6113388431908602,
                    -0.7417118439400431,
                    -1.0152500687933406,
                    null,
                    -2.701165467510925,
                    null,
                    null,
                    null,
                    -3.0658408669876005,
                    null,
                    -2.2820395814912846,
                    -3.40792680997774,
                    -3.1943725474449765,
                    -3.586775054755338,
                    -6.0305096313253586,
                    -5.653239728305085,
                    null,
                    null,
                    -0.02404059798218659,
                    -0.15275012899686533,
                    null,
                    null,
                    -1.2464280498265436,
                    -1.5379084906894627,
                    null,
                    null,
                    null,
                    null,
                    null,
                    null,
                    null,
                    null,
                    null,
                    null,
                    0.4836025290675697,
                    null,
                    null,
                    null,
                    -1.7890278392380679,
                    -2.7027105958736724,
                    null,
                    null,
                    -2.7749513141205138,
                    -3.0034664300772356,
                    null,
                    null,
                    null,
                    null,
                    1.5765425743718888,
                    0.31761812841170567,
                    null,
                    null,
                    null,
                    null,
                    null
                  ],
                  "yaxis": "y",
                  "type": "bar"
                }
              ],
              "layout": {
                "template": {
                  "data": {
                    "histogram2dcontour": [
                      {
                        "type": "histogram2dcontour",
                        "colorbar": {
                          "outlinewidth": 0,
                          "ticks": ""
                        },
                        "colorscale": [
                          [
                            0,
                            "#0d0887"
                          ],
                          [
                            0.1111111111111111,
                            "#46039f"
                          ],
                          [
                            0.2222222222222222,
                            "#7201a8"
                          ],
                          [
                            0.3333333333333333,
                            "#9c179e"
                          ],
                          [
                            0.4444444444444444,
                            "#bd3786"
                          ],
                          [
                            0.5555555555555556,
                            "#d8576b"
                          ],
                          [
                            0.6666666666666666,
                            "#ed7953"
                          ],
                          [
                            0.7777777777777778,
                            "#fb9f3a"
                          ],
                          [
                            0.8888888888888888,
                            "#fdca26"
                          ],
                          [
                            1,
                            "#f0f921"
                          ]
                        ]
                      }
                    ],
                    "choropleth": [
                      {
                        "type": "choropleth",
                        "colorbar": {
                          "outlinewidth": 0,
                          "ticks": ""
                        }
                      }
                    ],
                    "histogram2d": [
                      {
                        "type": "histogram2d",
                        "colorbar": {
                          "outlinewidth": 0,
                          "ticks": ""
                        },
                        "colorscale": [
                          [
                            0,
                            "#0d0887"
                          ],
                          [
                            0.1111111111111111,
                            "#46039f"
                          ],
                          [
                            0.2222222222222222,
                            "#7201a8"
                          ],
                          [
                            0.3333333333333333,
                            "#9c179e"
                          ],
                          [
                            0.4444444444444444,
                            "#bd3786"
                          ],
                          [
                            0.5555555555555556,
                            "#d8576b"
                          ],
                          [
                            0.6666666666666666,
                            "#ed7953"
                          ],
                          [
                            0.7777777777777778,
                            "#fb9f3a"
                          ],
                          [
                            0.8888888888888888,
                            "#fdca26"
                          ],
                          [
                            1,
                            "#f0f921"
                          ]
                        ]
                      }
                    ],
                    "heatmap": [
                      {
                        "type": "heatmap",
                        "colorbar": {
                          "outlinewidth": 0,
                          "ticks": ""
                        },
                        "colorscale": [
                          [
                            0,
                            "#0d0887"
                          ],
                          [
                            0.1111111111111111,
                            "#46039f"
                          ],
                          [
                            0.2222222222222222,
                            "#7201a8"
                          ],
                          [
                            0.3333333333333333,
                            "#9c179e"
                          ],
                          [
                            0.4444444444444444,
                            "#bd3786"
                          ],
                          [
                            0.5555555555555556,
                            "#d8576b"
                          ],
                          [
                            0.6666666666666666,
                            "#ed7953"
                          ],
                          [
                            0.7777777777777778,
                            "#fb9f3a"
                          ],
                          [
                            0.8888888888888888,
                            "#fdca26"
                          ],
                          [
                            1,
                            "#f0f921"
                          ]
                        ]
                      }
                    ],
                    "heatmapgl": [
                      {
                        "type": "heatmapgl",
                        "colorbar": {
                          "outlinewidth": 0,
                          "ticks": ""
                        },
                        "colorscale": [
                          [
                            0,
                            "#0d0887"
                          ],
                          [
                            0.1111111111111111,
                            "#46039f"
                          ],
                          [
                            0.2222222222222222,
                            "#7201a8"
                          ],
                          [
                            0.3333333333333333,
                            "#9c179e"
                          ],
                          [
                            0.4444444444444444,
                            "#bd3786"
                          ],
                          [
                            0.5555555555555556,
                            "#d8576b"
                          ],
                          [
                            0.6666666666666666,
                            "#ed7953"
                          ],
                          [
                            0.7777777777777778,
                            "#fb9f3a"
                          ],
                          [
                            0.8888888888888888,
                            "#fdca26"
                          ],
                          [
                            1,
                            "#f0f921"
                          ]
                        ]
                      }
                    ],
                    "contourcarpet": [
                      {
                        "type": "contourcarpet",
                        "colorbar": {
                          "outlinewidth": 0,
                          "ticks": ""
                        }
                      }
                    ],
                    "contour": [
                      {
                        "type": "contour",
                        "colorbar": {
                          "outlinewidth": 0,
                          "ticks": ""
                        },
                        "colorscale": [
                          [
                            0,
                            "#0d0887"
                          ],
                          [
                            0.1111111111111111,
                            "#46039f"
                          ],
                          [
                            0.2222222222222222,
                            "#7201a8"
                          ],
                          [
                            0.3333333333333333,
                            "#9c179e"
                          ],
                          [
                            0.4444444444444444,
                            "#bd3786"
                          ],
                          [
                            0.5555555555555556,
                            "#d8576b"
                          ],
                          [
                            0.6666666666666666,
                            "#ed7953"
                          ],
                          [
                            0.7777777777777778,
                            "#fb9f3a"
                          ],
                          [
                            0.8888888888888888,
                            "#fdca26"
                          ],
                          [
                            1,
                            "#f0f921"
                          ]
                        ]
                      }
                    ],
                    "surface": [
                      {
                        "type": "surface",
                        "colorbar": {
                          "outlinewidth": 0,
                          "ticks": ""
                        },
                        "colorscale": [
                          [
                            0,
                            "#0d0887"
                          ],
                          [
                            0.1111111111111111,
                            "#46039f"
                          ],
                          [
                            0.2222222222222222,
                            "#7201a8"
                          ],
                          [
                            0.3333333333333333,
                            "#9c179e"
                          ],
                          [
                            0.4444444444444444,
                            "#bd3786"
                          ],
                          [
                            0.5555555555555556,
                            "#d8576b"
                          ],
                          [
                            0.6666666666666666,
                            "#ed7953"
                          ],
                          [
                            0.7777777777777778,
                            "#fb9f3a"
                          ],
                          [
                            0.8888888888888888,
                            "#fdca26"
                          ],
                          [
                            1,
                            "#f0f921"
                          ]
                        ]
                      }
                    ],
                    "mesh3d": [
                      {
                        "type": "mesh3d",
                        "colorbar": {
                          "outlinewidth": 0,
                          "ticks": ""
                        }
                      }
                    ],
                    "scatter": [
                      {
                        "fillpattern": {
                          "fillmode": "overlay",
                          "size": 10,
                          "solidity": 0.2
                        },
                        "type": "scatter"
                      }
                    ],
                    "parcoords": [
                      {
                        "type": "parcoords",
                        "line": {
                          "colorbar": {
                            "outlinewidth": 0,
                            "ticks": ""
                          }
                        }
                      }
                    ],
                    "scatterpolargl": [
                      {
                        "type": "scatterpolargl",
                        "marker": {
                          "colorbar": {
                            "outlinewidth": 0,
                            "ticks": ""
                          }
                        }
                      }
                    ],
                    "bar": [
                      {
                        "error_x": {
                          "color": "#2a3f5f"
                        },
                        "error_y": {
                          "color": "#2a3f5f"
                        },
                        "marker": {
                          "line": {
                            "color": "#E5ECF6",
                            "width": 0.5
                          },
                          "pattern": {
                            "fillmode": "overlay",
                            "size": 10,
                            "solidity": 0.2
                          }
                        },
                        "type": "bar"
                      }
                    ],
                    "scattergeo": [
                      {
                        "type": "scattergeo",
                        "marker": {
                          "colorbar": {
                            "outlinewidth": 0,
                            "ticks": ""
                          }
                        }
                      }
                    ],
                    "scatterpolar": [
                      {
                        "type": "scatterpolar",
                        "marker": {
                          "colorbar": {
                            "outlinewidth": 0,
                            "ticks": ""
                          }
                        }
                      }
                    ],
                    "histogram": [
                      {
                        "marker": {
                          "pattern": {
                            "fillmode": "overlay",
                            "size": 10,
                            "solidity": 0.2
                          }
                        },
                        "type": "histogram"
                      }
                    ],
                    "scattergl": [
                      {
                        "type": "scattergl",
                        "marker": {
                          "colorbar": {
                            "outlinewidth": 0,
                            "ticks": ""
                          }
                        }
                      }
                    ],
                    "scatter3d": [
                      {
                        "type": "scatter3d",
                        "line": {
                          "colorbar": {
                            "outlinewidth": 0,
                            "ticks": ""
                          }
                        },
                        "marker": {
                          "colorbar": {
                            "outlinewidth": 0,
                            "ticks": ""
                          }
                        }
                      }
                    ],
                    "scattermapbox": [
                      {
                        "type": "scattermapbox",
                        "marker": {
                          "colorbar": {
                            "outlinewidth": 0,
                            "ticks": ""
                          }
                        }
                      }
                    ],
                    "scatterternary": [
                      {
                        "type": "scatterternary",
                        "marker": {
                          "colorbar": {
                            "outlinewidth": 0,
                            "ticks": ""
                          }
                        }
                      }
                    ],
                    "scattercarpet": [
                      {
                        "type": "scattercarpet",
                        "marker": {
                          "colorbar": {
                            "outlinewidth": 0,
                            "ticks": ""
                          }
                        }
                      }
                    ],
                    "carpet": [
                      {
                        "aaxis": {
                          "endlinecolor": "#2a3f5f",
                          "gridcolor": "white",
                          "linecolor": "white",
                          "minorgridcolor": "white",
                          "startlinecolor": "#2a3f5f"
                        },
                        "baxis": {
                          "endlinecolor": "#2a3f5f",
                          "gridcolor": "white",
                          "linecolor": "white",
                          "minorgridcolor": "white",
                          "startlinecolor": "#2a3f5f"
                        },
                        "type": "carpet"
                      }
                    ],
                    "table": [
                      {
                        "cells": {
                          "fill": {
                            "color": "#EBF0F8"
                          },
                          "line": {
                            "color": "white"
                          }
                        },
                        "header": {
                          "fill": {
                            "color": "#C8D4E3"
                          },
                          "line": {
                            "color": "white"
                          }
                        },
                        "type": "table"
                      }
                    ],
                    "barpolar": [
                      {
                        "marker": {
                          "line": {
                            "color": "#E5ECF6",
                            "width": 0.5
                          },
                          "pattern": {
                            "fillmode": "overlay",
                            "size": 10,
                            "solidity": 0.2
                          }
                        },
                        "type": "barpolar"
                      }
                    ],
                    "pie": [
                      {
                        "automargin": true,
                        "type": "pie"
                      }
                    ]
                  },
                  "layout": {
                    "autotypenumbers": "strict",
                    "colorway": [
                      "#636efa",
                      "#EF553B",
                      "#00cc96",
                      "#ab63fa",
                      "#FFA15A",
                      "#19d3f3",
                      "#FF6692",
                      "#B6E880",
                      "#FF97FF",
                      "#FECB52"
                    ],
                    "font": {
                      "color": "#2a3f5f"
                    },
                    "hovermode": "closest",
                    "hoverlabel": {
                      "align": "left"
                    },
                    "paper_bgcolor": "white",
                    "plot_bgcolor": "#E5ECF6",
                    "polar": {
                      "bgcolor": "#E5ECF6",
                      "angularaxis": {
                        "gridcolor": "white",
                        "linecolor": "white",
                        "ticks": ""
                      },
                      "radialaxis": {
                        "gridcolor": "white",
                        "linecolor": "white",
                        "ticks": ""
                      }
                    },
                    "ternary": {
                      "bgcolor": "#E5ECF6",
                      "aaxis": {
                        "gridcolor": "white",
                        "linecolor": "white",
                        "ticks": ""
                      },
                      "baxis": {
                        "gridcolor": "white",
                        "linecolor": "white",
                        "ticks": ""
                      },
                      "caxis": {
                        "gridcolor": "white",
                        "linecolor": "white",
                        "ticks": ""
                      }
                    },
                    "coloraxis": {
                      "colorbar": {
                        "outlinewidth": 0,
                        "ticks": ""
                      }
                    },
                    "colorscale": {
                      "sequential": [
                        [
                          0,
                          "#0d0887"
                        ],
                        [
                          0.1111111111111111,
                          "#46039f"
                        ],
                        [
                          0.2222222222222222,
                          "#7201a8"
                        ],
                        [
                          0.3333333333333333,
                          "#9c179e"
                        ],
                        [
                          0.4444444444444444,
                          "#bd3786"
                        ],
                        [
                          0.5555555555555556,
                          "#d8576b"
                        ],
                        [
                          0.6666666666666666,
                          "#ed7953"
                        ],
                        [
                          0.7777777777777778,
                          "#fb9f3a"
                        ],
                        [
                          0.8888888888888888,
                          "#fdca26"
                        ],
                        [
                          1,
                          "#f0f921"
                        ]
                      ],
                      "sequentialminus": [
                        [
                          0,
                          "#0d0887"
                        ],
                        [
                          0.1111111111111111,
                          "#46039f"
                        ],
                        [
                          0.2222222222222222,
                          "#7201a8"
                        ],
                        [
                          0.3333333333333333,
                          "#9c179e"
                        ],
                        [
                          0.4444444444444444,
                          "#bd3786"
                        ],
                        [
                          0.5555555555555556,
                          "#d8576b"
                        ],
                        [
                          0.6666666666666666,
                          "#ed7953"
                        ],
                        [
                          0.7777777777777778,
                          "#fb9f3a"
                        ],
                        [
                          0.8888888888888888,
                          "#fdca26"
                        ],
                        [
                          1,
                          "#f0f921"
                        ]
                      ],
                      "diverging": [
                        [
                          0,
                          "#8e0152"
                        ],
                        [
                          0.1,
                          "#c51b7d"
                        ],
                        [
                          0.2,
                          "#de77ae"
                        ],
                        [
                          0.3,
                          "#f1b6da"
                        ],
                        [
                          0.4,
                          "#fde0ef"
                        ],
                        [
                          0.5,
                          "#f7f7f7"
                        ],
                        [
                          0.6,
                          "#e6f5d0"
                        ],
                        [
                          0.7,
                          "#b8e186"
                        ],
                        [
                          0.8,
                          "#7fbc41"
                        ],
                        [
                          0.9,
                          "#4d9221"
                        ],
                        [
                          1,
                          "#276419"
                        ]
                      ]
                    },
                    "xaxis": {
                      "gridcolor": "white",
                      "linecolor": "white",
                      "ticks": "",
                      "title": {
                        "standoff": 15
                      },
                      "zerolinecolor": "white",
                      "automargin": true,
                      "zerolinewidth": 2
                    },
                    "yaxis": {
                      "gridcolor": "white",
                      "linecolor": "white",
                      "ticks": "",
                      "title": {
                        "standoff": 15
                      },
                      "zerolinecolor": "white",
                      "automargin": true,
                      "zerolinewidth": 2
                    },
                    "scene": {
                      "xaxis": {
                        "backgroundcolor": "#E5ECF6",
                        "gridcolor": "white",
                        "linecolor": "white",
                        "showbackground": true,
                        "ticks": "",
                        "zerolinecolor": "white",
                        "gridwidth": 2
                      },
                      "yaxis": {
                        "backgroundcolor": "#E5ECF6",
                        "gridcolor": "white",
                        "linecolor": "white",
                        "showbackground": true,
                        "ticks": "",
                        "zerolinecolor": "white",
                        "gridwidth": 2
                      },
                      "zaxis": {
                        "backgroundcolor": "#E5ECF6",
                        "gridcolor": "white",
                        "linecolor": "white",
                        "showbackground": true,
                        "ticks": "",
                        "zerolinecolor": "white",
                        "gridwidth": 2
                      }
                    },
                    "shapedefaults": {
                      "line": {
                        "color": "#2a3f5f"
                      }
                    },
                    "annotationdefaults": {
                      "arrowcolor": "#2a3f5f",
                      "arrowhead": 0,
                      "arrowwidth": 1
                    },
                    "geo": {
                      "bgcolor": "white",
                      "landcolor": "#E5ECF6",
                      "subunitcolor": "white",
                      "showland": true,
                      "showlakes": true,
                      "lakecolor": "white"
                    },
                    "title": {
                      "x": 0.05
                    },
                    "mapbox": {
                      "style": "light"
                    }
                  }
                },
                "xaxis": {
                  "anchor": "y",
                  "domain": [
                    0,
                    1
                  ],
                  "title": {
                    "text": "Date"
                  }
                },
                "yaxis": {
                  "anchor": "x",
                  "domain": [
                    0,
                    1
                  ],
                  "title": {
                    "text": "value"
                  }
                },
                "legend": {
                  "title": {
                    "text": "variable"
                  },
                  "tracegroupgap": 0
                },
                "margin": {
                  "t": 60
                },
                "barmode": "relative"
              },
              "config": {
                "plotlyServerURL": "https://plot.ly"
              }
            },
            "text/html": [
              "<div>                            <div id=\"646e63ad-54ad-4308-a395-b7bf6f1ee2ec\" class=\"plotly-graph-div\" style=\"height:525px; width:100%;\"></div>            <script type=\"text/javascript\">                require([\"plotly\"], function(Plotly) {                    window.PLOTLYENV=window.PLOTLYENV || {};                                    if (document.getElementById(\"646e63ad-54ad-4308-a395-b7bf6f1ee2ec\")) {                    Plotly.newPlot(                        \"646e63ad-54ad-4308-a395-b7bf6f1ee2ec\",                        [{\"alignmentgroup\":\"True\",\"hovertemplate\":\"variable=Close\\u003cbr\\u003eDate=%{x}\\u003cbr\\u003evalue=%{y}\\u003cextra\\u003e\\u003c\\u002fextra\\u003e\",\"legendgroup\":\"Close\",\"marker\":{\"color\":\"#636efa\",\"pattern\":{\"shape\":\"\"}},\"name\":\"Close\",\"offsetgroup\":\"Close\",\"orientation\":\"v\",\"showlegend\":true,\"textposition\":\"auto\",\"x\":[\"2023-01-04T00:00:00\",\"2023-01-05T00:00:00\",\"2023-01-06T00:00:00\",\"2023-01-09T00:00:00\",\"2023-01-10T00:00:00\",\"2023-01-11T00:00:00\",\"2023-01-12T00:00:00\",\"2023-01-13T00:00:00\",\"2023-01-17T00:00:00\",\"2023-01-18T00:00:00\",\"2023-01-19T00:00:00\",\"2023-01-20T00:00:00\",\"2023-01-23T00:00:00\",\"2023-01-24T00:00:00\",\"2023-01-25T00:00:00\",\"2023-01-26T00:00:00\",\"2023-01-27T00:00:00\",\"2023-01-30T00:00:00\",\"2023-01-31T00:00:00\",\"2023-02-01T00:00:00\",\"2023-02-02T00:00:00\",\"2023-02-03T00:00:00\",\"2023-02-06T00:00:00\",\"2023-02-07T00:00:00\",\"2023-02-08T00:00:00\",\"2023-02-09T00:00:00\",\"2023-02-10T00:00:00\",\"2023-02-13T00:00:00\",\"2023-02-14T00:00:00\",\"2023-02-15T00:00:00\",\"2023-02-16T00:00:00\",\"2023-02-17T00:00:00\",\"2023-02-21T00:00:00\",\"2023-02-22T00:00:00\",\"2023-02-23T00:00:00\",\"2023-02-24T00:00:00\",\"2023-02-27T00:00:00\",\"2023-02-28T00:00:00\",\"2023-03-01T00:00:00\",\"2023-03-02T00:00:00\",\"2023-03-03T00:00:00\",\"2023-03-06T00:00:00\",\"2023-03-07T00:00:00\",\"2023-03-08T00:00:00\",\"2023-03-09T00:00:00\",\"2023-03-10T00:00:00\",\"2023-03-13T00:00:00\",\"2023-03-14T00:00:00\",\"2023-03-15T00:00:00\",\"2023-03-16T00:00:00\",\"2023-03-17T00:00:00\",\"2023-03-20T00:00:00\",\"2023-03-21T00:00:00\",\"2023-03-22T00:00:00\",\"2023-03-23T00:00:00\",\"2023-03-24T00:00:00\",\"2023-03-27T00:00:00\",\"2023-03-28T00:00:00\",\"2023-03-29T00:00:00\",\"2023-03-30T00:00:00\",\"2023-03-31T00:00:00\",\"2023-04-03T00:00:00\",\"2023-04-04T00:00:00\",\"2023-04-05T00:00:00\",\"2023-04-06T00:00:00\",\"2023-04-10T00:00:00\",\"2023-04-11T00:00:00\",\"2023-04-12T00:00:00\",\"2023-04-13T00:00:00\",\"2023-04-14T00:00:00\",\"2023-04-17T00:00:00\",\"2023-04-18T00:00:00\",\"2023-04-19T00:00:00\",\"2023-04-20T00:00:00\",\"2023-04-21T00:00:00\",\"2023-04-24T00:00:00\",\"2023-04-25T00:00:00\",\"2023-04-26T00:00:00\",\"2023-04-27T00:00:00\",\"2023-04-28T00:00:00\",\"2023-05-01T00:00:00\",\"2023-05-02T00:00:00\",\"2023-05-03T00:00:00\",\"2023-05-04T00:00:00\",\"2023-05-05T00:00:00\",\"2023-05-08T00:00:00\",\"2023-05-09T00:00:00\",\"2023-05-10T00:00:00\",\"2023-05-11T00:00:00\",\"2023-05-12T00:00:00\",\"2023-05-15T00:00:00\",\"2023-05-16T00:00:00\",\"2023-05-17T00:00:00\",\"2023-05-18T00:00:00\",\"2023-05-19T00:00:00\",\"2023-05-22T00:00:00\",\"2023-05-23T00:00:00\",\"2023-05-24T00:00:00\",\"2023-05-25T00:00:00\",\"2023-05-26T00:00:00\",\"2023-05-30T00:00:00\",\"2023-05-31T00:00:00\",\"2023-06-01T00:00:00\",\"2023-06-02T00:00:00\",\"2023-06-05T00:00:00\",\"2023-06-06T00:00:00\",\"2023-06-07T00:00:00\",\"2023-06-08T00:00:00\",\"2023-06-09T00:00:00\",\"2023-06-12T00:00:00\",\"2023-06-13T00:00:00\",\"2023-06-14T00:00:00\",\"2023-06-15T00:00:00\",\"2023-06-16T00:00:00\",\"2023-06-20T00:00:00\",\"2023-06-21T00:00:00\",\"2023-06-22T00:00:00\",\"2023-06-23T00:00:00\",\"2023-06-26T00:00:00\",\"2023-06-27T00:00:00\",\"2023-06-28T00:00:00\",\"2023-06-29T00:00:00\",\"2023-06-30T00:00:00\",\"2023-07-03T00:00:00\",\"2023-07-05T00:00:00\",\"2023-07-06T00:00:00\",\"2023-07-07T00:00:00\",\"2023-07-10T00:00:00\",\"2023-07-11T00:00:00\",\"2023-07-12T00:00:00\",\"2023-07-13T00:00:00\",\"2023-07-14T00:00:00\",\"2023-07-17T00:00:00\",\"2023-07-18T00:00:00\",\"2023-07-19T00:00:00\",\"2023-07-20T00:00:00\",\"2023-07-21T00:00:00\",\"2023-07-24T00:00:00\",\"2023-07-25T00:00:00\",\"2023-07-26T00:00:00\",\"2023-07-27T00:00:00\",\"2023-07-28T00:00:00\",\"2023-07-31T00:00:00\",\"2023-08-01T00:00:00\",\"2023-08-02T00:00:00\",\"2023-08-03T00:00:00\",\"2023-08-04T00:00:00\",\"2023-08-07T00:00:00\",\"2023-08-08T00:00:00\",\"2023-08-09T00:00:00\",\"2023-08-10T00:00:00\",\"2023-08-11T00:00:00\",\"2023-08-14T00:00:00\",\"2023-08-15T00:00:00\",\"2023-08-16T00:00:00\",\"2023-08-17T00:00:00\",\"2023-08-18T00:00:00\",\"2023-08-21T00:00:00\",\"2023-08-22T00:00:00\",\"2023-08-23T00:00:00\",\"2023-08-24T00:00:00\",\"2023-08-25T00:00:00\",\"2023-08-28T00:00:00\",\"2023-08-29T00:00:00\",\"2023-08-30T00:00:00\",\"2023-08-31T00:00:00\",\"2023-09-01T00:00:00\",\"2023-09-05T00:00:00\",\"2023-09-06T00:00:00\",\"2023-09-07T00:00:00\",\"2023-09-08T00:00:00\",\"2023-09-11T00:00:00\",\"2023-09-12T00:00:00\",\"2023-09-13T00:00:00\",\"2023-09-14T00:00:00\",\"2023-09-15T00:00:00\",\"2023-09-18T00:00:00\",\"2023-09-19T00:00:00\",\"2023-09-20T00:00:00\",\"2023-09-21T00:00:00\",\"2023-09-22T00:00:00\",\"2023-09-25T00:00:00\",\"2023-09-26T00:00:00\",\"2023-09-27T00:00:00\",\"2023-09-28T00:00:00\",\"2023-09-29T00:00:00\",\"2023-10-02T00:00:00\",\"2023-10-03T00:00:00\",\"2023-10-04T00:00:00\",\"2023-10-05T00:00:00\",\"2023-10-06T00:00:00\",\"2023-10-09T00:00:00\",\"2023-10-10T00:00:00\",\"2023-10-11T00:00:00\",\"2023-10-12T00:00:00\",\"2023-10-13T00:00:00\",\"2023-10-16T00:00:00\",\"2023-10-17T00:00:00\",\"2023-10-18T00:00:00\",\"2023-10-19T00:00:00\",\"2023-10-20T00:00:00\",\"2023-10-23T00:00:00\",\"2023-10-24T00:00:00\",\"2023-10-25T00:00:00\",\"2023-10-26T00:00:00\",\"2023-10-27T00:00:00\",\"2023-10-30T00:00:00\",\"2023-10-31T00:00:00\",\"2023-11-01T00:00:00\",\"2023-11-02T00:00:00\",\"2023-11-03T00:00:00\",\"2023-11-06T00:00:00\",\"2023-11-07T00:00:00\",\"2023-11-08T00:00:00\",\"2023-11-09T00:00:00\",\"2023-11-10T00:00:00\",\"2023-11-13T00:00:00\",\"2023-11-14T00:00:00\",\"2023-11-15T00:00:00\",\"2023-11-16T00:00:00\",\"2023-11-17T00:00:00\",\"2023-11-20T00:00:00\",\"2023-11-21T00:00:00\",\"2023-11-22T00:00:00\",\"2023-11-24T00:00:00\",\"2023-11-27T00:00:00\",\"2023-11-28T00:00:00\",\"2023-11-29T00:00:00\",\"2023-11-30T00:00:00\",\"2023-12-01T00:00:00\",\"2023-12-04T00:00:00\",\"2023-12-05T00:00:00\",\"2023-12-06T00:00:00\",\"2023-12-07T00:00:00\",\"2023-12-08T00:00:00\",\"2023-12-11T00:00:00\",\"2023-12-12T00:00:00\",\"2023-12-13T00:00:00\",\"2023-12-14T00:00:00\",\"2023-12-15T00:00:00\",\"2023-12-18T00:00:00\",\"2023-12-19T00:00:00\",\"2023-12-20T00:00:00\",\"2023-12-21T00:00:00\",\"2023-12-22T00:00:00\",\"2023-12-26T00:00:00\",\"2023-12-27T00:00:00\",\"2023-12-28T00:00:00\",\"2023-12-29T00:00:00\",\"2024-01-02T00:00:00\",\"2024-01-03T00:00:00\",\"2024-01-04T00:00:00\",\"2024-01-05T00:00:00\",\"2024-01-08T00:00:00\",\"2024-01-09T00:00:00\",\"2024-01-10T00:00:00\",\"2024-01-11T00:00:00\",\"2024-01-12T00:00:00\",\"2024-01-16T00:00:00\",\"2024-01-17T00:00:00\",\"2024-01-18T00:00:00\",\"2024-01-19T00:00:00\",\"2024-01-22T00:00:00\",\"2024-01-23T00:00:00\",\"2024-01-24T00:00:00\",\"2024-01-25T00:00:00\",\"2024-01-26T00:00:00\",\"2024-01-29T00:00:00\",\"2024-01-30T00:00:00\",\"2024-01-31T00:00:00\",\"2024-02-01T00:00:00\",\"2024-02-02T00:00:00\",\"2024-02-05T00:00:00\",\"2024-02-06T00:00:00\",\"2024-02-07T00:00:00\",\"2024-02-08T00:00:00\",\"2024-02-09T00:00:00\",\"2024-02-12T00:00:00\",\"2024-02-13T00:00:00\",\"2024-02-14T00:00:00\",\"2024-02-15T00:00:00\",\"2024-02-16T00:00:00\",\"2024-02-20T00:00:00\",\"2024-02-21T00:00:00\",\"2024-02-22T00:00:00\",\"2024-02-23T00:00:00\",\"2024-02-26T00:00:00\",\"2024-02-27T00:00:00\",\"2024-02-28T00:00:00\",\"2024-02-29T00:00:00\",\"2024-03-01T00:00:00\",\"2024-03-04T00:00:00\",\"2024-03-05T00:00:00\",\"2024-03-06T00:00:00\",\"2024-03-07T00:00:00\",\"2024-03-08T00:00:00\",\"2024-03-11T00:00:00\",\"2024-03-12T00:00:00\",\"2024-03-13T00:00:00\",\"2024-03-14T00:00:00\",\"2024-03-15T00:00:00\",\"2024-03-18T00:00:00\",\"2024-03-19T00:00:00\",\"2024-03-20T00:00:00\",\"2024-03-21T00:00:00\",\"2024-03-22T00:00:00\",\"2024-03-25T00:00:00\",\"2024-03-26T00:00:00\",\"2024-03-27T00:00:00\",\"2024-03-28T00:00:00\",\"2024-04-01T00:00:00\",\"2024-04-02T00:00:00\",\"2024-04-03T00:00:00\",\"2024-04-04T00:00:00\",\"2024-04-05T00:00:00\",\"2024-04-08T00:00:00\",\"2024-04-09T00:00:00\",\"2024-04-10T00:00:00\",\"2024-04-11T00:00:00\",\"2024-04-12T00:00:00\",\"2024-04-15T00:00:00\",\"2024-04-16T00:00:00\",\"2024-04-17T00:00:00\",\"2024-04-18T00:00:00\",\"2024-04-19T00:00:00\",\"2024-04-22T00:00:00\",\"2024-04-23T00:00:00\",\"2024-04-24T00:00:00\",\"2024-04-25T00:00:00\",\"2024-04-26T00:00:00\",\"2024-04-29T00:00:00\",\"2024-04-30T00:00:00\",\"2024-05-01T00:00:00\",\"2024-05-02T00:00:00\",\"2024-05-03T00:00:00\",\"2024-05-06T00:00:00\",\"2024-05-07T00:00:00\",\"2024-05-08T00:00:00\",\"2024-05-09T00:00:00\",\"2024-05-10T00:00:00\",\"2024-05-13T00:00:00\",\"2024-05-14T00:00:00\",\"2024-05-15T00:00:00\",\"2024-05-16T00:00:00\",\"2024-05-17T00:00:00\",\"2024-05-20T00:00:00\",\"2024-05-21T00:00:00\",\"2024-05-22T00:00:00\",\"2024-05-23T00:00:00\",\"2024-05-24T00:00:00\",\"2024-05-28T00:00:00\",\"2024-05-29T00:00:00\",\"2024-05-30T00:00:00\",\"2024-05-31T00:00:00\",\"2024-06-03T00:00:00\",\"2024-06-04T00:00:00\",\"2024-06-05T00:00:00\",\"2024-06-06T00:00:00\",\"2024-06-07T00:00:00\",\"2024-06-10T00:00:00\",\"2024-06-11T00:00:00\",\"2024-06-12T00:00:00\",\"2024-06-13T00:00:00\",\"2024-06-14T00:00:00\"],\"xaxis\":\"x\",\"y\":[null,null,null,null,null,null,null,null,1.054686966465511,-0.527982367463574,-1.8886580570455058,null,null,-0.30891634610118524,null,null,null,-1.012414158275195,null,null,null,0.5994004013554031,2.2969261759724415,null,-1.0690726144050897,-2.937432124670005,null,null,-1.2749600524596856,null,-0.388567185720306,-0.6001216003854689,-2.4750959053842627,-2.532075013123461,null,-2.297072313603397,null,-1.3042851010499616,-1.3017133860175318,null,null,null,-0.31678889158450024,null,-1.5138956268941386,-3.524258156039458,-3.647599422006979,null,-2.261714170753139,null,0.03119362034942184,null,null,-0.18665855322293343,null,null,null,-1.137597859070009,null,null,null,null,1.6216599682684345,1.7248207503620414,null,null,null,-2.558835727124917,null,-0.45994916223214627,null,null,0.35166948207601223,-1.0134953549175576,null,null,-2.106453794416156,-2.5310302274073555,null,null,-0.23092521540676397,0.19412494072079187,-0.11668836221933555,-3.5037628524758513,null,null,-1.5959248035964766,null,1.181783777629318,-2.366316408450375,null,-1.180937663970259,null,null,0.731544812554025,null,-0.08656630214796422,-2.207449008792977,null,null,null,-0.11826833223510821,null,null,1.2864732554129887,null,2.364145640079113,null,null,null,null,null,null,2.726798431447898,-0.5996426314871343,-4.242633328574702,null,-6.373895276068953,-4.821898637026834,null,null,null,null,null,0.8979000242050532,-0.397789865852137,-1.2459574268596167,null,null,null,null,2.034039197748152,null,null,null,-0.6974713237797026,null,null,null,null,-0.8185346100081455,null,null,-0.7589772636474911,-2.108440105286787,-1.723419419322717,-3.2776054739543667,null,-5.34735129527399,-2.169406721001424,null,-1.3769703417121961,null,-2.5901454442212604,-2.419536925397398,-3.275158077034177,null,null,-1.8826194985180542,null,-0.7708141675456935,null,null,null,null,1.839064952300844,null,0.4140586898523575,-3.6010046224520034,-2.1296143724292196,null,null,-1.4341023273644589,null,null,-1.2037898322001976,null,-1.2300484695208023,-1.7736518444374079,-3.478493429602948,-2.6344089254857948,null,-2.8101207758292412,null,null,-1.0957221221320337,-1.3280718456760514,-1.6344392867835151,null,-1.6158244802834578,null,null,null,null,0.9304713202029751,-0.44859522946701974,null,-0.5989656359896316,-1.9571641946149836,-1.9649894871151206,-2.960256089557644,-4.164082964528971,null,-3.215160173391597,-3.687925463104281,-2.883557638573108,null,null,null,null,null,null,null,null,-0.2859590563748665,null,0.0443050819416492,null,null,null,null,null,0.010146796062074814,null,null,-0.4526063015440025,null,-1.593659450060467,null,null,-1.0574593487888142,-1.1023679254227527,-0.8594184237016071,null,null,null,null,null,null,0.8284514258133808,null,null,-1.5154781702250488,null,null,null,null,null,-0.4808141711422044,-1.1925678429581312,-4.16178781963755,-4.208621794374315,null,null,-1.1118487175585685,null,2.0743378114328133,null,-1.9864993620716926,-2.7095255821249524,null,null,null,null,null,null,0.018877117740267377,null,0.16503134196685423,-1.000221555350086,null,null,-0.43672067135238574,null,null,null,null,0.45115063541002093,-0.8800720598173031,null,null,-1.2021728133855545,-1.7365362650481557,null,null,null,0.6304763213373421,null,0.9768859246531948,null,null,0.2872184523049831,-1.0457421251022463,null,null,-1.354987254962562,-1.3799334378562609,null,0.24612588985850944,-1.1480198771628158,-1.712483778169069,null,null,null,null,1.5258666194456176,0.394651719735041,-1.9220752911506955,null,-1.6113388431908602,-0.7417118439400431,-1.0152500687933406,null,-2.701165467510925,null,null,null,-3.0658408669876005,null,-2.2820395814912846,-3.40792680997774,-3.1943725474449765,-3.586775054755338,-6.0305096313253586,-5.653239728305085,null,null,-0.02404059798218659,-0.15275012899686533,null,null,-1.2464280498265436,-1.5379084906894627,null,null,null,null,null,null,null,null,null,null,0.4836025290675697,null,null,null,-1.7890278392380679,-2.7027105958736724,null,null,-2.7749513141205138,-3.0034664300772356,null,null,null,null,1.5765425743718888,0.31761812841170567,null,null,null,null,null],\"yaxis\":\"y\",\"type\":\"bar\"}],                        {\"template\":{\"data\":{\"histogram2dcontour\":[{\"type\":\"histogram2dcontour\",\"colorbar\":{\"outlinewidth\":0,\"ticks\":\"\"},\"colorscale\":[[0.0,\"#0d0887\"],[0.1111111111111111,\"#46039f\"],[0.2222222222222222,\"#7201a8\"],[0.3333333333333333,\"#9c179e\"],[0.4444444444444444,\"#bd3786\"],[0.5555555555555556,\"#d8576b\"],[0.6666666666666666,\"#ed7953\"],[0.7777777777777778,\"#fb9f3a\"],[0.8888888888888888,\"#fdca26\"],[1.0,\"#f0f921\"]]}],\"choropleth\":[{\"type\":\"choropleth\",\"colorbar\":{\"outlinewidth\":0,\"ticks\":\"\"}}],\"histogram2d\":[{\"type\":\"histogram2d\",\"colorbar\":{\"outlinewidth\":0,\"ticks\":\"\"},\"colorscale\":[[0.0,\"#0d0887\"],[0.1111111111111111,\"#46039f\"],[0.2222222222222222,\"#7201a8\"],[0.3333333333333333,\"#9c179e\"],[0.4444444444444444,\"#bd3786\"],[0.5555555555555556,\"#d8576b\"],[0.6666666666666666,\"#ed7953\"],[0.7777777777777778,\"#fb9f3a\"],[0.8888888888888888,\"#fdca26\"],[1.0,\"#f0f921\"]]}],\"heatmap\":[{\"type\":\"heatmap\",\"colorbar\":{\"outlinewidth\":0,\"ticks\":\"\"},\"colorscale\":[[0.0,\"#0d0887\"],[0.1111111111111111,\"#46039f\"],[0.2222222222222222,\"#7201a8\"],[0.3333333333333333,\"#9c179e\"],[0.4444444444444444,\"#bd3786\"],[0.5555555555555556,\"#d8576b\"],[0.6666666666666666,\"#ed7953\"],[0.7777777777777778,\"#fb9f3a\"],[0.8888888888888888,\"#fdca26\"],[1.0,\"#f0f921\"]]}],\"heatmapgl\":[{\"type\":\"heatmapgl\",\"colorbar\":{\"outlinewidth\":0,\"ticks\":\"\"},\"colorscale\":[[0.0,\"#0d0887\"],[0.1111111111111111,\"#46039f\"],[0.2222222222222222,\"#7201a8\"],[0.3333333333333333,\"#9c179e\"],[0.4444444444444444,\"#bd3786\"],[0.5555555555555556,\"#d8576b\"],[0.6666666666666666,\"#ed7953\"],[0.7777777777777778,\"#fb9f3a\"],[0.8888888888888888,\"#fdca26\"],[1.0,\"#f0f921\"]]}],\"contourcarpet\":[{\"type\":\"contourcarpet\",\"colorbar\":{\"outlinewidth\":0,\"ticks\":\"\"}}],\"contour\":[{\"type\":\"contour\",\"colorbar\":{\"outlinewidth\":0,\"ticks\":\"\"},\"colorscale\":[[0.0,\"#0d0887\"],[0.1111111111111111,\"#46039f\"],[0.2222222222222222,\"#7201a8\"],[0.3333333333333333,\"#9c179e\"],[0.4444444444444444,\"#bd3786\"],[0.5555555555555556,\"#d8576b\"],[0.6666666666666666,\"#ed7953\"],[0.7777777777777778,\"#fb9f3a\"],[0.8888888888888888,\"#fdca26\"],[1.0,\"#f0f921\"]]}],\"surface\":[{\"type\":\"surface\",\"colorbar\":{\"outlinewidth\":0,\"ticks\":\"\"},\"colorscale\":[[0.0,\"#0d0887\"],[0.1111111111111111,\"#46039f\"],[0.2222222222222222,\"#7201a8\"],[0.3333333333333333,\"#9c179e\"],[0.4444444444444444,\"#bd3786\"],[0.5555555555555556,\"#d8576b\"],[0.6666666666666666,\"#ed7953\"],[0.7777777777777778,\"#fb9f3a\"],[0.8888888888888888,\"#fdca26\"],[1.0,\"#f0f921\"]]}],\"mesh3d\":[{\"type\":\"mesh3d\",\"colorbar\":{\"outlinewidth\":0,\"ticks\":\"\"}}],\"scatter\":[{\"fillpattern\":{\"fillmode\":\"overlay\",\"size\":10,\"solidity\":0.2},\"type\":\"scatter\"}],\"parcoords\":[{\"type\":\"parcoords\",\"line\":{\"colorbar\":{\"outlinewidth\":0,\"ticks\":\"\"}}}],\"scatterpolargl\":[{\"type\":\"scatterpolargl\",\"marker\":{\"colorbar\":{\"outlinewidth\":0,\"ticks\":\"\"}}}],\"bar\":[{\"error_x\":{\"color\":\"#2a3f5f\"},\"error_y\":{\"color\":\"#2a3f5f\"},\"marker\":{\"line\":{\"color\":\"#E5ECF6\",\"width\":0.5},\"pattern\":{\"fillmode\":\"overlay\",\"size\":10,\"solidity\":0.2}},\"type\":\"bar\"}],\"scattergeo\":[{\"type\":\"scattergeo\",\"marker\":{\"colorbar\":{\"outlinewidth\":0,\"ticks\":\"\"}}}],\"scatterpolar\":[{\"type\":\"scatterpolar\",\"marker\":{\"colorbar\":{\"outlinewidth\":0,\"ticks\":\"\"}}}],\"histogram\":[{\"marker\":{\"pattern\":{\"fillmode\":\"overlay\",\"size\":10,\"solidity\":0.2}},\"type\":\"histogram\"}],\"scattergl\":[{\"type\":\"scattergl\",\"marker\":{\"colorbar\":{\"outlinewidth\":0,\"ticks\":\"\"}}}],\"scatter3d\":[{\"type\":\"scatter3d\",\"line\":{\"colorbar\":{\"outlinewidth\":0,\"ticks\":\"\"}},\"marker\":{\"colorbar\":{\"outlinewidth\":0,\"ticks\":\"\"}}}],\"scattermapbox\":[{\"type\":\"scattermapbox\",\"marker\":{\"colorbar\":{\"outlinewidth\":0,\"ticks\":\"\"}}}],\"scatterternary\":[{\"type\":\"scatterternary\",\"marker\":{\"colorbar\":{\"outlinewidth\":0,\"ticks\":\"\"}}}],\"scattercarpet\":[{\"type\":\"scattercarpet\",\"marker\":{\"colorbar\":{\"outlinewidth\":0,\"ticks\":\"\"}}}],\"carpet\":[{\"aaxis\":{\"endlinecolor\":\"#2a3f5f\",\"gridcolor\":\"white\",\"linecolor\":\"white\",\"minorgridcolor\":\"white\",\"startlinecolor\":\"#2a3f5f\"},\"baxis\":{\"endlinecolor\":\"#2a3f5f\",\"gridcolor\":\"white\",\"linecolor\":\"white\",\"minorgridcolor\":\"white\",\"startlinecolor\":\"#2a3f5f\"},\"type\":\"carpet\"}],\"table\":[{\"cells\":{\"fill\":{\"color\":\"#EBF0F8\"},\"line\":{\"color\":\"white\"}},\"header\":{\"fill\":{\"color\":\"#C8D4E3\"},\"line\":{\"color\":\"white\"}},\"type\":\"table\"}],\"barpolar\":[{\"marker\":{\"line\":{\"color\":\"#E5ECF6\",\"width\":0.5},\"pattern\":{\"fillmode\":\"overlay\",\"size\":10,\"solidity\":0.2}},\"type\":\"barpolar\"}],\"pie\":[{\"automargin\":true,\"type\":\"pie\"}]},\"layout\":{\"autotypenumbers\":\"strict\",\"colorway\":[\"#636efa\",\"#EF553B\",\"#00cc96\",\"#ab63fa\",\"#FFA15A\",\"#19d3f3\",\"#FF6692\",\"#B6E880\",\"#FF97FF\",\"#FECB52\"],\"font\":{\"color\":\"#2a3f5f\"},\"hovermode\":\"closest\",\"hoverlabel\":{\"align\":\"left\"},\"paper_bgcolor\":\"white\",\"plot_bgcolor\":\"#E5ECF6\",\"polar\":{\"bgcolor\":\"#E5ECF6\",\"angularaxis\":{\"gridcolor\":\"white\",\"linecolor\":\"white\",\"ticks\":\"\"},\"radialaxis\":{\"gridcolor\":\"white\",\"linecolor\":\"white\",\"ticks\":\"\"}},\"ternary\":{\"bgcolor\":\"#E5ECF6\",\"aaxis\":{\"gridcolor\":\"white\",\"linecolor\":\"white\",\"ticks\":\"\"},\"baxis\":{\"gridcolor\":\"white\",\"linecolor\":\"white\",\"ticks\":\"\"},\"caxis\":{\"gridcolor\":\"white\",\"linecolor\":\"white\",\"ticks\":\"\"}},\"coloraxis\":{\"colorbar\":{\"outlinewidth\":0,\"ticks\":\"\"}},\"colorscale\":{\"sequential\":[[0.0,\"#0d0887\"],[0.1111111111111111,\"#46039f\"],[0.2222222222222222,\"#7201a8\"],[0.3333333333333333,\"#9c179e\"],[0.4444444444444444,\"#bd3786\"],[0.5555555555555556,\"#d8576b\"],[0.6666666666666666,\"#ed7953\"],[0.7777777777777778,\"#fb9f3a\"],[0.8888888888888888,\"#fdca26\"],[1.0,\"#f0f921\"]],\"sequentialminus\":[[0.0,\"#0d0887\"],[0.1111111111111111,\"#46039f\"],[0.2222222222222222,\"#7201a8\"],[0.3333333333333333,\"#9c179e\"],[0.4444444444444444,\"#bd3786\"],[0.5555555555555556,\"#d8576b\"],[0.6666666666666666,\"#ed7953\"],[0.7777777777777778,\"#fb9f3a\"],[0.8888888888888888,\"#fdca26\"],[1.0,\"#f0f921\"]],\"diverging\":[[0,\"#8e0152\"],[0.1,\"#c51b7d\"],[0.2,\"#de77ae\"],[0.3,\"#f1b6da\"],[0.4,\"#fde0ef\"],[0.5,\"#f7f7f7\"],[0.6,\"#e6f5d0\"],[0.7,\"#b8e186\"],[0.8,\"#7fbc41\"],[0.9,\"#4d9221\"],[1,\"#276419\"]]},\"xaxis\":{\"gridcolor\":\"white\",\"linecolor\":\"white\",\"ticks\":\"\",\"title\":{\"standoff\":15},\"zerolinecolor\":\"white\",\"automargin\":true,\"zerolinewidth\":2},\"yaxis\":{\"gridcolor\":\"white\",\"linecolor\":\"white\",\"ticks\":\"\",\"title\":{\"standoff\":15},\"zerolinecolor\":\"white\",\"automargin\":true,\"zerolinewidth\":2},\"scene\":{\"xaxis\":{\"backgroundcolor\":\"#E5ECF6\",\"gridcolor\":\"white\",\"linecolor\":\"white\",\"showbackground\":true,\"ticks\":\"\",\"zerolinecolor\":\"white\",\"gridwidth\":2},\"yaxis\":{\"backgroundcolor\":\"#E5ECF6\",\"gridcolor\":\"white\",\"linecolor\":\"white\",\"showbackground\":true,\"ticks\":\"\",\"zerolinecolor\":\"white\",\"gridwidth\":2},\"zaxis\":{\"backgroundcolor\":\"#E5ECF6\",\"gridcolor\":\"white\",\"linecolor\":\"white\",\"showbackground\":true,\"ticks\":\"\",\"zerolinecolor\":\"white\",\"gridwidth\":2}},\"shapedefaults\":{\"line\":{\"color\":\"#2a3f5f\"}},\"annotationdefaults\":{\"arrowcolor\":\"#2a3f5f\",\"arrowhead\":0,\"arrowwidth\":1},\"geo\":{\"bgcolor\":\"white\",\"landcolor\":\"#E5ECF6\",\"subunitcolor\":\"white\",\"showland\":true,\"showlakes\":true,\"lakecolor\":\"white\"},\"title\":{\"x\":0.05},\"mapbox\":{\"style\":\"light\"}}},\"xaxis\":{\"anchor\":\"y\",\"domain\":[0.0,1.0],\"title\":{\"text\":\"Date\"}},\"yaxis\":{\"anchor\":\"x\",\"domain\":[0.0,1.0],\"title\":{\"text\":\"value\"}},\"legend\":{\"title\":{\"text\":\"variable\"},\"tracegroupgap\":0},\"margin\":{\"t\":60},\"barmode\":\"relative\"},                        {\"responsive\": true}                    ).then(function(){\n",
              "                            \n",
              "var gd = document.getElementById('646e63ad-54ad-4308-a395-b7bf6f1ee2ec');\n",
              "var x = new MutationObserver(function (mutations, observer) {{\n",
              "        var display = window.getComputedStyle(gd).display;\n",
              "        if (!display || display === 'none') {{\n",
              "            console.log([gd, 'removed!']);\n",
              "            Plotly.purge(gd);\n",
              "            observer.disconnect();\n",
              "        }}\n",
              "}});\n",
              "\n",
              "// Listen for the removal of the full notebook cells\n",
              "var notebookContainer = gd.closest('#notebook-container');\n",
              "if (notebookContainer) {{\n",
              "    x.observe(notebookContainer, {childList: true});\n",
              "}}\n",
              "\n",
              "// Listen for the clearing of the current output cell\n",
              "var outputEl = gd.closest('.output');\n",
              "if (outputEl) {{\n",
              "    x.observe(outputEl, {childList: true});\n",
              "}}\n",
              "\n",
              "                        })                };                });            </script>        </div>"
            ]
          },
          "metadata": {}
        }
      ]
    },
    {
      "cell_type": "markdown",
      "source": [
        "#### Modigliani Ratio (M2 Ratio)\n",
        "\n",
        "Modigliani ratio shows the return on an investment adjusted for risk in comparison to a benchmark. It is shown as units of percentage return.\n",
        "\n",
        "![](https://cdn.corporatefinanceinstitute.com/assets/risk-adjusted-return-ratios5.png)\n",
        "\n",
        "Where:\n",
        "\n",
        "$ R_{p} = Return\\;on\\;Adjusted\\;Portfolio $\n",
        "\n",
        "$ R_{m} = Return\\;on\\;Market\\;Portfolio $"
      ],
      "metadata": {
        "id": "ueJh1JeESpU1"
      }
    },
    {
      "cell_type": "code",
      "source": [
        "m2_ratio = pd.DataFrame()\n",
        "\n",
        "benchmark_std = standard_deviation\n",
        "standard_deviation = standard_deviation.dropna()\n",
        "sharpe_ratio = sharpe_ratio.dropna()\n",
        "\n",
        "#standard_deviation.head()\n",
        "#sharpe_ratio.head()\n",
        "\n",
        "m2_ratio = (sharpe_ratio*standard_deviation/TRADING_DAYS + Rf) * TRADING_DAYS\n",
        "\n",
        "m2_ratio.plot().show()"
      ],
      "metadata": {
        "execution": {
          "iopub.status.busy": "2023-10-22T14:07:44.188116Z",
          "iopub.execute_input": "2023-10-22T14:07:44.188558Z",
          "iopub.status.idle": "2023-10-22T14:07:44.287311Z",
          "shell.execute_reply.started": "2023-10-22T14:07:44.188522Z",
          "shell.execute_reply": "2023-10-22T14:07:44.286022Z"
        },
        "trusted": true,
        "id": "RAelq14ZSpU2",
        "colab": {
          "base_uri": "https://localhost:8080/",
          "height": 542
        },
        "outputId": "e6e79bd0-f80a-4baa-d560-61fcd6fd568b"
      },
      "execution_count": 10,
      "outputs": [
        {
          "output_type": "display_data",
          "data": {
            "application/vnd.plotly.v1+json": {
              "data": [
                {
                  "hovertemplate": "variable=Close<br>Date=%{x}<br>value=%{y}<extra></extra>",
                  "legendgroup": "Close",
                  "line": {
                    "color": "#636efa",
                    "dash": "solid"
                  },
                  "marker": {
                    "symbol": "circle"
                  },
                  "mode": "lines",
                  "name": "Close",
                  "orientation": "v",
                  "showlegend": true,
                  "x": [
                    "2023-01-10T00:00:00",
                    "2023-01-11T00:00:00",
                    "2023-01-12T00:00:00",
                    "2023-01-13T00:00:00",
                    "2023-01-17T00:00:00",
                    "2023-01-18T00:00:00",
                    "2023-01-19T00:00:00",
                    "2023-01-20T00:00:00",
                    "2023-01-23T00:00:00",
                    "2023-01-24T00:00:00",
                    "2023-01-25T00:00:00",
                    "2023-01-26T00:00:00",
                    "2023-01-27T00:00:00",
                    "2023-01-30T00:00:00",
                    "2023-01-31T00:00:00",
                    "2023-02-01T00:00:00",
                    "2023-02-02T00:00:00",
                    "2023-02-03T00:00:00",
                    "2023-02-06T00:00:00",
                    "2023-02-07T00:00:00",
                    "2023-02-08T00:00:00",
                    "2023-02-09T00:00:00",
                    "2023-02-10T00:00:00",
                    "2023-02-13T00:00:00",
                    "2023-02-14T00:00:00",
                    "2023-02-15T00:00:00",
                    "2023-02-16T00:00:00",
                    "2023-02-17T00:00:00",
                    "2023-02-21T00:00:00",
                    "2023-02-22T00:00:00",
                    "2023-02-23T00:00:00",
                    "2023-02-24T00:00:00",
                    "2023-02-27T00:00:00",
                    "2023-02-28T00:00:00",
                    "2023-03-01T00:00:00",
                    "2023-03-02T00:00:00",
                    "2023-03-03T00:00:00",
                    "2023-03-06T00:00:00",
                    "2023-03-07T00:00:00",
                    "2023-03-08T00:00:00",
                    "2023-03-09T00:00:00",
                    "2023-03-10T00:00:00",
                    "2023-03-13T00:00:00",
                    "2023-03-14T00:00:00",
                    "2023-03-15T00:00:00",
                    "2023-03-16T00:00:00",
                    "2023-03-17T00:00:00",
                    "2023-03-20T00:00:00",
                    "2023-03-21T00:00:00",
                    "2023-03-22T00:00:00",
                    "2023-03-23T00:00:00",
                    "2023-03-24T00:00:00",
                    "2023-03-27T00:00:00",
                    "2023-03-28T00:00:00",
                    "2023-03-29T00:00:00",
                    "2023-03-30T00:00:00",
                    "2023-03-31T00:00:00",
                    "2023-04-03T00:00:00",
                    "2023-04-04T00:00:00",
                    "2023-04-05T00:00:00",
                    "2023-04-06T00:00:00",
                    "2023-04-10T00:00:00",
                    "2023-04-11T00:00:00",
                    "2023-04-12T00:00:00",
                    "2023-04-13T00:00:00",
                    "2023-04-14T00:00:00",
                    "2023-04-17T00:00:00",
                    "2023-04-18T00:00:00",
                    "2023-04-19T00:00:00",
                    "2023-04-20T00:00:00",
                    "2023-04-21T00:00:00",
                    "2023-04-24T00:00:00",
                    "2023-04-25T00:00:00",
                    "2023-04-26T00:00:00",
                    "2023-04-27T00:00:00",
                    "2023-04-28T00:00:00",
                    "2023-05-01T00:00:00",
                    "2023-05-02T00:00:00",
                    "2023-05-03T00:00:00",
                    "2023-05-04T00:00:00",
                    "2023-05-05T00:00:00",
                    "2023-05-08T00:00:00",
                    "2023-05-09T00:00:00",
                    "2023-05-10T00:00:00",
                    "2023-05-11T00:00:00",
                    "2023-05-12T00:00:00",
                    "2023-05-15T00:00:00",
                    "2023-05-16T00:00:00",
                    "2023-05-17T00:00:00",
                    "2023-05-18T00:00:00",
                    "2023-05-19T00:00:00",
                    "2023-05-22T00:00:00",
                    "2023-05-23T00:00:00",
                    "2023-05-24T00:00:00",
                    "2023-05-25T00:00:00",
                    "2023-05-26T00:00:00",
                    "2023-05-30T00:00:00",
                    "2023-05-31T00:00:00",
                    "2023-06-01T00:00:00",
                    "2023-06-02T00:00:00",
                    "2023-06-05T00:00:00",
                    "2023-06-06T00:00:00",
                    "2023-06-07T00:00:00",
                    "2023-06-08T00:00:00",
                    "2023-06-09T00:00:00",
                    "2023-06-12T00:00:00",
                    "2023-06-13T00:00:00",
                    "2023-06-14T00:00:00",
                    "2023-06-15T00:00:00",
                    "2023-06-16T00:00:00",
                    "2023-06-20T00:00:00",
                    "2023-06-21T00:00:00",
                    "2023-06-22T00:00:00",
                    "2023-06-23T00:00:00",
                    "2023-06-26T00:00:00",
                    "2023-06-27T00:00:00",
                    "2023-06-28T00:00:00",
                    "2023-06-29T00:00:00",
                    "2023-06-30T00:00:00",
                    "2023-07-03T00:00:00",
                    "2023-07-05T00:00:00",
                    "2023-07-06T00:00:00",
                    "2023-07-07T00:00:00",
                    "2023-07-10T00:00:00",
                    "2023-07-11T00:00:00",
                    "2023-07-12T00:00:00",
                    "2023-07-13T00:00:00",
                    "2023-07-14T00:00:00",
                    "2023-07-17T00:00:00",
                    "2023-07-18T00:00:00",
                    "2023-07-19T00:00:00",
                    "2023-07-20T00:00:00",
                    "2023-07-21T00:00:00",
                    "2023-07-24T00:00:00",
                    "2023-07-25T00:00:00",
                    "2023-07-26T00:00:00",
                    "2023-07-27T00:00:00",
                    "2023-07-28T00:00:00",
                    "2023-07-31T00:00:00",
                    "2023-08-01T00:00:00",
                    "2023-08-02T00:00:00",
                    "2023-08-03T00:00:00",
                    "2023-08-04T00:00:00",
                    "2023-08-07T00:00:00",
                    "2023-08-08T00:00:00",
                    "2023-08-09T00:00:00",
                    "2023-08-10T00:00:00",
                    "2023-08-11T00:00:00",
                    "2023-08-14T00:00:00",
                    "2023-08-15T00:00:00",
                    "2023-08-16T00:00:00",
                    "2023-08-17T00:00:00",
                    "2023-08-18T00:00:00",
                    "2023-08-21T00:00:00",
                    "2023-08-22T00:00:00",
                    "2023-08-23T00:00:00",
                    "2023-08-24T00:00:00",
                    "2023-08-25T00:00:00",
                    "2023-08-28T00:00:00",
                    "2023-08-29T00:00:00",
                    "2023-08-30T00:00:00",
                    "2023-08-31T00:00:00",
                    "2023-09-01T00:00:00",
                    "2023-09-05T00:00:00",
                    "2023-09-06T00:00:00",
                    "2023-09-07T00:00:00",
                    "2023-09-08T00:00:00",
                    "2023-09-11T00:00:00",
                    "2023-09-12T00:00:00",
                    "2023-09-13T00:00:00",
                    "2023-09-14T00:00:00",
                    "2023-09-15T00:00:00",
                    "2023-09-18T00:00:00",
                    "2023-09-19T00:00:00",
                    "2023-09-20T00:00:00",
                    "2023-09-21T00:00:00",
                    "2023-09-22T00:00:00",
                    "2023-09-25T00:00:00",
                    "2023-09-26T00:00:00",
                    "2023-09-27T00:00:00",
                    "2023-09-28T00:00:00",
                    "2023-09-29T00:00:00",
                    "2023-10-02T00:00:00",
                    "2023-10-03T00:00:00",
                    "2023-10-04T00:00:00",
                    "2023-10-05T00:00:00",
                    "2023-10-06T00:00:00",
                    "2023-10-09T00:00:00",
                    "2023-10-10T00:00:00",
                    "2023-10-11T00:00:00",
                    "2023-10-12T00:00:00",
                    "2023-10-13T00:00:00",
                    "2023-10-16T00:00:00",
                    "2023-10-17T00:00:00",
                    "2023-10-18T00:00:00",
                    "2023-10-19T00:00:00",
                    "2023-10-20T00:00:00",
                    "2023-10-23T00:00:00",
                    "2023-10-24T00:00:00",
                    "2023-10-25T00:00:00",
                    "2023-10-26T00:00:00",
                    "2023-10-27T00:00:00",
                    "2023-10-30T00:00:00",
                    "2023-10-31T00:00:00",
                    "2023-11-01T00:00:00",
                    "2023-11-02T00:00:00",
                    "2023-11-03T00:00:00",
                    "2023-11-06T00:00:00",
                    "2023-11-07T00:00:00",
                    "2023-11-08T00:00:00",
                    "2023-11-09T00:00:00",
                    "2023-11-10T00:00:00",
                    "2023-11-13T00:00:00",
                    "2023-11-14T00:00:00",
                    "2023-11-15T00:00:00",
                    "2023-11-16T00:00:00",
                    "2023-11-17T00:00:00",
                    "2023-11-20T00:00:00",
                    "2023-11-21T00:00:00",
                    "2023-11-22T00:00:00",
                    "2023-11-24T00:00:00",
                    "2023-11-27T00:00:00",
                    "2023-11-28T00:00:00",
                    "2023-11-29T00:00:00",
                    "2023-11-30T00:00:00",
                    "2023-12-01T00:00:00",
                    "2023-12-04T00:00:00",
                    "2023-12-05T00:00:00",
                    "2023-12-06T00:00:00",
                    "2023-12-07T00:00:00",
                    "2023-12-08T00:00:00",
                    "2023-12-11T00:00:00",
                    "2023-12-12T00:00:00",
                    "2023-12-13T00:00:00",
                    "2023-12-14T00:00:00",
                    "2023-12-15T00:00:00",
                    "2023-12-18T00:00:00",
                    "2023-12-19T00:00:00",
                    "2023-12-20T00:00:00",
                    "2023-12-21T00:00:00",
                    "2023-12-22T00:00:00",
                    "2023-12-26T00:00:00",
                    "2023-12-27T00:00:00",
                    "2023-12-28T00:00:00",
                    "2023-12-29T00:00:00",
                    "2024-01-02T00:00:00",
                    "2024-01-03T00:00:00",
                    "2024-01-04T00:00:00",
                    "2024-01-05T00:00:00",
                    "2024-01-08T00:00:00",
                    "2024-01-09T00:00:00",
                    "2024-01-10T00:00:00",
                    "2024-01-11T00:00:00",
                    "2024-01-12T00:00:00",
                    "2024-01-16T00:00:00",
                    "2024-01-17T00:00:00",
                    "2024-01-18T00:00:00",
                    "2024-01-19T00:00:00",
                    "2024-01-22T00:00:00",
                    "2024-01-23T00:00:00",
                    "2024-01-24T00:00:00",
                    "2024-01-25T00:00:00",
                    "2024-01-26T00:00:00",
                    "2024-01-29T00:00:00",
                    "2024-01-30T00:00:00",
                    "2024-01-31T00:00:00",
                    "2024-02-01T00:00:00",
                    "2024-02-02T00:00:00",
                    "2024-02-05T00:00:00",
                    "2024-02-06T00:00:00",
                    "2024-02-07T00:00:00",
                    "2024-02-08T00:00:00",
                    "2024-02-09T00:00:00",
                    "2024-02-12T00:00:00",
                    "2024-02-13T00:00:00",
                    "2024-02-14T00:00:00",
                    "2024-02-15T00:00:00",
                    "2024-02-16T00:00:00",
                    "2024-02-20T00:00:00",
                    "2024-02-21T00:00:00",
                    "2024-02-22T00:00:00",
                    "2024-02-23T00:00:00",
                    "2024-02-26T00:00:00",
                    "2024-02-27T00:00:00",
                    "2024-02-28T00:00:00",
                    "2024-02-29T00:00:00",
                    "2024-03-01T00:00:00",
                    "2024-03-04T00:00:00",
                    "2024-03-05T00:00:00",
                    "2024-03-06T00:00:00",
                    "2024-03-07T00:00:00",
                    "2024-03-08T00:00:00",
                    "2024-03-11T00:00:00",
                    "2024-03-12T00:00:00",
                    "2024-03-13T00:00:00",
                    "2024-03-14T00:00:00",
                    "2024-03-15T00:00:00",
                    "2024-03-18T00:00:00",
                    "2024-03-19T00:00:00",
                    "2024-03-20T00:00:00",
                    "2024-03-21T00:00:00",
                    "2024-03-22T00:00:00",
                    "2024-03-25T00:00:00",
                    "2024-03-26T00:00:00",
                    "2024-03-27T00:00:00",
                    "2024-03-28T00:00:00",
                    "2024-04-01T00:00:00",
                    "2024-04-02T00:00:00",
                    "2024-04-03T00:00:00",
                    "2024-04-04T00:00:00",
                    "2024-04-05T00:00:00",
                    "2024-04-08T00:00:00",
                    "2024-04-09T00:00:00",
                    "2024-04-10T00:00:00",
                    "2024-04-11T00:00:00",
                    "2024-04-12T00:00:00",
                    "2024-04-15T00:00:00",
                    "2024-04-16T00:00:00",
                    "2024-04-17T00:00:00",
                    "2024-04-18T00:00:00",
                    "2024-04-19T00:00:00",
                    "2024-04-22T00:00:00",
                    "2024-04-23T00:00:00",
                    "2024-04-24T00:00:00",
                    "2024-04-25T00:00:00",
                    "2024-04-26T00:00:00",
                    "2024-04-29T00:00:00",
                    "2024-04-30T00:00:00",
                    "2024-05-01T00:00:00",
                    "2024-05-02T00:00:00",
                    "2024-05-03T00:00:00",
                    "2024-05-06T00:00:00",
                    "2024-05-07T00:00:00",
                    "2024-05-08T00:00:00",
                    "2024-05-09T00:00:00",
                    "2024-05-10T00:00:00",
                    "2024-05-13T00:00:00",
                    "2024-05-14T00:00:00",
                    "2024-05-15T00:00:00",
                    "2024-05-16T00:00:00",
                    "2024-05-17T00:00:00",
                    "2024-05-20T00:00:00",
                    "2024-05-21T00:00:00",
                    "2024-05-22T00:00:00",
                    "2024-05-23T00:00:00",
                    "2024-05-24T00:00:00",
                    "2024-05-28T00:00:00",
                    "2024-05-29T00:00:00",
                    "2024-05-30T00:00:00",
                    "2024-05-31T00:00:00",
                    "2024-06-03T00:00:00",
                    "2024-06-04T00:00:00",
                    "2024-06-05T00:00:00",
                    "2024-06-06T00:00:00",
                    "2024-06-07T00:00:00",
                    "2024-06-10T00:00:00",
                    "2024-06-11T00:00:00",
                    "2024-06-12T00:00:00",
                    "2024-06-13T00:00:00",
                    "2024-06-14T00:00:00"
                  ],
                  "xaxis": "x",
                  "y": [
                    0.025305937696484246,
                    0.0301839444113213,
                    0.04529714424850659,
                    0.02649602889373803,
                    0.02522950917417434,
                    0.0023271679000339864,
                    -0.017547824106953977,
                    -0.0027243510550266836,
                    0.005330822053839262,
                    0.006090531477023589,
                    0.02237923238838279,
                    0.04061608961234958,
                    0.024453506070023653,
                    -0.00009986906191576878,
                    0.01557030166148406,
                    0.02576726857504514,
                    0.02928890915630859,
                    0.01630786464856255,
                    0.022803955581155288,
                    0.02120149834998708,
                    -0.0003651930159957002,
                    -0.023524219491833812,
                    -0.010507288325447596,
                    0.007293446615888693,
                    -0.006160675031081039,
                    0.008076434694809384,
                    0.002918928323210921,
                    -0.0019134036544857886,
                    -0.03384890723146217,
                    -0.03476768658734888,
                    -0.032704493524252254,
                    -0.029579851130714888,
                    -0.023678415365945872,
                    -0.007116360077173945,
                    -0.009580595458424934,
                    -0.0071386982664714115,
                    0.01951171106139487,
                    0.01680416039431325,
                    0.0050595535446997485,
                    0.010533633607309347,
                    -0.015835744069073284,
                    -0.046280879329662176,
                    -0.04839964681996352,
                    -0.0165572846442074,
                    -0.024462053294469856,
                    0.011553159320268545,
                    0.010516881582159871,
                    0.021512843880104646,
                    0.0181629817059206,
                    0.007243499413712599,
                    -0.007449791013537066,
                    0.014661626032513773,
                    0.006960027255981334,
                    -0.008332221539954205,
                    0.023291504471921992,
                    0.02642993563188745,
                    0.03388558395962703,
                    0.03582078685322361,
                    0.03250440208173078,
                    0.015452436537797935,
                    0.013507543720861038,
                    0.0005371690071169152,
                    -0.0029975797512350136,
                    -0.001518331259066847,
                    0.014298647070688737,
                    0.007959608841296305,
                    0.010515589956178416,
                    0.010899068419033637,
                    0.01481443028289302,
                    -0.0038529067500465085,
                    -0.0006305125882306558,
                    -0.003169722210572053,
                    -0.019822919507426224,
                    -0.023898582222987887,
                    0.0012859523877271526,
                    0.009008261191681485,
                    0.006955385423848144,
                    0.011653683924591209,
                    0.009010631824999536,
                    -0.01780999372341375,
                    -0.007965639788908959,
                    -0.006688873791818478,
                    0.0002190304816519187,
                    0.011768179762667096,
                    0.017130830099676794,
                    -0.0025236201386438784,
                    0.0006539982824684356,
                    -0.0016561358953436143,
                    0.005748264387840849,
                    0.017080876130172368,
                    0.016935876180303372,
                    0.013897791981227595,
                    0.009316602689643952,
                    -0.010020450317207944,
                    -0.010984945360120617,
                    0.0033387275194718857,
                    0.003313552095137967,
                    0.00903919839455431,
                    0.02576654040291467,
                    0.031501517424538605,
                    0.016715889103418258,
                    0.018510110267063257,
                    0.020607033682249774,
                    0.017181214584194627,
                    0.004616315702641026,
                    0.015565378114984117,
                    0.019961584890209397,
                    0.02461542811188199,
                    0.03090652670205042,
                    0.021994071720268408,
                    0.007761422595524767,
                    -0.003946772467564911,
                    -0.0015336859517941582,
                    -0.021443862245495424,
                    -0.018418224337270063,
                    -0.0023128864515350967,
                    0.0033282763525285426,
                    0.003658680065935206,
                    0.02297904264370402,
                    0.028223040138969754,
                    0.015831085342538565,
                    0.007465336754810571,
                    0.0010038155997361845,
                    -0.00819991254391405,
                    -0.0030014512571436224,
                    0.006500577692518998,
                    0.022267611958026113,
                    0.02417249611796245,
                    0.025110791989636595,
                    0.026165572502130172,
                    0.02037314019691988,
                    0.005810993231187587,
                    0.006434015770225929,
                    0.007425155296332468,
                    0.0027483719317040077,
                    0.0006807821657546574,
                    0.000685327415705162,
                    0.010428035802644613,
                    0.007872925798307074,
                    0.002280921529309622,
                    -0.011881251014273066,
                    -0.008099173228689329,
                    -0.0223749073940434,
                    -0.015586484145992952,
                    -0.017078971730191586,
                    -0.009778184037205036,
                    -0.006549322489949173,
                    -0.002599565978231833,
                    -0.005785392898734628,
                    -0.01314447451371996,
                    -0.01380201322338619,
                    -0.021809966704517316,
                    -0.020745501601309196,
                    -0.019765112850371136,
                    -0.010760161717105919,
                    0.007681241567312527,
                    0.001374301248343654,
                    0.007918170264496649,
                    0.007754292123111845,
                    0.024817876285915086,
                    0.017852048771478137,
                    0.030343591091088872,
                    0.02518199668456051,
                    0.014529359783060452,
                    -0.006567073178661274,
                    -0.013752373447487977,
                    -0.010782957160727996,
                    -0.0060913224442067735,
                    -0.007260736009210007,
                    0.0006497116744248104,
                    0.01231006999770038,
                    -0.004837489740211589,
                    -0.010806327094362442,
                    -0.007381599505453097,
                    -0.017782753862424335,
                    -0.04303464310918094,
                    -0.029643117515382622,
                    -0.02603301329938367,
                    -0.038757280930433444,
                    -0.02912238286859259,
                    -0.00667520154317086,
                    -0.006853978009345141,
                    -0.011448139966527427,
                    -0.010124358817296666,
                    -0.0032678242450500587,
                    -0.009425380005112925,
                    0.004807359172429597,
                    0.011586939664243037,
                    0.030254750877048115,
                    0.02708707850635017,
                    0.02134881962932507,
                    0.004552621994141691,
                    0.008637322768327557,
                    0.0034000686883669338,
                    -0.01410249418004282,
                    -0.01681261570686232,
                    -0.024183466439460066,
                    -0.03638467214261857,
                    -0.028827644384359117,
                    -0.029869173339240947,
                    -0.03309082871272952,
                    -0.02526973948762793,
                    -0.011650141188120855,
                    -0.012900628091405157,
                    0.012163813634098127,
                    0.04319373217023109,
                    0.05681883437934726,
                    0.04723179836529716,
                    0.04381316625164933,
                    0.033937031900272314,
                    0.00712468096028678,
                    0.013526958212325812,
                    0.01027547054237873,
                    0.026648412611688904,
                    0.028031088507483988,
                    0.03708279361261933,
                    0.022841520900791924,
                    0.0314632854074051,
                    0.010066555134596943,
                    0.011805147477957497,
                    0.011197927825501192,
                    0.00815231433341463,
                    0.0014738020207639838,
                    0.0029519261329081893,
                    0.003028254730595782,
                    0.00831154901992583,
                    0.004850896662870108,
                    0.0036642026010992633,
                    0.0003299524203109001,
                    0.004001660829237695,
                    0.002393139577057154,
                    0.01153839560251825,
                    0.016292311935414777,
                    0.034026130290289267,
                    0.02962892704726199,
                    0.019644913014739245,
                    0.021372202142279,
                    0.022877838074607013,
                    -0.004772240960954008,
                    0.0014607711319973452,
                    0.0091625222939166,
                    0.0077668499905767015,
                    0.0035108322539422407,
                    0.017842671493830894,
                    0.0055062539825155975,
                    -0.0021134954774137808,
                    -0.014527351615635582,
                    -0.01956008260727879,
                    -0.01856901972689589,
                    -0.0014948607437623553,
                    0.0025989914324598858,
                    0.01643870299257108,
                    0.019224243846183785,
                    0.01854802102612579,
                    0.0006950524701157936,
                    -0.003360913603280063,
                    -0.0001469121772022233,
                    0.012682926386233775,
                    0.01410253132184715,
                    0.020692749929610954,
                    0.027359499906084057,
                    0.023930160851908817,
                    0.010269848171062738,
                    0.01604593028042965,
                    0.012359940687757604,
                    -0.005184536001924003,
                    0.002394551893904604,
                    0.014138115166513966,
                    0.002602101058535682,
                    0.006274952829336636,
                    0.03103268664149343,
                    0.018471026877646807,
                    0.01376146668783284,
                    0.016970248539673487,
                    0.0002023674402885185,
                    0.0009431431651610919,
                    0.00737760362138363,
                    -0.003377609918882563,
                    -0.008459170319557709,
                    0.006315034660182461,
                    0.017752695417948522,
                    0.011566081138757168,
                    0.012889249487652679,
                    0.020265880811249668,
                    0.01803793572252968,
                    0.0011421781503906782,
                    0.009797216744881113,
                    0.012393480170967894,
                    0.0004930431781081295,
                    0.0068700188527433224,
                    0.013159006744056238,
                    -0.002205754314409652,
                    -0.0019929841627770468,
                    0.01875135299250178,
                    0.01212815802175391,
                    0.0002719364666960622,
                    -0.003700292354861371,
                    0.0030854919253963807,
                    -0.002072674125941998,
                    0.008702857723264752,
                    0.013980847364103667,
                    0.022075763236888417,
                    0.0133835687331008,
                    0.005993088206933285,
                    0.00515500118394697,
                    0.0016646326821352013,
                    0.0018209291791148469,
                    -0.001790841379911562,
                    0.0011557775224058943,
                    -0.01949412400452448,
                    -0.00891031271700554,
                    -0.006609820827327335,
                    0.0009246753624623637,
                    -0.010236808579213889,
                    0.009562939880476764,
                    -0.014728982621121808,
                    -0.027895431015057648,
                    -0.030876986716634046,
                    -0.026749222266257266,
                    -0.03632762692618634,
                    -0.03119506692577767,
                    -0.009420807046679391,
                    0.004201427398648771,
                    0.009662518833785619,
                    0.007916216259033895,
                    0.02611219682593209,
                    0.020480417064411865,
                    -0.0072844181309391015,
                    -0.010062122577084113,
                    0.0030539994420700593,
                    0.005943813732379212,
                    0.012682460073949721,
                    0.02975335906661973,
                    0.033102450816221166,
                    0.029537817335946848,
                    0.018505983804635508,
                    0.008366409409913388,
                    0.011841230837911904,
                    0.02405156477993895,
                    0.016246604991881203,
                    0.0163958105101575,
                    0.017412972525263574,
                    0.015284840009476018,
                    0.0000943513006057572,
                    -0.005177047367223783,
                    -0.000018906147922822386,
                    -0.00047175598099463614,
                    -0.009948467729599527,
                    -0.01372077266390919,
                    0.002677174226105982,
                    -0.0031024478435157706,
                    -0.0026837719638573014,
                    0.0161584398585165,
                    0.022795520655809087,
                    0.012512203442848487,
                    0.014782180364865477,
                    0.016070327903154588,
                    0.012434762675849306,
                    0.014464957148350492,
                    0.01628955160973336
                  ],
                  "yaxis": "y",
                  "type": "scatter"
                }
              ],
              "layout": {
                "template": {
                  "data": {
                    "histogram2dcontour": [
                      {
                        "type": "histogram2dcontour",
                        "colorbar": {
                          "outlinewidth": 0,
                          "ticks": ""
                        },
                        "colorscale": [
                          [
                            0,
                            "#0d0887"
                          ],
                          [
                            0.1111111111111111,
                            "#46039f"
                          ],
                          [
                            0.2222222222222222,
                            "#7201a8"
                          ],
                          [
                            0.3333333333333333,
                            "#9c179e"
                          ],
                          [
                            0.4444444444444444,
                            "#bd3786"
                          ],
                          [
                            0.5555555555555556,
                            "#d8576b"
                          ],
                          [
                            0.6666666666666666,
                            "#ed7953"
                          ],
                          [
                            0.7777777777777778,
                            "#fb9f3a"
                          ],
                          [
                            0.8888888888888888,
                            "#fdca26"
                          ],
                          [
                            1,
                            "#f0f921"
                          ]
                        ]
                      }
                    ],
                    "choropleth": [
                      {
                        "type": "choropleth",
                        "colorbar": {
                          "outlinewidth": 0,
                          "ticks": ""
                        }
                      }
                    ],
                    "histogram2d": [
                      {
                        "type": "histogram2d",
                        "colorbar": {
                          "outlinewidth": 0,
                          "ticks": ""
                        },
                        "colorscale": [
                          [
                            0,
                            "#0d0887"
                          ],
                          [
                            0.1111111111111111,
                            "#46039f"
                          ],
                          [
                            0.2222222222222222,
                            "#7201a8"
                          ],
                          [
                            0.3333333333333333,
                            "#9c179e"
                          ],
                          [
                            0.4444444444444444,
                            "#bd3786"
                          ],
                          [
                            0.5555555555555556,
                            "#d8576b"
                          ],
                          [
                            0.6666666666666666,
                            "#ed7953"
                          ],
                          [
                            0.7777777777777778,
                            "#fb9f3a"
                          ],
                          [
                            0.8888888888888888,
                            "#fdca26"
                          ],
                          [
                            1,
                            "#f0f921"
                          ]
                        ]
                      }
                    ],
                    "heatmap": [
                      {
                        "type": "heatmap",
                        "colorbar": {
                          "outlinewidth": 0,
                          "ticks": ""
                        },
                        "colorscale": [
                          [
                            0,
                            "#0d0887"
                          ],
                          [
                            0.1111111111111111,
                            "#46039f"
                          ],
                          [
                            0.2222222222222222,
                            "#7201a8"
                          ],
                          [
                            0.3333333333333333,
                            "#9c179e"
                          ],
                          [
                            0.4444444444444444,
                            "#bd3786"
                          ],
                          [
                            0.5555555555555556,
                            "#d8576b"
                          ],
                          [
                            0.6666666666666666,
                            "#ed7953"
                          ],
                          [
                            0.7777777777777778,
                            "#fb9f3a"
                          ],
                          [
                            0.8888888888888888,
                            "#fdca26"
                          ],
                          [
                            1,
                            "#f0f921"
                          ]
                        ]
                      }
                    ],
                    "heatmapgl": [
                      {
                        "type": "heatmapgl",
                        "colorbar": {
                          "outlinewidth": 0,
                          "ticks": ""
                        },
                        "colorscale": [
                          [
                            0,
                            "#0d0887"
                          ],
                          [
                            0.1111111111111111,
                            "#46039f"
                          ],
                          [
                            0.2222222222222222,
                            "#7201a8"
                          ],
                          [
                            0.3333333333333333,
                            "#9c179e"
                          ],
                          [
                            0.4444444444444444,
                            "#bd3786"
                          ],
                          [
                            0.5555555555555556,
                            "#d8576b"
                          ],
                          [
                            0.6666666666666666,
                            "#ed7953"
                          ],
                          [
                            0.7777777777777778,
                            "#fb9f3a"
                          ],
                          [
                            0.8888888888888888,
                            "#fdca26"
                          ],
                          [
                            1,
                            "#f0f921"
                          ]
                        ]
                      }
                    ],
                    "contourcarpet": [
                      {
                        "type": "contourcarpet",
                        "colorbar": {
                          "outlinewidth": 0,
                          "ticks": ""
                        }
                      }
                    ],
                    "contour": [
                      {
                        "type": "contour",
                        "colorbar": {
                          "outlinewidth": 0,
                          "ticks": ""
                        },
                        "colorscale": [
                          [
                            0,
                            "#0d0887"
                          ],
                          [
                            0.1111111111111111,
                            "#46039f"
                          ],
                          [
                            0.2222222222222222,
                            "#7201a8"
                          ],
                          [
                            0.3333333333333333,
                            "#9c179e"
                          ],
                          [
                            0.4444444444444444,
                            "#bd3786"
                          ],
                          [
                            0.5555555555555556,
                            "#d8576b"
                          ],
                          [
                            0.6666666666666666,
                            "#ed7953"
                          ],
                          [
                            0.7777777777777778,
                            "#fb9f3a"
                          ],
                          [
                            0.8888888888888888,
                            "#fdca26"
                          ],
                          [
                            1,
                            "#f0f921"
                          ]
                        ]
                      }
                    ],
                    "surface": [
                      {
                        "type": "surface",
                        "colorbar": {
                          "outlinewidth": 0,
                          "ticks": ""
                        },
                        "colorscale": [
                          [
                            0,
                            "#0d0887"
                          ],
                          [
                            0.1111111111111111,
                            "#46039f"
                          ],
                          [
                            0.2222222222222222,
                            "#7201a8"
                          ],
                          [
                            0.3333333333333333,
                            "#9c179e"
                          ],
                          [
                            0.4444444444444444,
                            "#bd3786"
                          ],
                          [
                            0.5555555555555556,
                            "#d8576b"
                          ],
                          [
                            0.6666666666666666,
                            "#ed7953"
                          ],
                          [
                            0.7777777777777778,
                            "#fb9f3a"
                          ],
                          [
                            0.8888888888888888,
                            "#fdca26"
                          ],
                          [
                            1,
                            "#f0f921"
                          ]
                        ]
                      }
                    ],
                    "mesh3d": [
                      {
                        "type": "mesh3d",
                        "colorbar": {
                          "outlinewidth": 0,
                          "ticks": ""
                        }
                      }
                    ],
                    "scatter": [
                      {
                        "fillpattern": {
                          "fillmode": "overlay",
                          "size": 10,
                          "solidity": 0.2
                        },
                        "type": "scatter"
                      }
                    ],
                    "parcoords": [
                      {
                        "type": "parcoords",
                        "line": {
                          "colorbar": {
                            "outlinewidth": 0,
                            "ticks": ""
                          }
                        }
                      }
                    ],
                    "scatterpolargl": [
                      {
                        "type": "scatterpolargl",
                        "marker": {
                          "colorbar": {
                            "outlinewidth": 0,
                            "ticks": ""
                          }
                        }
                      }
                    ],
                    "bar": [
                      {
                        "error_x": {
                          "color": "#2a3f5f"
                        },
                        "error_y": {
                          "color": "#2a3f5f"
                        },
                        "marker": {
                          "line": {
                            "color": "#E5ECF6",
                            "width": 0.5
                          },
                          "pattern": {
                            "fillmode": "overlay",
                            "size": 10,
                            "solidity": 0.2
                          }
                        },
                        "type": "bar"
                      }
                    ],
                    "scattergeo": [
                      {
                        "type": "scattergeo",
                        "marker": {
                          "colorbar": {
                            "outlinewidth": 0,
                            "ticks": ""
                          }
                        }
                      }
                    ],
                    "scatterpolar": [
                      {
                        "type": "scatterpolar",
                        "marker": {
                          "colorbar": {
                            "outlinewidth": 0,
                            "ticks": ""
                          }
                        }
                      }
                    ],
                    "histogram": [
                      {
                        "marker": {
                          "pattern": {
                            "fillmode": "overlay",
                            "size": 10,
                            "solidity": 0.2
                          }
                        },
                        "type": "histogram"
                      }
                    ],
                    "scattergl": [
                      {
                        "type": "scattergl",
                        "marker": {
                          "colorbar": {
                            "outlinewidth": 0,
                            "ticks": ""
                          }
                        }
                      }
                    ],
                    "scatter3d": [
                      {
                        "type": "scatter3d",
                        "line": {
                          "colorbar": {
                            "outlinewidth": 0,
                            "ticks": ""
                          }
                        },
                        "marker": {
                          "colorbar": {
                            "outlinewidth": 0,
                            "ticks": ""
                          }
                        }
                      }
                    ],
                    "scattermapbox": [
                      {
                        "type": "scattermapbox",
                        "marker": {
                          "colorbar": {
                            "outlinewidth": 0,
                            "ticks": ""
                          }
                        }
                      }
                    ],
                    "scatterternary": [
                      {
                        "type": "scatterternary",
                        "marker": {
                          "colorbar": {
                            "outlinewidth": 0,
                            "ticks": ""
                          }
                        }
                      }
                    ],
                    "scattercarpet": [
                      {
                        "type": "scattercarpet",
                        "marker": {
                          "colorbar": {
                            "outlinewidth": 0,
                            "ticks": ""
                          }
                        }
                      }
                    ],
                    "carpet": [
                      {
                        "aaxis": {
                          "endlinecolor": "#2a3f5f",
                          "gridcolor": "white",
                          "linecolor": "white",
                          "minorgridcolor": "white",
                          "startlinecolor": "#2a3f5f"
                        },
                        "baxis": {
                          "endlinecolor": "#2a3f5f",
                          "gridcolor": "white",
                          "linecolor": "white",
                          "minorgridcolor": "white",
                          "startlinecolor": "#2a3f5f"
                        },
                        "type": "carpet"
                      }
                    ],
                    "table": [
                      {
                        "cells": {
                          "fill": {
                            "color": "#EBF0F8"
                          },
                          "line": {
                            "color": "white"
                          }
                        },
                        "header": {
                          "fill": {
                            "color": "#C8D4E3"
                          },
                          "line": {
                            "color": "white"
                          }
                        },
                        "type": "table"
                      }
                    ],
                    "barpolar": [
                      {
                        "marker": {
                          "line": {
                            "color": "#E5ECF6",
                            "width": 0.5
                          },
                          "pattern": {
                            "fillmode": "overlay",
                            "size": 10,
                            "solidity": 0.2
                          }
                        },
                        "type": "barpolar"
                      }
                    ],
                    "pie": [
                      {
                        "automargin": true,
                        "type": "pie"
                      }
                    ]
                  },
                  "layout": {
                    "autotypenumbers": "strict",
                    "colorway": [
                      "#636efa",
                      "#EF553B",
                      "#00cc96",
                      "#ab63fa",
                      "#FFA15A",
                      "#19d3f3",
                      "#FF6692",
                      "#B6E880",
                      "#FF97FF",
                      "#FECB52"
                    ],
                    "font": {
                      "color": "#2a3f5f"
                    },
                    "hovermode": "closest",
                    "hoverlabel": {
                      "align": "left"
                    },
                    "paper_bgcolor": "white",
                    "plot_bgcolor": "#E5ECF6",
                    "polar": {
                      "bgcolor": "#E5ECF6",
                      "angularaxis": {
                        "gridcolor": "white",
                        "linecolor": "white",
                        "ticks": ""
                      },
                      "radialaxis": {
                        "gridcolor": "white",
                        "linecolor": "white",
                        "ticks": ""
                      }
                    },
                    "ternary": {
                      "bgcolor": "#E5ECF6",
                      "aaxis": {
                        "gridcolor": "white",
                        "linecolor": "white",
                        "ticks": ""
                      },
                      "baxis": {
                        "gridcolor": "white",
                        "linecolor": "white",
                        "ticks": ""
                      },
                      "caxis": {
                        "gridcolor": "white",
                        "linecolor": "white",
                        "ticks": ""
                      }
                    },
                    "coloraxis": {
                      "colorbar": {
                        "outlinewidth": 0,
                        "ticks": ""
                      }
                    },
                    "colorscale": {
                      "sequential": [
                        [
                          0,
                          "#0d0887"
                        ],
                        [
                          0.1111111111111111,
                          "#46039f"
                        ],
                        [
                          0.2222222222222222,
                          "#7201a8"
                        ],
                        [
                          0.3333333333333333,
                          "#9c179e"
                        ],
                        [
                          0.4444444444444444,
                          "#bd3786"
                        ],
                        [
                          0.5555555555555556,
                          "#d8576b"
                        ],
                        [
                          0.6666666666666666,
                          "#ed7953"
                        ],
                        [
                          0.7777777777777778,
                          "#fb9f3a"
                        ],
                        [
                          0.8888888888888888,
                          "#fdca26"
                        ],
                        [
                          1,
                          "#f0f921"
                        ]
                      ],
                      "sequentialminus": [
                        [
                          0,
                          "#0d0887"
                        ],
                        [
                          0.1111111111111111,
                          "#46039f"
                        ],
                        [
                          0.2222222222222222,
                          "#7201a8"
                        ],
                        [
                          0.3333333333333333,
                          "#9c179e"
                        ],
                        [
                          0.4444444444444444,
                          "#bd3786"
                        ],
                        [
                          0.5555555555555556,
                          "#d8576b"
                        ],
                        [
                          0.6666666666666666,
                          "#ed7953"
                        ],
                        [
                          0.7777777777777778,
                          "#fb9f3a"
                        ],
                        [
                          0.8888888888888888,
                          "#fdca26"
                        ],
                        [
                          1,
                          "#f0f921"
                        ]
                      ],
                      "diverging": [
                        [
                          0,
                          "#8e0152"
                        ],
                        [
                          0.1,
                          "#c51b7d"
                        ],
                        [
                          0.2,
                          "#de77ae"
                        ],
                        [
                          0.3,
                          "#f1b6da"
                        ],
                        [
                          0.4,
                          "#fde0ef"
                        ],
                        [
                          0.5,
                          "#f7f7f7"
                        ],
                        [
                          0.6,
                          "#e6f5d0"
                        ],
                        [
                          0.7,
                          "#b8e186"
                        ],
                        [
                          0.8,
                          "#7fbc41"
                        ],
                        [
                          0.9,
                          "#4d9221"
                        ],
                        [
                          1,
                          "#276419"
                        ]
                      ]
                    },
                    "xaxis": {
                      "gridcolor": "white",
                      "linecolor": "white",
                      "ticks": "",
                      "title": {
                        "standoff": 15
                      },
                      "zerolinecolor": "white",
                      "automargin": true,
                      "zerolinewidth": 2
                    },
                    "yaxis": {
                      "gridcolor": "white",
                      "linecolor": "white",
                      "ticks": "",
                      "title": {
                        "standoff": 15
                      },
                      "zerolinecolor": "white",
                      "automargin": true,
                      "zerolinewidth": 2
                    },
                    "scene": {
                      "xaxis": {
                        "backgroundcolor": "#E5ECF6",
                        "gridcolor": "white",
                        "linecolor": "white",
                        "showbackground": true,
                        "ticks": "",
                        "zerolinecolor": "white",
                        "gridwidth": 2
                      },
                      "yaxis": {
                        "backgroundcolor": "#E5ECF6",
                        "gridcolor": "white",
                        "linecolor": "white",
                        "showbackground": true,
                        "ticks": "",
                        "zerolinecolor": "white",
                        "gridwidth": 2
                      },
                      "zaxis": {
                        "backgroundcolor": "#E5ECF6",
                        "gridcolor": "white",
                        "linecolor": "white",
                        "showbackground": true,
                        "ticks": "",
                        "zerolinecolor": "white",
                        "gridwidth": 2
                      }
                    },
                    "shapedefaults": {
                      "line": {
                        "color": "#2a3f5f"
                      }
                    },
                    "annotationdefaults": {
                      "arrowcolor": "#2a3f5f",
                      "arrowhead": 0,
                      "arrowwidth": 1
                    },
                    "geo": {
                      "bgcolor": "white",
                      "landcolor": "#E5ECF6",
                      "subunitcolor": "white",
                      "showland": true,
                      "showlakes": true,
                      "lakecolor": "white"
                    },
                    "title": {
                      "x": 0.05
                    },
                    "mapbox": {
                      "style": "light"
                    }
                  }
                },
                "xaxis": {
                  "anchor": "y",
                  "domain": [
                    0,
                    1
                  ],
                  "title": {
                    "text": "Date"
                  }
                },
                "yaxis": {
                  "anchor": "x",
                  "domain": [
                    0,
                    1
                  ],
                  "title": {
                    "text": "value"
                  }
                },
                "legend": {
                  "title": {
                    "text": "variable"
                  },
                  "tracegroupgap": 0
                },
                "margin": {
                  "t": 60
                }
              },
              "config": {
                "plotlyServerURL": "https://plot.ly"
              }
            },
            "text/html": [
              "<div>                            <div id=\"3bc8325c-d8cc-406f-b5a9-bd5b507cc0b8\" class=\"plotly-graph-div\" style=\"height:525px; width:100%;\"></div>            <script type=\"text/javascript\">                require([\"plotly\"], function(Plotly) {                    window.PLOTLYENV=window.PLOTLYENV || {};                                    if (document.getElementById(\"3bc8325c-d8cc-406f-b5a9-bd5b507cc0b8\")) {                    Plotly.newPlot(                        \"3bc8325c-d8cc-406f-b5a9-bd5b507cc0b8\",                        [{\"hovertemplate\":\"variable=Close\\u003cbr\\u003eDate=%{x}\\u003cbr\\u003evalue=%{y}\\u003cextra\\u003e\\u003c\\u002fextra\\u003e\",\"legendgroup\":\"Close\",\"line\":{\"color\":\"#636efa\",\"dash\":\"solid\"},\"marker\":{\"symbol\":\"circle\"},\"mode\":\"lines\",\"name\":\"Close\",\"orientation\":\"v\",\"showlegend\":true,\"x\":[\"2023-01-10T00:00:00\",\"2023-01-11T00:00:00\",\"2023-01-12T00:00:00\",\"2023-01-13T00:00:00\",\"2023-01-17T00:00:00\",\"2023-01-18T00:00:00\",\"2023-01-19T00:00:00\",\"2023-01-20T00:00:00\",\"2023-01-23T00:00:00\",\"2023-01-24T00:00:00\",\"2023-01-25T00:00:00\",\"2023-01-26T00:00:00\",\"2023-01-27T00:00:00\",\"2023-01-30T00:00:00\",\"2023-01-31T00:00:00\",\"2023-02-01T00:00:00\",\"2023-02-02T00:00:00\",\"2023-02-03T00:00:00\",\"2023-02-06T00:00:00\",\"2023-02-07T00:00:00\",\"2023-02-08T00:00:00\",\"2023-02-09T00:00:00\",\"2023-02-10T00:00:00\",\"2023-02-13T00:00:00\",\"2023-02-14T00:00:00\",\"2023-02-15T00:00:00\",\"2023-02-16T00:00:00\",\"2023-02-17T00:00:00\",\"2023-02-21T00:00:00\",\"2023-02-22T00:00:00\",\"2023-02-23T00:00:00\",\"2023-02-24T00:00:00\",\"2023-02-27T00:00:00\",\"2023-02-28T00:00:00\",\"2023-03-01T00:00:00\",\"2023-03-02T00:00:00\",\"2023-03-03T00:00:00\",\"2023-03-06T00:00:00\",\"2023-03-07T00:00:00\",\"2023-03-08T00:00:00\",\"2023-03-09T00:00:00\",\"2023-03-10T00:00:00\",\"2023-03-13T00:00:00\",\"2023-03-14T00:00:00\",\"2023-03-15T00:00:00\",\"2023-03-16T00:00:00\",\"2023-03-17T00:00:00\",\"2023-03-20T00:00:00\",\"2023-03-21T00:00:00\",\"2023-03-22T00:00:00\",\"2023-03-23T00:00:00\",\"2023-03-24T00:00:00\",\"2023-03-27T00:00:00\",\"2023-03-28T00:00:00\",\"2023-03-29T00:00:00\",\"2023-03-30T00:00:00\",\"2023-03-31T00:00:00\",\"2023-04-03T00:00:00\",\"2023-04-04T00:00:00\",\"2023-04-05T00:00:00\",\"2023-04-06T00:00:00\",\"2023-04-10T00:00:00\",\"2023-04-11T00:00:00\",\"2023-04-12T00:00:00\",\"2023-04-13T00:00:00\",\"2023-04-14T00:00:00\",\"2023-04-17T00:00:00\",\"2023-04-18T00:00:00\",\"2023-04-19T00:00:00\",\"2023-04-20T00:00:00\",\"2023-04-21T00:00:00\",\"2023-04-24T00:00:00\",\"2023-04-25T00:00:00\",\"2023-04-26T00:00:00\",\"2023-04-27T00:00:00\",\"2023-04-28T00:00:00\",\"2023-05-01T00:00:00\",\"2023-05-02T00:00:00\",\"2023-05-03T00:00:00\",\"2023-05-04T00:00:00\",\"2023-05-05T00:00:00\",\"2023-05-08T00:00:00\",\"2023-05-09T00:00:00\",\"2023-05-10T00:00:00\",\"2023-05-11T00:00:00\",\"2023-05-12T00:00:00\",\"2023-05-15T00:00:00\",\"2023-05-16T00:00:00\",\"2023-05-17T00:00:00\",\"2023-05-18T00:00:00\",\"2023-05-19T00:00:00\",\"2023-05-22T00:00:00\",\"2023-05-23T00:00:00\",\"2023-05-24T00:00:00\",\"2023-05-25T00:00:00\",\"2023-05-26T00:00:00\",\"2023-05-30T00:00:00\",\"2023-05-31T00:00:00\",\"2023-06-01T00:00:00\",\"2023-06-02T00:00:00\",\"2023-06-05T00:00:00\",\"2023-06-06T00:00:00\",\"2023-06-07T00:00:00\",\"2023-06-08T00:00:00\",\"2023-06-09T00:00:00\",\"2023-06-12T00:00:00\",\"2023-06-13T00:00:00\",\"2023-06-14T00:00:00\",\"2023-06-15T00:00:00\",\"2023-06-16T00:00:00\",\"2023-06-20T00:00:00\",\"2023-06-21T00:00:00\",\"2023-06-22T00:00:00\",\"2023-06-23T00:00:00\",\"2023-06-26T00:00:00\",\"2023-06-27T00:00:00\",\"2023-06-28T00:00:00\",\"2023-06-29T00:00:00\",\"2023-06-30T00:00:00\",\"2023-07-03T00:00:00\",\"2023-07-05T00:00:00\",\"2023-07-06T00:00:00\",\"2023-07-07T00:00:00\",\"2023-07-10T00:00:00\",\"2023-07-11T00:00:00\",\"2023-07-12T00:00:00\",\"2023-07-13T00:00:00\",\"2023-07-14T00:00:00\",\"2023-07-17T00:00:00\",\"2023-07-18T00:00:00\",\"2023-07-19T00:00:00\",\"2023-07-20T00:00:00\",\"2023-07-21T00:00:00\",\"2023-07-24T00:00:00\",\"2023-07-25T00:00:00\",\"2023-07-26T00:00:00\",\"2023-07-27T00:00:00\",\"2023-07-28T00:00:00\",\"2023-07-31T00:00:00\",\"2023-08-01T00:00:00\",\"2023-08-02T00:00:00\",\"2023-08-03T00:00:00\",\"2023-08-04T00:00:00\",\"2023-08-07T00:00:00\",\"2023-08-08T00:00:00\",\"2023-08-09T00:00:00\",\"2023-08-10T00:00:00\",\"2023-08-11T00:00:00\",\"2023-08-14T00:00:00\",\"2023-08-15T00:00:00\",\"2023-08-16T00:00:00\",\"2023-08-17T00:00:00\",\"2023-08-18T00:00:00\",\"2023-08-21T00:00:00\",\"2023-08-22T00:00:00\",\"2023-08-23T00:00:00\",\"2023-08-24T00:00:00\",\"2023-08-25T00:00:00\",\"2023-08-28T00:00:00\",\"2023-08-29T00:00:00\",\"2023-08-30T00:00:00\",\"2023-08-31T00:00:00\",\"2023-09-01T00:00:00\",\"2023-09-05T00:00:00\",\"2023-09-06T00:00:00\",\"2023-09-07T00:00:00\",\"2023-09-08T00:00:00\",\"2023-09-11T00:00:00\",\"2023-09-12T00:00:00\",\"2023-09-13T00:00:00\",\"2023-09-14T00:00:00\",\"2023-09-15T00:00:00\",\"2023-09-18T00:00:00\",\"2023-09-19T00:00:00\",\"2023-09-20T00:00:00\",\"2023-09-21T00:00:00\",\"2023-09-22T00:00:00\",\"2023-09-25T00:00:00\",\"2023-09-26T00:00:00\",\"2023-09-27T00:00:00\",\"2023-09-28T00:00:00\",\"2023-09-29T00:00:00\",\"2023-10-02T00:00:00\",\"2023-10-03T00:00:00\",\"2023-10-04T00:00:00\",\"2023-10-05T00:00:00\",\"2023-10-06T00:00:00\",\"2023-10-09T00:00:00\",\"2023-10-10T00:00:00\",\"2023-10-11T00:00:00\",\"2023-10-12T00:00:00\",\"2023-10-13T00:00:00\",\"2023-10-16T00:00:00\",\"2023-10-17T00:00:00\",\"2023-10-18T00:00:00\",\"2023-10-19T00:00:00\",\"2023-10-20T00:00:00\",\"2023-10-23T00:00:00\",\"2023-10-24T00:00:00\",\"2023-10-25T00:00:00\",\"2023-10-26T00:00:00\",\"2023-10-27T00:00:00\",\"2023-10-30T00:00:00\",\"2023-10-31T00:00:00\",\"2023-11-01T00:00:00\",\"2023-11-02T00:00:00\",\"2023-11-03T00:00:00\",\"2023-11-06T00:00:00\",\"2023-11-07T00:00:00\",\"2023-11-08T00:00:00\",\"2023-11-09T00:00:00\",\"2023-11-10T00:00:00\",\"2023-11-13T00:00:00\",\"2023-11-14T00:00:00\",\"2023-11-15T00:00:00\",\"2023-11-16T00:00:00\",\"2023-11-17T00:00:00\",\"2023-11-20T00:00:00\",\"2023-11-21T00:00:00\",\"2023-11-22T00:00:00\",\"2023-11-24T00:00:00\",\"2023-11-27T00:00:00\",\"2023-11-28T00:00:00\",\"2023-11-29T00:00:00\",\"2023-11-30T00:00:00\",\"2023-12-01T00:00:00\",\"2023-12-04T00:00:00\",\"2023-12-05T00:00:00\",\"2023-12-06T00:00:00\",\"2023-12-07T00:00:00\",\"2023-12-08T00:00:00\",\"2023-12-11T00:00:00\",\"2023-12-12T00:00:00\",\"2023-12-13T00:00:00\",\"2023-12-14T00:00:00\",\"2023-12-15T00:00:00\",\"2023-12-18T00:00:00\",\"2023-12-19T00:00:00\",\"2023-12-20T00:00:00\",\"2023-12-21T00:00:00\",\"2023-12-22T00:00:00\",\"2023-12-26T00:00:00\",\"2023-12-27T00:00:00\",\"2023-12-28T00:00:00\",\"2023-12-29T00:00:00\",\"2024-01-02T00:00:00\",\"2024-01-03T00:00:00\",\"2024-01-04T00:00:00\",\"2024-01-05T00:00:00\",\"2024-01-08T00:00:00\",\"2024-01-09T00:00:00\",\"2024-01-10T00:00:00\",\"2024-01-11T00:00:00\",\"2024-01-12T00:00:00\",\"2024-01-16T00:00:00\",\"2024-01-17T00:00:00\",\"2024-01-18T00:00:00\",\"2024-01-19T00:00:00\",\"2024-01-22T00:00:00\",\"2024-01-23T00:00:00\",\"2024-01-24T00:00:00\",\"2024-01-25T00:00:00\",\"2024-01-26T00:00:00\",\"2024-01-29T00:00:00\",\"2024-01-30T00:00:00\",\"2024-01-31T00:00:00\",\"2024-02-01T00:00:00\",\"2024-02-02T00:00:00\",\"2024-02-05T00:00:00\",\"2024-02-06T00:00:00\",\"2024-02-07T00:00:00\",\"2024-02-08T00:00:00\",\"2024-02-09T00:00:00\",\"2024-02-12T00:00:00\",\"2024-02-13T00:00:00\",\"2024-02-14T00:00:00\",\"2024-02-15T00:00:00\",\"2024-02-16T00:00:00\",\"2024-02-20T00:00:00\",\"2024-02-21T00:00:00\",\"2024-02-22T00:00:00\",\"2024-02-23T00:00:00\",\"2024-02-26T00:00:00\",\"2024-02-27T00:00:00\",\"2024-02-28T00:00:00\",\"2024-02-29T00:00:00\",\"2024-03-01T00:00:00\",\"2024-03-04T00:00:00\",\"2024-03-05T00:00:00\",\"2024-03-06T00:00:00\",\"2024-03-07T00:00:00\",\"2024-03-08T00:00:00\",\"2024-03-11T00:00:00\",\"2024-03-12T00:00:00\",\"2024-03-13T00:00:00\",\"2024-03-14T00:00:00\",\"2024-03-15T00:00:00\",\"2024-03-18T00:00:00\",\"2024-03-19T00:00:00\",\"2024-03-20T00:00:00\",\"2024-03-21T00:00:00\",\"2024-03-22T00:00:00\",\"2024-03-25T00:00:00\",\"2024-03-26T00:00:00\",\"2024-03-27T00:00:00\",\"2024-03-28T00:00:00\",\"2024-04-01T00:00:00\",\"2024-04-02T00:00:00\",\"2024-04-03T00:00:00\",\"2024-04-04T00:00:00\",\"2024-04-05T00:00:00\",\"2024-04-08T00:00:00\",\"2024-04-09T00:00:00\",\"2024-04-10T00:00:00\",\"2024-04-11T00:00:00\",\"2024-04-12T00:00:00\",\"2024-04-15T00:00:00\",\"2024-04-16T00:00:00\",\"2024-04-17T00:00:00\",\"2024-04-18T00:00:00\",\"2024-04-19T00:00:00\",\"2024-04-22T00:00:00\",\"2024-04-23T00:00:00\",\"2024-04-24T00:00:00\",\"2024-04-25T00:00:00\",\"2024-04-26T00:00:00\",\"2024-04-29T00:00:00\",\"2024-04-30T00:00:00\",\"2024-05-01T00:00:00\",\"2024-05-02T00:00:00\",\"2024-05-03T00:00:00\",\"2024-05-06T00:00:00\",\"2024-05-07T00:00:00\",\"2024-05-08T00:00:00\",\"2024-05-09T00:00:00\",\"2024-05-10T00:00:00\",\"2024-05-13T00:00:00\",\"2024-05-14T00:00:00\",\"2024-05-15T00:00:00\",\"2024-05-16T00:00:00\",\"2024-05-17T00:00:00\",\"2024-05-20T00:00:00\",\"2024-05-21T00:00:00\",\"2024-05-22T00:00:00\",\"2024-05-23T00:00:00\",\"2024-05-24T00:00:00\",\"2024-05-28T00:00:00\",\"2024-05-29T00:00:00\",\"2024-05-30T00:00:00\",\"2024-05-31T00:00:00\",\"2024-06-03T00:00:00\",\"2024-06-04T00:00:00\",\"2024-06-05T00:00:00\",\"2024-06-06T00:00:00\",\"2024-06-07T00:00:00\",\"2024-06-10T00:00:00\",\"2024-06-11T00:00:00\",\"2024-06-12T00:00:00\",\"2024-06-13T00:00:00\",\"2024-06-14T00:00:00\"],\"xaxis\":\"x\",\"y\":[0.025305937696484246,0.0301839444113213,0.04529714424850659,0.02649602889373803,0.02522950917417434,0.0023271679000339864,-0.017547824106953977,-0.0027243510550266836,0.005330822053839262,0.006090531477023589,0.02237923238838279,0.04061608961234958,0.024453506070023653,-9.986906191576878e-05,0.01557030166148406,0.02576726857504514,0.02928890915630859,0.01630786464856255,0.022803955581155288,0.02120149834998708,-0.0003651930159957002,-0.023524219491833812,-0.010507288325447596,0.007293446615888693,-0.006160675031081039,0.008076434694809384,0.002918928323210921,-0.0019134036544857886,-0.03384890723146217,-0.03476768658734888,-0.032704493524252254,-0.029579851130714888,-0.023678415365945872,-0.007116360077173945,-0.009580595458424934,-0.0071386982664714115,0.01951171106139487,0.01680416039431325,0.0050595535446997485,0.010533633607309347,-0.015835744069073284,-0.046280879329662176,-0.04839964681996352,-0.0165572846442074,-0.024462053294469856,0.011553159320268545,0.010516881582159871,0.021512843880104646,0.0181629817059206,0.007243499413712599,-0.007449791013537066,0.014661626032513773,0.006960027255981334,-0.008332221539954205,0.023291504471921992,0.02642993563188745,0.03388558395962703,0.03582078685322361,0.03250440208173078,0.015452436537797935,0.013507543720861038,0.0005371690071169152,-0.0029975797512350136,-0.001518331259066847,0.014298647070688737,0.007959608841296305,0.010515589956178416,0.010899068419033637,0.01481443028289302,-0.0038529067500465085,-0.0006305125882306558,-0.003169722210572053,-0.019822919507426224,-0.023898582222987887,0.0012859523877271526,0.009008261191681485,0.006955385423848144,0.011653683924591209,0.009010631824999536,-0.01780999372341375,-0.007965639788908959,-0.006688873791818478,0.0002190304816519187,0.011768179762667096,0.017130830099676794,-0.0025236201386438784,0.0006539982824684356,-0.0016561358953436143,0.005748264387840849,0.017080876130172368,0.016935876180303372,0.013897791981227595,0.009316602689643952,-0.010020450317207944,-0.010984945360120617,0.0033387275194718857,0.003313552095137967,0.00903919839455431,0.02576654040291467,0.031501517424538605,0.016715889103418258,0.018510110267063257,0.020607033682249774,0.017181214584194627,0.004616315702641026,0.015565378114984117,0.019961584890209397,0.02461542811188199,0.03090652670205042,0.021994071720268408,0.007761422595524767,-0.003946772467564911,-0.0015336859517941582,-0.021443862245495424,-0.018418224337270063,-0.0023128864515350967,0.0033282763525285426,0.003658680065935206,0.02297904264370402,0.028223040138969754,0.015831085342538565,0.007465336754810571,0.0010038155997361845,-0.00819991254391405,-0.0030014512571436224,0.006500577692518998,0.022267611958026113,0.02417249611796245,0.025110791989636595,0.026165572502130172,0.02037314019691988,0.005810993231187587,0.006434015770225929,0.007425155296332468,0.0027483719317040077,0.0006807821657546574,0.000685327415705162,0.010428035802644613,0.007872925798307074,0.002280921529309622,-0.011881251014273066,-0.008099173228689329,-0.0223749073940434,-0.015586484145992952,-0.017078971730191586,-0.009778184037205036,-0.006549322489949173,-0.002599565978231833,-0.005785392898734628,-0.01314447451371996,-0.01380201322338619,-0.021809966704517316,-0.020745501601309196,-0.019765112850371136,-0.010760161717105919,0.007681241567312527,0.001374301248343654,0.007918170264496649,0.007754292123111845,0.024817876285915086,0.017852048771478137,0.030343591091088872,0.02518199668456051,0.014529359783060452,-0.006567073178661274,-0.013752373447487977,-0.010782957160727996,-0.0060913224442067735,-0.007260736009210007,0.0006497116744248104,0.01231006999770038,-0.004837489740211589,-0.010806327094362442,-0.007381599505453097,-0.017782753862424335,-0.04303464310918094,-0.029643117515382622,-0.02603301329938367,-0.038757280930433444,-0.02912238286859259,-0.00667520154317086,-0.006853978009345141,-0.011448139966527427,-0.010124358817296666,-0.0032678242450500587,-0.009425380005112925,0.004807359172429597,0.011586939664243037,0.030254750877048115,0.02708707850635017,0.02134881962932507,0.004552621994141691,0.008637322768327557,0.0034000686883669338,-0.01410249418004282,-0.01681261570686232,-0.024183466439460066,-0.03638467214261857,-0.028827644384359117,-0.029869173339240947,-0.03309082871272952,-0.02526973948762793,-0.011650141188120855,-0.012900628091405157,0.012163813634098127,0.04319373217023109,0.05681883437934726,0.04723179836529716,0.04381316625164933,0.033937031900272314,0.00712468096028678,0.013526958212325812,0.01027547054237873,0.026648412611688904,0.028031088507483988,0.03708279361261933,0.022841520900791924,0.0314632854074051,0.010066555134596943,0.011805147477957497,0.011197927825501192,0.00815231433341463,0.0014738020207639838,0.0029519261329081893,0.003028254730595782,0.00831154901992583,0.004850896662870108,0.0036642026010992633,0.0003299524203109001,0.004001660829237695,0.002393139577057154,0.01153839560251825,0.016292311935414777,0.034026130290289267,0.02962892704726199,0.019644913014739245,0.021372202142279,0.022877838074607013,-0.004772240960954008,0.0014607711319973452,0.0091625222939166,0.0077668499905767015,0.0035108322539422407,0.017842671493830894,0.0055062539825155975,-0.0021134954774137808,-0.014527351615635582,-0.01956008260727879,-0.01856901972689589,-0.0014948607437623553,0.0025989914324598858,0.01643870299257108,0.019224243846183785,0.01854802102612579,0.0006950524701157936,-0.003360913603280063,-0.0001469121772022233,0.012682926386233775,0.01410253132184715,0.020692749929610954,0.027359499906084057,0.023930160851908817,0.010269848171062738,0.01604593028042965,0.012359940687757604,-0.005184536001924003,0.002394551893904604,0.014138115166513966,0.002602101058535682,0.006274952829336636,0.03103268664149343,0.018471026877646807,0.01376146668783284,0.016970248539673487,0.0002023674402885185,0.0009431431651610919,0.00737760362138363,-0.003377609918882563,-0.008459170319557709,0.006315034660182461,0.017752695417948522,0.011566081138757168,0.012889249487652679,0.020265880811249668,0.01803793572252968,0.0011421781503906782,0.009797216744881113,0.012393480170967894,0.0004930431781081295,0.0068700188527433224,0.013159006744056238,-0.002205754314409652,-0.0019929841627770468,0.01875135299250178,0.01212815802175391,0.0002719364666960622,-0.003700292354861371,0.0030854919253963807,-0.002072674125941998,0.008702857723264752,0.013980847364103667,0.022075763236888417,0.0133835687331008,0.005993088206933285,0.00515500118394697,0.0016646326821352013,0.0018209291791148469,-0.001790841379911562,0.0011557775224058943,-0.01949412400452448,-0.00891031271700554,-0.006609820827327335,0.0009246753624623637,-0.010236808579213889,0.009562939880476764,-0.014728982621121808,-0.027895431015057648,-0.030876986716634046,-0.026749222266257266,-0.03632762692618634,-0.03119506692577767,-0.009420807046679391,0.004201427398648771,0.009662518833785619,0.007916216259033895,0.02611219682593209,0.020480417064411865,-0.0072844181309391015,-0.010062122577084113,0.0030539994420700593,0.005943813732379212,0.012682460073949721,0.02975335906661973,0.033102450816221166,0.029537817335946848,0.018505983804635508,0.008366409409913388,0.011841230837911904,0.02405156477993895,0.016246604991881203,0.0163958105101575,0.017412972525263574,0.015284840009476018,9.43513006057572e-05,-0.005177047367223783,-1.8906147922822386e-05,-0.00047175598099463614,-0.009948467729599527,-0.01372077266390919,0.002677174226105982,-0.0031024478435157706,-0.0026837719638573014,0.0161584398585165,0.022795520655809087,0.012512203442848487,0.014782180364865477,0.016070327903154588,0.012434762675849306,0.014464957148350492,0.01628955160973336],\"yaxis\":\"y\",\"type\":\"scatter\"}],                        {\"template\":{\"data\":{\"histogram2dcontour\":[{\"type\":\"histogram2dcontour\",\"colorbar\":{\"outlinewidth\":0,\"ticks\":\"\"},\"colorscale\":[[0.0,\"#0d0887\"],[0.1111111111111111,\"#46039f\"],[0.2222222222222222,\"#7201a8\"],[0.3333333333333333,\"#9c179e\"],[0.4444444444444444,\"#bd3786\"],[0.5555555555555556,\"#d8576b\"],[0.6666666666666666,\"#ed7953\"],[0.7777777777777778,\"#fb9f3a\"],[0.8888888888888888,\"#fdca26\"],[1.0,\"#f0f921\"]]}],\"choropleth\":[{\"type\":\"choropleth\",\"colorbar\":{\"outlinewidth\":0,\"ticks\":\"\"}}],\"histogram2d\":[{\"type\":\"histogram2d\",\"colorbar\":{\"outlinewidth\":0,\"ticks\":\"\"},\"colorscale\":[[0.0,\"#0d0887\"],[0.1111111111111111,\"#46039f\"],[0.2222222222222222,\"#7201a8\"],[0.3333333333333333,\"#9c179e\"],[0.4444444444444444,\"#bd3786\"],[0.5555555555555556,\"#d8576b\"],[0.6666666666666666,\"#ed7953\"],[0.7777777777777778,\"#fb9f3a\"],[0.8888888888888888,\"#fdca26\"],[1.0,\"#f0f921\"]]}],\"heatmap\":[{\"type\":\"heatmap\",\"colorbar\":{\"outlinewidth\":0,\"ticks\":\"\"},\"colorscale\":[[0.0,\"#0d0887\"],[0.1111111111111111,\"#46039f\"],[0.2222222222222222,\"#7201a8\"],[0.3333333333333333,\"#9c179e\"],[0.4444444444444444,\"#bd3786\"],[0.5555555555555556,\"#d8576b\"],[0.6666666666666666,\"#ed7953\"],[0.7777777777777778,\"#fb9f3a\"],[0.8888888888888888,\"#fdca26\"],[1.0,\"#f0f921\"]]}],\"heatmapgl\":[{\"type\":\"heatmapgl\",\"colorbar\":{\"outlinewidth\":0,\"ticks\":\"\"},\"colorscale\":[[0.0,\"#0d0887\"],[0.1111111111111111,\"#46039f\"],[0.2222222222222222,\"#7201a8\"],[0.3333333333333333,\"#9c179e\"],[0.4444444444444444,\"#bd3786\"],[0.5555555555555556,\"#d8576b\"],[0.6666666666666666,\"#ed7953\"],[0.7777777777777778,\"#fb9f3a\"],[0.8888888888888888,\"#fdca26\"],[1.0,\"#f0f921\"]]}],\"contourcarpet\":[{\"type\":\"contourcarpet\",\"colorbar\":{\"outlinewidth\":0,\"ticks\":\"\"}}],\"contour\":[{\"type\":\"contour\",\"colorbar\":{\"outlinewidth\":0,\"ticks\":\"\"},\"colorscale\":[[0.0,\"#0d0887\"],[0.1111111111111111,\"#46039f\"],[0.2222222222222222,\"#7201a8\"],[0.3333333333333333,\"#9c179e\"],[0.4444444444444444,\"#bd3786\"],[0.5555555555555556,\"#d8576b\"],[0.6666666666666666,\"#ed7953\"],[0.7777777777777778,\"#fb9f3a\"],[0.8888888888888888,\"#fdca26\"],[1.0,\"#f0f921\"]]}],\"surface\":[{\"type\":\"surface\",\"colorbar\":{\"outlinewidth\":0,\"ticks\":\"\"},\"colorscale\":[[0.0,\"#0d0887\"],[0.1111111111111111,\"#46039f\"],[0.2222222222222222,\"#7201a8\"],[0.3333333333333333,\"#9c179e\"],[0.4444444444444444,\"#bd3786\"],[0.5555555555555556,\"#d8576b\"],[0.6666666666666666,\"#ed7953\"],[0.7777777777777778,\"#fb9f3a\"],[0.8888888888888888,\"#fdca26\"],[1.0,\"#f0f921\"]]}],\"mesh3d\":[{\"type\":\"mesh3d\",\"colorbar\":{\"outlinewidth\":0,\"ticks\":\"\"}}],\"scatter\":[{\"fillpattern\":{\"fillmode\":\"overlay\",\"size\":10,\"solidity\":0.2},\"type\":\"scatter\"}],\"parcoords\":[{\"type\":\"parcoords\",\"line\":{\"colorbar\":{\"outlinewidth\":0,\"ticks\":\"\"}}}],\"scatterpolargl\":[{\"type\":\"scatterpolargl\",\"marker\":{\"colorbar\":{\"outlinewidth\":0,\"ticks\":\"\"}}}],\"bar\":[{\"error_x\":{\"color\":\"#2a3f5f\"},\"error_y\":{\"color\":\"#2a3f5f\"},\"marker\":{\"line\":{\"color\":\"#E5ECF6\",\"width\":0.5},\"pattern\":{\"fillmode\":\"overlay\",\"size\":10,\"solidity\":0.2}},\"type\":\"bar\"}],\"scattergeo\":[{\"type\":\"scattergeo\",\"marker\":{\"colorbar\":{\"outlinewidth\":0,\"ticks\":\"\"}}}],\"scatterpolar\":[{\"type\":\"scatterpolar\",\"marker\":{\"colorbar\":{\"outlinewidth\":0,\"ticks\":\"\"}}}],\"histogram\":[{\"marker\":{\"pattern\":{\"fillmode\":\"overlay\",\"size\":10,\"solidity\":0.2}},\"type\":\"histogram\"}],\"scattergl\":[{\"type\":\"scattergl\",\"marker\":{\"colorbar\":{\"outlinewidth\":0,\"ticks\":\"\"}}}],\"scatter3d\":[{\"type\":\"scatter3d\",\"line\":{\"colorbar\":{\"outlinewidth\":0,\"ticks\":\"\"}},\"marker\":{\"colorbar\":{\"outlinewidth\":0,\"ticks\":\"\"}}}],\"scattermapbox\":[{\"type\":\"scattermapbox\",\"marker\":{\"colorbar\":{\"outlinewidth\":0,\"ticks\":\"\"}}}],\"scatterternary\":[{\"type\":\"scatterternary\",\"marker\":{\"colorbar\":{\"outlinewidth\":0,\"ticks\":\"\"}}}],\"scattercarpet\":[{\"type\":\"scattercarpet\",\"marker\":{\"colorbar\":{\"outlinewidth\":0,\"ticks\":\"\"}}}],\"carpet\":[{\"aaxis\":{\"endlinecolor\":\"#2a3f5f\",\"gridcolor\":\"white\",\"linecolor\":\"white\",\"minorgridcolor\":\"white\",\"startlinecolor\":\"#2a3f5f\"},\"baxis\":{\"endlinecolor\":\"#2a3f5f\",\"gridcolor\":\"white\",\"linecolor\":\"white\",\"minorgridcolor\":\"white\",\"startlinecolor\":\"#2a3f5f\"},\"type\":\"carpet\"}],\"table\":[{\"cells\":{\"fill\":{\"color\":\"#EBF0F8\"},\"line\":{\"color\":\"white\"}},\"header\":{\"fill\":{\"color\":\"#C8D4E3\"},\"line\":{\"color\":\"white\"}},\"type\":\"table\"}],\"barpolar\":[{\"marker\":{\"line\":{\"color\":\"#E5ECF6\",\"width\":0.5},\"pattern\":{\"fillmode\":\"overlay\",\"size\":10,\"solidity\":0.2}},\"type\":\"barpolar\"}],\"pie\":[{\"automargin\":true,\"type\":\"pie\"}]},\"layout\":{\"autotypenumbers\":\"strict\",\"colorway\":[\"#636efa\",\"#EF553B\",\"#00cc96\",\"#ab63fa\",\"#FFA15A\",\"#19d3f3\",\"#FF6692\",\"#B6E880\",\"#FF97FF\",\"#FECB52\"],\"font\":{\"color\":\"#2a3f5f\"},\"hovermode\":\"closest\",\"hoverlabel\":{\"align\":\"left\"},\"paper_bgcolor\":\"white\",\"plot_bgcolor\":\"#E5ECF6\",\"polar\":{\"bgcolor\":\"#E5ECF6\",\"angularaxis\":{\"gridcolor\":\"white\",\"linecolor\":\"white\",\"ticks\":\"\"},\"radialaxis\":{\"gridcolor\":\"white\",\"linecolor\":\"white\",\"ticks\":\"\"}},\"ternary\":{\"bgcolor\":\"#E5ECF6\",\"aaxis\":{\"gridcolor\":\"white\",\"linecolor\":\"white\",\"ticks\":\"\"},\"baxis\":{\"gridcolor\":\"white\",\"linecolor\":\"white\",\"ticks\":\"\"},\"caxis\":{\"gridcolor\":\"white\",\"linecolor\":\"white\",\"ticks\":\"\"}},\"coloraxis\":{\"colorbar\":{\"outlinewidth\":0,\"ticks\":\"\"}},\"colorscale\":{\"sequential\":[[0.0,\"#0d0887\"],[0.1111111111111111,\"#46039f\"],[0.2222222222222222,\"#7201a8\"],[0.3333333333333333,\"#9c179e\"],[0.4444444444444444,\"#bd3786\"],[0.5555555555555556,\"#d8576b\"],[0.6666666666666666,\"#ed7953\"],[0.7777777777777778,\"#fb9f3a\"],[0.8888888888888888,\"#fdca26\"],[1.0,\"#f0f921\"]],\"sequentialminus\":[[0.0,\"#0d0887\"],[0.1111111111111111,\"#46039f\"],[0.2222222222222222,\"#7201a8\"],[0.3333333333333333,\"#9c179e\"],[0.4444444444444444,\"#bd3786\"],[0.5555555555555556,\"#d8576b\"],[0.6666666666666666,\"#ed7953\"],[0.7777777777777778,\"#fb9f3a\"],[0.8888888888888888,\"#fdca26\"],[1.0,\"#f0f921\"]],\"diverging\":[[0,\"#8e0152\"],[0.1,\"#c51b7d\"],[0.2,\"#de77ae\"],[0.3,\"#f1b6da\"],[0.4,\"#fde0ef\"],[0.5,\"#f7f7f7\"],[0.6,\"#e6f5d0\"],[0.7,\"#b8e186\"],[0.8,\"#7fbc41\"],[0.9,\"#4d9221\"],[1,\"#276419\"]]},\"xaxis\":{\"gridcolor\":\"white\",\"linecolor\":\"white\",\"ticks\":\"\",\"title\":{\"standoff\":15},\"zerolinecolor\":\"white\",\"automargin\":true,\"zerolinewidth\":2},\"yaxis\":{\"gridcolor\":\"white\",\"linecolor\":\"white\",\"ticks\":\"\",\"title\":{\"standoff\":15},\"zerolinecolor\":\"white\",\"automargin\":true,\"zerolinewidth\":2},\"scene\":{\"xaxis\":{\"backgroundcolor\":\"#E5ECF6\",\"gridcolor\":\"white\",\"linecolor\":\"white\",\"showbackground\":true,\"ticks\":\"\",\"zerolinecolor\":\"white\",\"gridwidth\":2},\"yaxis\":{\"backgroundcolor\":\"#E5ECF6\",\"gridcolor\":\"white\",\"linecolor\":\"white\",\"showbackground\":true,\"ticks\":\"\",\"zerolinecolor\":\"white\",\"gridwidth\":2},\"zaxis\":{\"backgroundcolor\":\"#E5ECF6\",\"gridcolor\":\"white\",\"linecolor\":\"white\",\"showbackground\":true,\"ticks\":\"\",\"zerolinecolor\":\"white\",\"gridwidth\":2}},\"shapedefaults\":{\"line\":{\"color\":\"#2a3f5f\"}},\"annotationdefaults\":{\"arrowcolor\":\"#2a3f5f\",\"arrowhead\":0,\"arrowwidth\":1},\"geo\":{\"bgcolor\":\"white\",\"landcolor\":\"#E5ECF6\",\"subunitcolor\":\"white\",\"showland\":true,\"showlakes\":true,\"lakecolor\":\"white\"},\"title\":{\"x\":0.05},\"mapbox\":{\"style\":\"light\"}}},\"xaxis\":{\"anchor\":\"y\",\"domain\":[0.0,1.0],\"title\":{\"text\":\"Date\"}},\"yaxis\":{\"anchor\":\"x\",\"domain\":[0.0,1.0],\"title\":{\"text\":\"value\"}},\"legend\":{\"title\":{\"text\":\"variable\"},\"tracegroupgap\":0},\"margin\":{\"t\":60}},                        {\"responsive\": true}                    ).then(function(){\n",
              "                            \n",
              "var gd = document.getElementById('3bc8325c-d8cc-406f-b5a9-bd5b507cc0b8');\n",
              "var x = new MutationObserver(function (mutations, observer) {{\n",
              "        var display = window.getComputedStyle(gd).display;\n",
              "        if (!display || display === 'none') {{\n",
              "            console.log([gd, 'removed!']);\n",
              "            Plotly.purge(gd);\n",
              "            observer.disconnect();\n",
              "        }}\n",
              "}});\n",
              "\n",
              "// Listen for the removal of the full notebook cells\n",
              "var notebookContainer = gd.closest('#notebook-container');\n",
              "if (notebookContainer) {{\n",
              "    x.observe(notebookContainer, {childList: true});\n",
              "}}\n",
              "\n",
              "// Listen for the clearing of the current output cell\n",
              "var outputEl = gd.closest('.output');\n",
              "if (outputEl) {{\n",
              "    x.observe(outputEl, {childList: true});\n",
              "}}\n",
              "\n",
              "                        })                };                });            </script>        </div>"
            ]
          },
          "metadata": {}
        }
      ]
    },
    {
      "cell_type": "markdown",
      "source": [
        "#### Max Drawdown\n",
        "\n",
        "A maximum drawdown (MDD) is the maximum observed loss from a peak to a trough of a portfolio, before a new peak is attained. Maximum drawdown is an indicator of downside risk over a specified time period.\n",
        "\n",
        "\n",
        "$ MDD= \\frac{Trough\\;Value−Peak\\;Value}{Peak\\;Value}$\n",
        "\n"
      ],
      "metadata": {
        "id": "q1lR8nnoSpU4"
      }
    },
    {
      "cell_type": "code",
      "source": [
        "def max_drawdown(returns):\n",
        "    cumulative_return = (returns + 1).cumprod()\n",
        "    peak = cumulative_return.expanding(min_periods=1).max()\n",
        "    drawdown = (cumulative_return / peak) - 1  # Change cumulative_returns to cumulative_return\n",
        "    return drawdown.min()\n",
        "\n",
        "returns = df['Close'].pct_change()\n",
        "max_drawdowns = max_drawdown(returns)\n",
        "print('Max drawdown is: '+ str(max_drawdowns * 100))\n",
        "\n"
      ],
      "metadata": {
        "execution": {
          "iopub.status.busy": "2023-10-22T14:20:41.933755Z",
          "iopub.execute_input": "2023-10-22T14:20:41.934187Z",
          "iopub.status.idle": "2023-10-22T14:20:41.94519Z",
          "shell.execute_reply.started": "2023-10-22T14:20:41.934156Z",
          "shell.execute_reply": "2023-10-22T14:20:41.944112Z"
        },
        "trusted": true,
        "id": "2KfuIFGVSpU5",
        "colab": {
          "base_uri": "https://localhost:8080/"
        },
        "outputId": "e0edb4ea-1c51-42c8-96c7-4dd58fcb7e81"
      },
      "execution_count": 11,
      "outputs": [
        {
          "output_type": "stream",
          "name": "stdout",
          "text": [
            "Max drawdown is: -10.290747938968625\n"
          ]
        }
      ]
    }
  ]
}